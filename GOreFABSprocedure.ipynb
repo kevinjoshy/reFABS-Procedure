{
 "cells": [
  {
   "cell_type": "code",
   "execution_count": 139,
   "metadata": {},
   "outputs": [],
   "source": [
    "import pandas as pd \n",
    "import re as re \n",
    "import numpy as np\n",
    "import time \n",
    "import multiprocessing\n",
    "pd.set_option('display.max_colwidth', -1)\n",
    "pd.set_option('chained_assignment',None)\n",
    "\n",
    "geneColID = [\"chromosome\",\"source\",\"type\",\"start\",\"end\",\"score\",\"strand\",\"phase\",\"gene_symbol\",\"gene_ensID\",\"length\",\"entrezid\"]\n",
    "geneAnnotationDF = pd.read_csv('entrez_id/geneAnnotationsDF_Selected_entrezID.csv', sep=',', comment='#', low_memory=False, header=0, names=geneColID)\n",
    "chromosomeColID = ['chromosome','source','type','start','end','score','strand','phase']\n",
    "chromosomesDF = pd.read_csv('chromosomesDF.csv', sep=',', comment='#', low_memory=False, header=0, names=chromosomeColID)"
   ]
  },
  {
   "cell_type": "code",
   "execution_count": 140,
   "metadata": {},
   "outputs": [],
   "source": [
    "chromosomesDF = chromosomesDF.drop(columns=['score', 'strand', 'phase'])\n",
    "geneAnnotationDF = geneAnnotationDF.drop(columns=['score', 'phase'])"
   ]
  },
  {
   "cell_type": "code",
   "execution_count": 151,
   "metadata": {},
   "outputs": [],
   "source": [
    "# Making a list of DataFrames \n",
    "u = ['1','2','3','4','5','6','7','8','9','10','11','12','13','14','15','16','17','18','19','20','21','22','MT','X','Y']\n",
    "geneDFL = []\n",
    "for c in u:\n",
    "    geneDF = geneAnnotationDF.loc[geneAnnotationDF['chromosome'] == c]\n",
    "    geneDFL.append(geneDF)"
   ]
  },
  {
   "cell_type": "code",
   "execution_count": 142,
   "metadata": {},
   "outputs": [],
   "source": [
    "#I need random chromosome combined with random position (Somewhere between start and end)\n",
    "def nBindingsites(n):   \n",
    "    chrIDS = ['1','2','3','4','5','6','7','8','9','10','11','12','13','14','15','16','17','18','19','20','21','22','MT','X','Y']\n",
    "    randChr = chromosomesDF.sample(n, replace=True) # Replace allows same row to be sampled again \n",
    "    randChr['BindingSite'] = (np.random.uniform(1, randChr.end).round()).astype(int) \n",
    "    randChrL = [] \n",
    "    for i in chrIDS: \n",
    "        DF = randChr.loc[randChr['chromosome'] == i]\n",
    "        sortDF = DF.iloc[(DF['BindingSite'] - 0).argsort()] \n",
    "        randChrL.append(sortDF)\n",
    "    return randChrL\n",
    "    #Returns a DataFrame with Random sample number with random BindingSite"
   ]
  },
  {
   "cell_type": "code",
   "execution_count": 143,
   "metadata": {},
   "outputs": [],
   "source": [
    "#MIGHT NOT NEED ANY OF THIS ACTUALLY COULD BE FASTER \n",
    "# Distance from Body\n",
    "def distanceBody(start, end, site):\n",
    "    return min(abs(start - site), abs(end - site))\n",
    "\n",
    "# Distance from TSS\n",
    "def distanceTSS(start, site):\n",
    "    return abs(start - site)\n",
    "\n",
    "#Returns True or False to wheather the binding site is within the window size to Body | Start Site below\n",
    "def isNearBody(start, end, site, window):\n",
    "    if abs(start - site) <= window:\n",
    "        return True\n",
    "    elif abs(end - site) <= window:\n",
    "        return True\n",
    "    else:\n",
    "        return False \n",
    "    \n",
    "def isNearTSS(start, site, window):\n",
    "    if abs(start - site) <= window:\n",
    "        return True\n",
    "    else: \n",
    "        return False\n",
    "#-------------------------------------------- ## Should there be anymore iterations? Checker function \n",
    "def inRange(start, site, window):\n",
    "    if start > (site + window):\n",
    "        return False \n",
    "    else:\n",
    "        return True"
   ]
  },
  {
   "cell_type": "markdown",
   "metadata": {},
   "source": [
    "# For: k = Infinity "
   ]
  },
  {
   "cell_type": "code",
   "execution_count": 144,
   "metadata": {},
   "outputs": [],
   "source": [
    "#Given specific chromosome, rdm binding site, window: Will calculate number of nearby gene(bodies) from its site.\n",
    "def genesInWindowBody(chrNum, site, window):\n",
    "    count = 0\n",
    "    geneL = []\n",
    "    geneDF = geneAnnotationDF.loc[geneAnnotationDF['chromosome'] == str(chrNum)]\n",
    "    \n",
    "    for index, row in geneDF.iterrows():\n",
    "        if isNearBody(row['start'], row['end'], site, window):\n",
    "            count = count + 1\n",
    "            geneL.append(row['gene_symbol'])\n",
    "    return(count, geneL)\n",
    "\n",
    "#Given specific chromosome, rdm binding site, window: Will calculate number of nearby gene(TSS) from the site.\n",
    "def genesInWindowTSS(chrNum, site, window):\n",
    "    count = 0\n",
    "    geneL = []\n",
    "    geneDF = geneAnnotationDF.loc[geneAnnotationDF['chromosome'] == str(chrNum)]\n",
    "    \n",
    "    for index, row in geneDF.iterrows():\n",
    "        if isNearTSS(row['start'], site, window):\n",
    "            count = count + 1\n",
    "            geneL.append(row['gene_symbol'])    \n",
    "    return(count, geneL)"
   ]
  },
  {
   "cell_type": "markdown",
   "metadata": {},
   "source": [
    "## <font color=#4286f4>Given a window: Find all the genes inside window for the dataframe of chromosomes</font>"
   ]
  },
  {
   "cell_type": "code",
   "execution_count": 145,
   "metadata": {},
   "outputs": [],
   "source": [
    "# Takes DF and Window size: Returnes Total Gene count and List of Genes Near Body of GENE (K=INFINITY)\n",
    "def geneCountNsitesBody(df, window):\n",
    "    count = 0 \n",
    "    geneL = []\n",
    "    \n",
    "    for index, row in df.iterrows():\n",
    "        c = genesInWindowBody(row['chromosome'], row['BindingSite'], window)\n",
    "        count = count + c[0]\n",
    "        geneL.append(c[1])\n",
    "    return(count, geneL)\n",
    "\n",
    "# Takes DF and Window size: Returnes Total Gene count and List of Genes Near TSS of GENE (K=INFINITY)\n",
    "def geneCountNsitesTSS(df, window):\n",
    "    count = 0 \n",
    "    geneL = []\n",
    "    \n",
    "    for index, row in df.iterrows():\n",
    "        c = genesInWindowTSS(row['chromosome'], row['BindingSite'], window)\n",
    "        count = count + c[0]\n",
    "        geneL.append(c[1])\n",
    "    return(count, geneL)"
   ]
  },
  {
   "cell_type": "markdown",
   "metadata": {},
   "source": [
    "# For: k = 1"
   ]
  },
  {
   "cell_type": "code",
   "execution_count": 146,
   "metadata": {},
   "outputs": [],
   "source": [
    "#Given specific chromosome, rdm binding site, window: Will calculate closest gene(body) from its site. and distance\n",
    "def closestGeneBody(chrNum, site, window):\n",
    "    s = time.time()\n",
    "    geneDF = geneAnnotationDF.loc[geneAnnotationDF['chromosome'] == str(chrNum)]\n",
    "    startG = geneDF.iloc[(geneDF['start'] - site).abs().argsort()].head(1)\n",
    "    endG = geneDF.iloc[(geneDF['end'] - site).abs().argsort()].head(1)\n",
    "    bodyG = geneDF[(geneDF['start'] <= site) & (geneDF['end'] >= site)]\n",
    "\n",
    "    if bodyG.empty == False: \n",
    "        return(bodyG['entrezid'].iloc[0])\n",
    "    \n",
    "    startDist = distanceBody(startG['start'].iloc[0], startG['end'].iloc[0], site)\n",
    "    endDist = distanceBody(endG['start'].iloc[0], endG['end'].iloc[0], site)\n",
    "    if startDist < endDist:\n",
    "        if isNearBody(startG['start'].iloc[0], startG['end'].iloc[0], site, window):\n",
    "            return(startG['entrezid'].iloc[0])\n",
    "        else:\n",
    "            return('No Result')\n",
    "    else:\n",
    "        if isNearBody(endG['start'].iloc[0], endG['end'].iloc[0], site, window):\n",
    "            return(endG['entrezid'].iloc[0])\n",
    "        else:\n",
    "            return('No Result')\n",
    "        \n",
    "def closestGeneBody2(site, count, window):\n",
    "    geneDF = geneDFL[count]\n",
    "    startG = geneDF.iloc[(geneDF['start'] - site).abs().argsort()].head(1)\n",
    "    endG = geneDF.iloc[(geneDF['end'] - site).abs().argsort()].head(1)\n",
    "    bodyG = geneDF[(geneDF['start'] <= site) & (geneDF['end'] >= site)]\n",
    "    \n",
    "    if bodyG.empty == False: \n",
    "        return(bodyG['entrezid'].iloc[0])\n",
    "    \n",
    "    startDist = distanceBody(startG['start'].iloc[0], startG['end'].iloc[0], site)\n",
    "    endDist = distanceBody(endG['start'].iloc[0], endG['end'].iloc[0], site)\n",
    "    if startDist < endDist:\n",
    "        if isNearBody(startG['start'].iloc[0], startG['end'].iloc[0], site, window):\n",
    "            return(startG['entrezid'].iloc[0])\n",
    "        else:\n",
    "            return('No Result')\n",
    "    else:\n",
    "        if isNearBody(endG['start'].iloc[0], endG['end'].iloc[0], site, window):\n",
    "            return(endG['entrezid'].iloc[0])\n",
    "        else:\n",
    "            return('No Result')\n",
    "        \n",
    "\n",
    "#Given specific chromosome, rdm binding site, window: Will calculate closest gene(TSS) from its site. and Distance\n",
    "def closestGeneTSS(chrNum, site, window):\n",
    "    geneDF = geneAnnotationDF.loc[geneAnnotationDF['chromosome'] == str(chrNum)]\n",
    "    startG = geneDF.iloc[(geneDF['start'] - site).abs().argsort()].head(1)\n",
    "    if startG.empty: \n",
    "        return('No Result')\n",
    "    elif isNearTSS(startG['start'].iloc[0], site, window):\n",
    "        return(startG['entrezid'].iloc[0])\n",
    "    else:\n",
    "        return('No Result')"
   ]
  },
  {
   "cell_type": "code",
   "execution_count": 147,
   "metadata": {},
   "outputs": [],
   "source": [
    "# Takes DF and Window size: Returnes Total Gene count and List of CLOSEST Gene Near its BODY for every site(K = 1)\n",
    "def closestGenesNsitesBody(df, window):\n",
    "    geneL = []   \n",
    "    for row in zip(df['chromosome'].astype(str), df['BindingSite'].values):\n",
    "        x = closestGeneBody(row[0], row[1], window)\n",
    "        if x == 'No Result':\n",
    "            pass\n",
    "        else:\n",
    "            geneL.append(x)\n",
    "    return(geneL)\n",
    "    \n",
    "def closestGenesNsitesBody2(DFL_BS, window):\n",
    "    geneList = []\n",
    "    for v in range(len(DFL_BS)):\n",
    "        d = DFL_BS[v]\n",
    "        if d.empty == False:\n",
    "            for row in zip(d['BindingSite'].values):\n",
    "                x = closestGeneBody2(row[0], v, window)\n",
    "                geneList.append(x)         \n",
    "    return geneList\n",
    "     \n",
    "# Takes DF and Window size: Returnes Total Gene count and List of CLOSEST Gene Near its TSS for every site (K = 1)\n",
    "def closestGenesNsitesTSS(df, window):\n",
    "    count = 0 \n",
    "    geneL = []\n",
    "    \n",
    "    for index, row in df.iterrows():\n",
    "        x = closestGeneTSS(row['chromosome'], row['BindingSite'], window)\n",
    "        geneL.append(x[0])\n",
    "        count = count + 1\n",
    "    return(count, geneL)"
   ]
  },
  {
   "cell_type": "code",
   "execution_count": 148,
   "metadata": {},
   "outputs": [],
   "source": [
    "def closestGenesNsitesBodyFASTER(df, window):\n",
    "    num_processes = multiprocessing.cpu_count()\n",
    "    chunk_size = int(df.shape[0]/num_processes)\n",
    "#     chunks = [df.ix[df.index[i:i + chunk_size]] for i in range(0, df.shape[0], chunk_size)]\n",
    "    chunks = [df.iloc[i:i + chunk_size,:] for i in range(0, df.shape[0], chunk_size)]\n",
    "    return chunks\n",
    "#     geneL = []   \n",
    "#     for row in zip(df['chromosome'].astype(str), df['BindingSite'].values):\n",
    "#         x = closestGeneBody(row[0], row[1], window)\n",
    "#         if x == 'No Result':\n",
    "#             pass\n",
    "#         else:\n",
    "#             geneL.append(x)\n",
    "#     return(geneL)"
   ]
  },
  {
   "cell_type": "code",
   "execution_count": 153,
   "metadata": {
    "scrolled": false
   },
   "outputs": [],
   "source": [
    "# Adds a window range by adding COl lowB and upperB \n",
    "def addWindow(window):\n",
    "    geneWindowDF = geneDFL.copy()\n",
    "    for d in geneWindowDF:\n",
    "        d['lowB'] = d.start - window\n",
    "        d['upperB'] = d.end + window\n",
    "    return(geneWindowDF)"
   ]
  },
  {
   "cell_type": "code",
   "execution_count": 405,
   "metadata": {},
   "outputs": [],
   "source": [
    "def isinRange(x, lowB, upperB):\n",
    "    if (x >= lowB) & (x <= upperB):\n",
    "        return True \n",
    "    else:\n",
    "        return False\n",
    "\n",
    "def closestGeneNSitesBody(DFL_BS, window):\n",
    "    groupedGenes = addWindow(window)\n",
    "    outputGeneL = []\n",
    "    pos = 0 # position in the DF we are looking at \n",
    "    \n",
    "    for sitesDF in DFL_BS: # DFL_BS is dataframe of chomosomes with N_BS ordered by the chromosome number  \n",
    "        cutoff = 0 # Don't need to search above this index so cut it off\n",
    "        \n",
    "        for site in zip(sitesDF['BindingSite'].values):\n",
    "            endCut = len(groupedGenes[pos])\n",
    "            df = groupedGenes[pos].iloc[cutoff:endCut]  #endCut is the length of groupedGenes[pos]\n",
    "            gene = df.loc[((df.lowB - site[0]) * (df.upperB - site[0])) < 0]#.head(1)\n",
    "            if gene.empty == True:\n",
    "                outputGeneL.append('No Result')\n",
    "            else:\n",
    "                outputGeneL.append(gene.iat[0,9])\n",
    "        pos = pos + 1\n",
    "    return outputGeneL"
   ]
  },
  {
   "cell_type": "code",
   "execution_count": 411,
   "metadata": {
    "scrolled": true
   },
   "outputs": [],
   "source": [
    "g = nBindingsites(10000)"
   ]
  },
  {
   "cell_type": "code",
   "execution_count": 414,
   "metadata": {},
   "outputs": [
    {
     "data": {
      "text/plain": [
       "11.959319114685059"
      ]
     },
     "execution_count": 414,
     "metadata": {},
     "output_type": "execute_result"
    }
   ],
   "source": [
    "s = time.time()\n",
    "out = closestGeneNSitesBody(g, 90)\n",
    "time.time() - s"
   ]
  },
  {
   "cell_type": "code",
   "execution_count": null,
   "metadata": {},
   "outputs": [],
   "source": [
    "def closestGeneNSitesBodyCUTOFF(DFL_BS, window):\n",
    "    groupedGenes = addWindow(window)\n",
    "    outputGeneL = []\n",
    "    pos = 0 # position in the DF we are looking at \n",
    "    \n",
    "    for sitesDF in DFL_BS: # DFL_BS is dataframe of chomosomes with N_BS ordered by the chromosome number  \n",
    "        cutoff = 0 # Don't need to search above this index so cut it off\n",
    "        \n",
    "        for site in zip(sitesDF['BindingSite'].values):\n",
    "            endCut = len(groupedGenes[pos])\n",
    "            df = groupedGenes[pos].iloc[cutoff:endCut]  #endCut is the length of groupedGenes[pos]\n",
    "            gene = df.loc[((df.lowB - site[0]) * (df.upperB - site[0])) < 0]#.head(1)\n",
    "            if gene.empty == True:\n",
    "                outputGeneL.append('No Result')\n",
    "            else:\n",
    "                outputGeneL.append(gene.iat[0,9])\n",
    "        pos = pos + 1\n",
    "    return outputGeneL"
   ]
  },
  {
   "cell_type": "code",
   "execution_count": null,
   "metadata": {},
   "outputs": [],
   "source": []
  },
  {
   "cell_type": "code",
   "execution_count": null,
   "metadata": {},
   "outputs": [],
   "source": []
  }
 ],
 "metadata": {
  "kernelspec": {
   "display_name": "Python 3",
   "language": "python",
   "name": "python3"
  },
  "language_info": {
   "codemirror_mode": {
    "name": "ipython",
    "version": 3
   },
   "file_extension": ".py",
   "mimetype": "text/x-python",
   "name": "python",
   "nbconvert_exporter": "python",
   "pygments_lexer": "ipython3",
   "version": "3.7.3"
  }
 },
 "nbformat": 4,
 "nbformat_minor": 2
}
