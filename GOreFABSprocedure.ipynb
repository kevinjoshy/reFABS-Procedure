{
 "cells": [
  {
   "cell_type": "code",
   "execution_count": 27,
   "metadata": {},
   "outputs": [],
   "source": [
    "import pandas as pd \n",
    "import re as re \n",
    "import numpy as np\n",
    "import time \n",
    "import mygene\n",
    "pd.set_option('display.max_colwidth', -1)\n",
    "pd.set_option('mode.chained_assignment', 'warn')\n",
    "\n",
    "geneColID = [\"chromosome\",\"source\",\"type\",\"start\",\"end\",\"score\",\"strand\",\"phase\",\"gene_symbol\",\"gene_ensID\",\"length\",\"entrezid\"]\n",
    "geneAnnotationDF = pd.read_csv('entrez_id/geneAnnotationsDF_Selected_entrezID.csv', sep=',', comment='#', low_memory=False, header=0, names=geneColID)\n",
    "chromosomeColID = ['chromosome','source','type','start','end','score','strand','phase']\n",
    "chromosomesDF = pd.read_csv('chromosomesDF.csv', sep=',', comment='#', low_memory=False, header=0, names=chromosomeColID)"
   ]
  },
  {
   "cell_type": "code",
   "execution_count": 28,
   "metadata": {},
   "outputs": [],
   "source": [
    "#I need random chromosome combined with random position (Somewhere between start and end)\n",
    "def nBindingsites(n):    \n",
    "    randChr = chromosomesDF.sample(n, replace=True)\n",
    "    randChr['BindingSite'] = (np.random.uniform(1, randChr.end).round()).astype(int)\n",
    "    return randChr\n",
    "    #Returns a DataFrame with Random sample number with random BindingSite"
   ]
  },
  {
   "cell_type": "code",
   "execution_count": 29,
   "metadata": {},
   "outputs": [],
   "source": [
    "#MIGHT NOT NEED ANY OF THIS ACTUALLY COULD BE FASTER \n",
    "\n",
    "# Distance from Body\n",
    "def distanceBody(start, end, site):\n",
    "    return min(abs(start - site), abs(end - site))\n",
    "\n",
    "# Distance from TSS\n",
    "def distanceTSS(start, site):\n",
    "    return abs(start - site)\n",
    "\n",
    "#Returns True or False to wheather the binding site is within the window size to Body | Start Site below\n",
    "def isNearBody(start, end, site, window):\n",
    "    if abs(start - site) <= window:\n",
    "        return True\n",
    "    elif abs(end - site) <= window:\n",
    "        return True\n",
    "    else:\n",
    "        return False \n",
    "    \n",
    "def isNearTSS(start, site, window):\n",
    "    if abs(start - site) <= window:\n",
    "        return True\n",
    "    else: \n",
    "        return False\n",
    "#-------------------------------------------- ## Should there be anymore iterations? Checker function \n",
    "def inRange(start, site, window):\n",
    "    if start > (site + window):\n",
    "        return False \n",
    "    else:\n",
    "        return True"
   ]
  },
  {
   "cell_type": "markdown",
   "metadata": {},
   "source": [
    "# For: k = Infinity "
   ]
  },
  {
   "cell_type": "code",
   "execution_count": 30,
   "metadata": {},
   "outputs": [],
   "source": [
    "#Given specific chromosome, rdm binding site, window: Will calculate number of nearby gene(bodies) from its site.\n",
    "def genesInWindowBody(chrNum, site, window):\n",
    "    count = 0\n",
    "    geneL = []\n",
    "    geneDF = geneAnnotationDF.loc[geneAnnotationDF['chromosome'] == str(chrNum)]\n",
    "    \n",
    "    for index, row in geneDF.iterrows():\n",
    "        if isNearBody(row['start'], row['end'], site, window):\n",
    "            count = count + 1\n",
    "            geneL.append(row['gene_symbol'])\n",
    "    return(count, geneL)\n",
    "\n",
    "#Given specific chromosome, rdm binding site, window: Will calculate number of nearby gene(TSS) from the site.\n",
    "def genesInWindowTSS(chrNum, site, window):\n",
    "    count = 0\n",
    "    geneL = []\n",
    "    geneDF = geneAnnotationDF.loc[geneAnnotationDF['chromosome'] == str(chrNum)]\n",
    "    \n",
    "    for index, row in geneDF.iterrows():\n",
    "        if isNearTSS(row['start'], site, window):\n",
    "            count = count + 1\n",
    "            geneL.append(row['gene_symbol'])    \n",
    "    return(count, geneL)"
   ]
  },
  {
   "cell_type": "markdown",
   "metadata": {},
   "source": [
    "## <font color=#4286f4>Given a window: Find all the genes inside window for the dataframe of chromosomes</font>"
   ]
  },
  {
   "cell_type": "code",
   "execution_count": 31,
   "metadata": {},
   "outputs": [],
   "source": [
    "# Takes DF and Window size: Returnes Total Gene count and List of Genes Near Body of GENE (K=INFINITY)\n",
    "def geneCountNsitesBody(df, window):\n",
    "    count = 0 \n",
    "    geneL = []\n",
    "    \n",
    "    for index, row in df.iterrows():\n",
    "        c = genesInWindowBody(row['chromosome'], row['BindingSite'], window)\n",
    "        count = count + c[0]\n",
    "        geneL.append(c[1])\n",
    "    return(count, geneL)\n",
    "\n",
    "# Takes DF and Window size: Returnes Total Gene count and List of Genes Near TSS of GENE (K=INFINITY)\n",
    "def geneCountNsitesTSS(df, window):\n",
    "    count = 0 \n",
    "    geneL = []\n",
    "    \n",
    "    for index, row in df.iterrows():\n",
    "        c = genesInWindowTSS(row['chromosome'], row['BindingSite'], window)\n",
    "        count = count + c[0]\n",
    "        geneL.append(c[1])\n",
    "    return(count, geneL)"
   ]
  },
  {
   "cell_type": "markdown",
   "metadata": {},
   "source": [
    "# For: k = 1"
   ]
  },
  {
   "cell_type": "code",
   "execution_count": 32,
   "metadata": {},
   "outputs": [],
   "source": [
    "#Given specific chromosome, rdm binding site, window: Will calculate closest gene(body) from its site. and distance\n",
    "def closestGeneBody(chrNum, site, window):\n",
    "    geneDF = geneAnnotationDF.loc[geneAnnotationDF['chromosome'] == str(chrNum)]\n",
    "    \n",
    "    startG = geneDF.iloc[(geneDF['start'] - site).abs().argsort()].head(1)\n",
    "    endG = geneDF.iloc[(geneDF['end'] - site).abs().argsort()].head(1)\n",
    "    \n",
    "    startDist = distanceBody(startG['start'].iloc[0], startG['end'].iloc[0], site)\n",
    "    endDist = distanceBody(endG['start'].iloc[0], endG['end'].iloc[0], site)\n",
    "    \n",
    "    if startDist < endDist:\n",
    "        if isNearBody(startG['start'].iloc[0], startG['end'].iloc[0], site, window):\n",
    "            return(startG['gene_symbol'].iloc[0], startDist)\n",
    "        else:\n",
    "            return('No Result')\n",
    "    else:\n",
    "        if isNearBody(endG['start'].iloc[0], endG['end'].iloc[0], site, window):\n",
    "            return(endG['gene_symbol'].iloc[0], endDist)\n",
    "        else:\n",
    "            return('No Result')\n",
    "\n",
    "#Given specific chromosome, rdm binding site, window: Will calculate closest gene(TSS) from its site. and Distance\n",
    "def closestGeneTSS(chrNum, site, window):\n",
    "    out = ['No Result', 9**90]\n",
    "    geneDF = geneAnnotationDF.loc[geneAnnotationDF['chromosome'] == str(chrNum)]\n",
    "    \n",
    "    for index, row in geneDF.iterrows():\n",
    "        if isNearTSS(row['start'], site, window):\n",
    "            if distanceTSS(row['start'], site) < out[1]:\n",
    "                out[0] = row['gene_symbol']\n",
    "                out[1] = distanceTSS(row['start'], site)\n",
    "    # Returns closest gene and its distance from TSS. \n",
    "    return(out)"
   ]
  },
  {
   "cell_type": "code",
   "execution_count": 33,
   "metadata": {},
   "outputs": [],
   "source": [
    "# Takes DF and Window size: Returnes Total Gene count and List of CLOSEST Gene Near its BODY for every site(K = 1)\n",
    "def closestGenesNsitesBody(df, window):\n",
    "    count = 0 \n",
    "    geneL = []\n",
    "    \n",
    "    for row in zip(df['chromosome'].astype(str), df['BindingSite'].values):\n",
    "        x = closestGeneBody(row[0], row[1], window)\n",
    "        if x == 'No Result':\n",
    "            pass\n",
    "        else:\n",
    "            geneL.append(x[0])\n",
    "            count = count + 1\n",
    "    return(count, geneL)\n",
    "    \n",
    "# Takes DF and Window size: Returnes Total Gene count and List of CLOSEST Gene Near its TSS for every site (K = 1)\n",
    "def closestGenesNsitesTSS(df, window):\n",
    "    count = 0 \n",
    "    geneL = []\n",
    "    \n",
    "    for index, row in df.iterrows():\n",
    "        x = closestGeneTSS(row['chromosome'], row['BindingSite'], window)\n",
    "        geneL.append(x[0])\n",
    "        count = count + 1\n",
    "    return(count, geneL)"
   ]
  },
  {
   "cell_type": "code",
   "execution_count": null,
   "metadata": {},
   "outputs": [],
   "source": []
  }
 ],
 "metadata": {
  "kernelspec": {
   "display_name": "Python 3",
   "language": "python",
   "name": "python3"
  },
  "language_info": {
   "codemirror_mode": {
    "name": "ipython",
    "version": 3
   },
   "file_extension": ".py",
   "mimetype": "text/x-python",
   "name": "python",
   "nbconvert_exporter": "python",
   "pygments_lexer": "ipython3",
   "version": "3.7.3"
  }
 },
 "nbformat": 4,
 "nbformat_minor": 2
}
