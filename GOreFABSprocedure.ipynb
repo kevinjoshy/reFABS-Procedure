{
 "cells": [
  {
   "cell_type": "code",
   "execution_count": 1,
   "metadata": {},
   "outputs": [],
   "source": [
    "import pandas as pd \n",
    "import re as re \n",
    "import numpy as np\n",
    "import time \n",
    "import multiprocessing\n",
    "pd.set_option('display.max_colwidth', -1)\n",
    "pd.set_option('chained_assignment',None)\n",
    "\n",
    "geneColID = [\"chromosome\",\"source\",\"type\",\"start\",\"end\",\"score\",\"strand\",\"phase\",\"gene_symbol\",\"gene_ensID\",\"length\",\"entrezid\"]\n",
    "geneAnnotationDF = pd.read_csv('entrez_id/geneAnnotationsDF_Selected_entrezID.csv', sep=',', comment='#', low_memory=False, header=0, names=geneColID)\n",
    "chromosomeColID = ['chromosome','source','type','start','end','score','strand','phase']\n",
    "chromosomesDF = pd.read_csv('chromosomesDF.csv', sep=',', comment='#', low_memory=False, header=0, names=chromosomeColID)"
   ]
  },
  {
   "cell_type": "code",
   "execution_count": 2,
   "metadata": {},
   "outputs": [],
   "source": [
    "#Dropping unneccesary stuff and resetting index from 0\n",
    "chromosomesDF = chromosomesDF.drop(columns=['score', 'strand', 'phase'])\n",
    "geneAnnotationDF = geneAnnotationDF.drop(columns=['score', 'phase'])\n",
    "chromosomesDF = chromosomesDF.reset_index()\n",
    "geneAnnotationDF = geneAnnotationDF.reset_index()"
   ]
  },
  {
   "cell_type": "code",
   "execution_count": 3,
   "metadata": {},
   "outputs": [],
   "source": [
    "# Making a list of DataFrames to be used in future functions in var geneDFL\n",
    "u = ['1','2','3','4','5','6','7','8','9','10','11','12','13','14','15','16','17','18','19','20','21','22','MT','X','Y']\n",
    "geneDFL = []\n",
    "for c in u:\n",
    "    geneDF = geneAnnotationDF.loc[geneAnnotationDF['chromosome'] == c]\n",
    "    geneDF = geneDF.drop(columns=['index'])\n",
    "    geneDFL.append(geneDF)"
   ]
  },
  {
   "cell_type": "code",
   "execution_count": 4,
   "metadata": {},
   "outputs": [],
   "source": [
    "#I need random chromosome combined with random position (Somewhere between start and end). Returns list ordered by chr num with sites. \n",
    "# probability that a randomly chosen gene is in a certain chromosome. Ordered from 1 - MT,X,Y | As shown chromosome 1 has highest prob of selection\n",
    "probabilityL = [0.10328990533320836,\n",
    "                0.06298622176398913,\n",
    "                0.056378292248570626,\n",
    "                0.03875714687412129,\n",
    "                0.043959133939450744,\n",
    "                0.05164495266660418,\n",
    "                0.04658355984628362,\n",
    "                0.03463304902052676,\n",
    "                0.03828849939075827,\n",
    "                0.03786671665573156,\n",
    "                0.06411097572406037,\n",
    "                0.05136376417658637,\n",
    "                0.01762114537444934,\n",
    "                0.030180897928578122,\n",
    "                0.030837004405286344,\n",
    "                0.04199081450932608,\n",
    "                0.05844034117536789,\n",
    "                0.01405942450089043,\n",
    "                0.0687974505576905,\n",
    "                0.02746274252507264,\n",
    "                0.01241915830911988,\n",
    "                0.02230762020807948,\n",
    "                0.0007029712250445215,\n",
    "                0.04213140875433499,\n",
    "                0.0031868028868684973]\n",
    "\n",
    "def nBindingsites(n):   \n",
    "    chrIDS = ['1','2','3','4','5','6','7','8','9','10','11','12','13','14','15','16','17','18','19','20','21','22','MT','X','Y']\n",
    "    randChr = chromosomesDF.sample(n, replace=True, weights=probabilityL) # Replace allows same row to be sampled again \n",
    "    randChr['BindingSite'] = (np.random.uniform(randChr.start, randChr.end).round()).astype(int) \n",
    "    randChrL = [] \n",
    "    for i in chrIDS: \n",
    "        DF = randChr.loc[randChr['chromosome'] == i]\n",
    "        sortDF = DF.iloc[(DF['BindingSite'] - 0).argsort()] \n",
    "        randChrL.append(sortDF)\n",
    "    return randChrL\n",
    "    #Returns a DataFrame with Random sample number with random BindingSite"
   ]
  },
  {
   "cell_type": "code",
   "execution_count": 5,
   "metadata": {},
   "outputs": [],
   "source": [
    "#MIGHT NOT NEED ANY OF THIS ACTUALLY COULD BE FASTER \n",
    "# Distance from Body\n",
    "def distanceBody(start, end, site):\n",
    "    return min(abs(start - site), abs(end - site))\n",
    "\n",
    "# Distance from TSS\n",
    "def distanceTSS(start, site):\n",
    "    return abs(start - site)\n",
    "\n",
    "#Returns True or False to wheather the binding site is within the window size to Body | Start Site below\n",
    "def isNearBody(start, end, site, window):\n",
    "    if abs(start - site) <= window:\n",
    "        return True\n",
    "    elif abs(end - site) <= window:\n",
    "        return True\n",
    "    else:\n",
    "        return False \n",
    "    \n",
    "def isNearTSS(start, site, window):\n",
    "    if abs(start - site) <= window:\n",
    "        return True\n",
    "    else: \n",
    "        return False\n",
    "#-------------------------------------------- ## Should there be anymore iterations? Checker function \n",
    "def inRange(start, site, window):\n",
    "    if start > (site + window):\n",
    "        return False \n",
    "    else:\n",
    "        return True"
   ]
  },
  {
   "cell_type": "markdown",
   "metadata": {},
   "source": [
    "# For: k = Infinity "
   ]
  },
  {
   "cell_type": "code",
   "execution_count": 6,
   "metadata": {},
   "outputs": [],
   "source": [
    "#Given specific chromosome, rdm binding site, window: Will calculate number of nearby gene(bodies) from its site.\n",
    "def genesInWindowBody(chrNum, site, window):\n",
    "    count = 0\n",
    "    geneL = []\n",
    "    geneDF = geneAnnotationDF.loc[geneAnnotationDF['chromosome'] == str(chrNum)]\n",
    "    \n",
    "    for index, row in geneDF.iterrows():\n",
    "        if isNearBody(row['start'], row['end'], site, window):\n",
    "            count = count + 1\n",
    "            geneL.append(row['gene_symbol'])\n",
    "    return(count, geneL)\n",
    "\n",
    "#Given specific chromosome, rdm binding site, window: Will calculate number of nearby gene(TSS) from the site.\n",
    "def genesInWindowTSS(chrNum, site, window):\n",
    "    count = 0\n",
    "    geneL = []\n",
    "    geneDF = geneAnnotationDF.loc[geneAnnotationDF['chromosome'] == str(chrNum)]\n",
    "    \n",
    "    for index, row in geneDF.iterrows():\n",
    "        if isNearTSS(row['start'], site, window):\n",
    "            count = count + 1\n",
    "            geneL.append(row['gene_symbol'])    \n",
    "    return(count, geneL)"
   ]
  },
  {
   "cell_type": "markdown",
   "metadata": {},
   "source": [
    "## <font color=#4286f4>Given a window: Find all the genes inside window for the dataframe of chromosomes</font>"
   ]
  },
  {
   "cell_type": "code",
   "execution_count": 7,
   "metadata": {},
   "outputs": [],
   "source": [
    "# Takes DF and Window size: Returnes Total Gene count and List of Genes Near Body of GENE (K=INFINITY)\n",
    "def geneCountNsitesBody(df, window):\n",
    "    count = 0 \n",
    "    geneL = []\n",
    "    \n",
    "    for index, row in df.iterrows():\n",
    "        c = genesInWindowBody(row['chromosome'], row['BindingSite'], window)\n",
    "        count = count + c[0]\n",
    "        geneL.append(c[1])\n",
    "    return(count, geneL)\n",
    "\n",
    "# Takes DF and Window size: Returnes Total Gene count and List of Genes Near TSS of GENE (K=INFINITY)\n",
    "def geneCountNsitesTSS(df, window):\n",
    "    count = 0 \n",
    "    geneL = []\n",
    "    \n",
    "    for index, row in df.iterrows():\n",
    "        c = genesInWindowTSS(row['chromosome'], row['BindingSite'], window)\n",
    "        count = count + c[0]\n",
    "        geneL.append(c[1])\n",
    "    return(count, geneL)"
   ]
  },
  {
   "cell_type": "markdown",
   "metadata": {},
   "source": [
    "# For: k = 1"
   ]
  },
  {
   "cell_type": "code",
   "execution_count": 8,
   "metadata": {},
   "outputs": [],
   "source": [
    "def closestGeneBody2(site, count, window):\n",
    "    geneDF = geneDFL[count]\n",
    "    startG = geneDF.iloc[(geneDF['start'] - site).abs().argsort()].head(1)\n",
    "    endG = geneDF.iloc[(geneDF['end'] - site).abs().argsort()].head(1)\n",
    "    bodyG = geneDF[(geneDF['start'] <= site) & (geneDF['end'] >= site)]\n",
    "    \n",
    "    if bodyG.empty == False: \n",
    "        return(bodyG['entrezid'].iloc[0])\n",
    "    \n",
    "    startDist = distanceBody(startG['start'].iloc[0], startG['end'].iloc[0], site)\n",
    "    endDist = distanceBody(endG['start'].iloc[0], endG['end'].iloc[0], site)\n",
    "    if startDist < endDist:\n",
    "        if isNearBody(startG['start'].iloc[0], startG['end'].iloc[0], site, window):\n",
    "            return(startG['entrezid'].iloc[0])\n",
    "        else:\n",
    "            return('No Result')\n",
    "    else:\n",
    "        if isNearBody(endG['start'].iloc[0], endG['end'].iloc[0], site, window):\n",
    "            return(endG['entrezid'].iloc[0])\n",
    "        else:\n",
    "            return('No Result')\n",
    "        \n",
    "\n",
    "#Given specific chromosome, rdm binding site, window: Will calculate closest gene(TSS) from its site. and Distance\n",
    "def closestGeneTSS(chrNum, site, window):\n",
    "    geneDF = geneAnnotationDF.loc[geneAnnotationDF['chromosome'] == str(chrNum)]\n",
    "    startG = geneDF.iloc[(geneDF['start'] - site).abs().argsort()].head(1)\n",
    "    if startG.empty: \n",
    "        return('No Result')\n",
    "    elif isNearTSS(startG['start'].iloc[0], site, window):\n",
    "        return(startG['entrezid'].iloc[0])\n",
    "    else:\n",
    "        return('No Result')"
   ]
  },
  {
   "cell_type": "code",
   "execution_count": 9,
   "metadata": {},
   "outputs": [],
   "source": [
    "def closestGenesNsitesBody2(DFL_BS, window):\n",
    "    geneList = []\n",
    "    for v in range(len(DFL_BS)):\n",
    "        d = DFL_BS[v]\n",
    "        if d.empty == False:\n",
    "            for row in zip(d['BindingSite'].values):\n",
    "                x = closestGeneBody2(row[0], v, window)\n",
    "                geneList.append(x)         \n",
    "    return geneList\n",
    "     \n",
    "# Takes DF and Window size: Returnes Total Gene count and List of CLOSEST Gene Near its TSS for every site (K = 1)\n",
    "def closestGenesNsitesTSS(df, window):\n",
    "    count = 0 \n",
    "    geneL = []\n",
    "    \n",
    "    for index, row in df.iterrows():\n",
    "        x = closestGeneTSS(row['chromosome'], row['BindingSite'], window)\n",
    "        geneL.append(x[0])\n",
    "        count = count + 1\n",
    "    return(count, geneL)"
   ]
  },
  {
   "cell_type": "code",
   "execution_count": 10,
   "metadata": {},
   "outputs": [],
   "source": [
    "# Trying Multiprocessing \n",
    "def closestGenesNsitesBodyFASTER(df, window):\n",
    "    num_processes = multiprocessing.cpu_count()\n",
    "    chunk_size = int(df.shape[0]/num_processes)\n",
    "#     chunks = [df.ix[df.index[i:i + chunk_size]] for i in range(0, df.shape[0], chunk_size)]\n",
    "    chunks = [df.iloc[i:i + chunk_size,:] for i in range(0, df.shape[0], chunk_size)]\n",
    "    return chunks\n",
    "#     geneL = []   \n",
    "#     for row in zip(df['chromosome'].astype(str), df['BindingSite'].values):\n",
    "#         x = closestGeneBody(row[0], row[1], window)\n",
    "#         if x == 'No Result':\n",
    "#             pass\n",
    "#         else:\n",
    "#             geneL.append(x)\n",
    "#     return(geneL)"
   ]
  },
  {
   "cell_type": "code",
   "execution_count": 11,
   "metadata": {
    "scrolled": false
   },
   "outputs": [],
   "source": [
    "# Adds midpoint in gene and upper and lower bound values to geneDFL based on size of window or nearby genes \n",
    "def addWindow(window):\n",
    "    geneWindowDFL = geneDFL\n",
    "    outList = []\n",
    "    for dfG in geneWindowDFL: # ordered by chromosome 1- MT,X,Y\n",
    "        dfG = dfG.reset_index() # Reseting index from 0 to length so that it can be used for rest of the function \n",
    "        dfG = dfG.drop(columns=['index']) # Dropping old index\n",
    "\n",
    "        dfIndexMax = len(dfG) - 1         \n",
    "        for i, row in dfG.iterrows():\n",
    "            dfG.at[i, 'midBody'] = (((row['length'] / 2)) + row['start']) # Middle of gene body \n",
    "            \n",
    "            if i == 0 or i == dfIndexMax: # Case for start and end sites\n",
    "                if i == 0:\n",
    "                    dfG.at[i, 'lowB'] = max(row['start'] - window, 1) # end of the gene below position\n",
    "                    dfG.at[i, 'upperB'] = min(row['end'] + window, ((dfG.iat[i+1, 3] - row['end']) / 2) + row['end'])\n",
    "                else: # index max case \n",
    "                    dfG.at[i, 'lowB'] = max(row['start'] - window, row['start'] - ((row['start'] - dfG.iat[i-1, 4]) / 2)) \n",
    "                    dfG.at[i, 'upperB'] = row['end'] + window\n",
    "            else: # i > 0 or i < len(geneDF) - 1 \n",
    "                dfG.at[i, 'lowB'] = max(row['start'] - window, row['start'] - ((row['start'] - dfG.iat[i-1, 4]) / 2)) # end of the gene below position [i,4]\n",
    "                dfG.at[i, 'upperB'] = min(row['end'] + window, ((dfG.iat[i+1, 3] - row['end']) / 2) + row['end']) # Start of the gene above position [i,3]\n",
    "        dfG['midBody'] = dfG['midBody'].astype(int)\n",
    "        dfG['lowB'] = dfG['lowB'].astype(int)\n",
    "        dfG['upperB'] = dfG['upperB'].astype(int)\n",
    "        outList.append(dfG)\n",
    "\n",
    "    return(outList)"
   ]
  },
  {
   "cell_type": "code",
   "execution_count": 64,
   "metadata": {},
   "outputs": [],
   "source": [
    "# # Given window size and list of ordered binding sites by chr num and size in each DF in list. Outputs list of all gene entrezid closest to esch site or 'no result'.\n",
    "# def closestGeneNSitesBodyCUTOFF(DFL_BS, window):\n",
    "#     groupedGenes = addWindow(window)\n",
    "#     outputGeneL = []\n",
    "#     pos = 0 # position in the DF we are looking at \n",
    "    \n",
    "#     for sitesDF in DFL_BS: # DFL_BS is dataframe of chomosomes with N_BS ordered by the chromosome number  \n",
    "#         df = groupedGenes[pos]   #.iloc[cutoff:endCut]  #endCut is the length of groupedGenes[pos]\n",
    "        \n",
    "#         for site in zip(sitesDF['BindingSite'].values):\n",
    "#             gene = df.loc[((df.lowB - site[0]) * (df.upperB - site[0])) < 0]\n",
    "            \n",
    "#             if gene.empty == True:\n",
    "#                 outputGeneL.append('No Result')\n",
    "#             else: \n",
    "#                 outputGeneL.append(gene.iat[0,9]) # entrezid=iat\n",
    "        \n",
    "#         pos = pos + 1\n",
    "#     return outputGeneL\n",
    "\n",
    "\n",
    "\n",
    "def closestGeneNSitesBodyCUTOFF2(DFL_BS, window):\n",
    "    groupedGenes = addWindow(window)\n",
    "    outputGeneL = []\n",
    "    pos = 0 # position in the DF we are looking at \n",
    "    \n",
    "    for sitesDF in DFL_BS: # DFL_BS is dataframe of chomosomes with N_BS ordered by the chromosome number  \n",
    "        df = groupedGenes[pos]   #.iloc[cutoff:endCut]  #endCut is the length of groupedGenes[pos]\n",
    "        cutoff = 0 \n",
    "        endI = len(sitesDF) - 1 \n",
    "        \n",
    "        for site in zip(sitesDF['BindingSite'].values):\n",
    "            gene = df.loc[((df.lowB - site[0]) * (df.upperB - site[0])) < 0]\n",
    "            \n",
    "            if gene.empty == True:\n",
    "                outputGeneL.append('No Result')\n",
    "            else: \n",
    "                outputGeneL.append(gene.iat[0,9]) # entrezid=iat\n",
    "                cutoff = gene.index[0]\n",
    "                df.iloc[cutoff:endI]\n",
    "        \n",
    "        pos = pos + 1\n",
    "    return outputGeneL"
   ]
  },
  {
   "cell_type": "code",
   "execution_count": 72,
   "metadata": {},
   "outputs": [
    {
     "data": {
      "text/plain": [
       "13.25609803199768"
      ]
     },
     "execution_count": 72,
     "metadata": {},
     "output_type": "execute_result"
    }
   ],
   "source": [
    "s=time.time()\n",
    "op = closestGeneNSitesBodyCUTOFF2(a, 5000)\n",
    "time.time()-s"
   ]
  },
  {
   "cell_type": "code",
   "execution_count": 98,
   "metadata": {},
   "outputs": [],
   "source": [
    "from heapq import merge \n",
    "\n",
    "def closestGeneNSitesBodyCUTOFF(DFL_BS, window):\n",
    "    groupedGenes = addWindow(window)\n",
    "    outputGeneL = []\n",
    "    pos = 0 # position in the DF we are looking at \n",
    "    s = time.time()\n",
    "    for sitesDF in DFL_BS: # DFL_BS is dataframe of chomosomes with N_BS ordered by the chromosome number  \n",
    "        \n",
    "        df = groupedGenes[pos]   #.iloc[cutoff:endCut]  #endCut is the length of groupedGenes[pos]\n",
    "        x =  merge(sitesDF['BindingSite'].values, merge(df.lowB, df.lowB))\n",
    "        y =  merge(sitesDF['BindingSite'].values, merge(df.lowB, df.lowB))\n",
    "        z =  merge(sitesDF['BindingSite'].values, merge(df.lowB, df.lowB))\n",
    "        pos += 1 \n",
    "    return time.time() - s \n",
    "#         for site in zip(sitesDF['BindingSite'].values):\n",
    "#             gene = df.loc[((df.lowB - site[0]) * (df.upperB - site[0])) < 0]\n",
    "            \n",
    "#             if gene.empty == True:\n",
    "#                 outputGeneL.append('No Result')\n",
    "#             else: \n",
    "#                 outputGeneL.append(gene.iat[0,9]) # entrezid=iat\n",
    "        \n",
    "#         pos = pos + 1\n",
    "    return outputGeneL"
   ]
  },
  {
   "cell_type": "code",
   "execution_count": 77,
   "metadata": {},
   "outputs": [],
   "source": [
    "a = nBindingsites(10000)"
   ]
  },
  {
   "cell_type": "code",
   "execution_count": 99,
   "metadata": {},
   "outputs": [
    {
     "data": {
      "text/plain": [
       "0.0013508796691894531"
      ]
     },
     "execution_count": 99,
     "metadata": {},
     "output_type": "execute_result"
    }
   ],
   "source": [
    "v = closestGeneNSitesBodyCUTOFF(a, 5000)\n",
    "v"
   ]
  },
  {
   "cell_type": "code",
   "execution_count": 87,
   "metadata": {},
   "outputs": [],
   "source": [
    "x = [1.0,3,7.0,9]"
   ]
  },
  {
   "cell_type": "code",
   "execution_count": 88,
   "metadata": {},
   "outputs": [
    {
     "data": {
      "text/plain": [
       "[1.0, 3, 7.0, 9]"
      ]
     },
     "execution_count": 88,
     "metadata": {},
     "output_type": "execute_result"
    }
   ],
   "source": [
    "x"
   ]
  },
  {
   "cell_type": "code",
   "execution_count": 100,
   "metadata": {},
   "outputs": [
    {
     "data": {
      "text/plain": [
       "True"
      ]
     },
     "execution_count": 100,
     "metadata": {},
     "output_type": "execute_result"
    }
   ],
   "source": [
    "isinstance(x[1], int)"
   ]
  },
  {
   "cell_type": "code",
   "execution_count": 101,
   "metadata": {},
   "outputs": [
    {
     "data": {
      "text/html": [
       "<div>\n",
       "<style scoped>\n",
       "    .dataframe tbody tr th:only-of-type {\n",
       "        vertical-align: middle;\n",
       "    }\n",
       "\n",
       "    .dataframe tbody tr th {\n",
       "        vertical-align: top;\n",
       "    }\n",
       "\n",
       "    .dataframe thead th {\n",
       "        text-align: right;\n",
       "    }\n",
       "</style>\n",
       "<table border=\"1\" class=\"dataframe\">\n",
       "  <thead>\n",
       "    <tr style=\"text-align: right;\">\n",
       "      <th></th>\n",
       "      <th>index</th>\n",
       "      <th>chromosome</th>\n",
       "      <th>source</th>\n",
       "      <th>type</th>\n",
       "      <th>start</th>\n",
       "      <th>end</th>\n",
       "      <th>BindingSite</th>\n",
       "    </tr>\n",
       "  </thead>\n",
       "  <tbody>\n",
       "    <tr>\n",
       "      <th>0</th>\n",
       "      <td>0</td>\n",
       "      <td>1</td>\n",
       "      <td>GRCh38</td>\n",
       "      <td>chromosome</td>\n",
       "      <td>1</td>\n",
       "      <td>248956422</td>\n",
       "      <td>23832668</td>\n",
       "    </tr>\n",
       "    <tr>\n",
       "      <th>0</th>\n",
       "      <td>0</td>\n",
       "      <td>1</td>\n",
       "      <td>GRCh38</td>\n",
       "      <td>chromosome</td>\n",
       "      <td>1</td>\n",
       "      <td>248956422</td>\n",
       "      <td>101232611</td>\n",
       "    </tr>\n",
       "    <tr>\n",
       "      <th>0</th>\n",
       "      <td>0</td>\n",
       "      <td>1</td>\n",
       "      <td>GRCh38</td>\n",
       "      <td>chromosome</td>\n",
       "      <td>1</td>\n",
       "      <td>248956422</td>\n",
       "      <td>127822808</td>\n",
       "    </tr>\n",
       "    <tr>\n",
       "      <th>0</th>\n",
       "      <td>0</td>\n",
       "      <td>1</td>\n",
       "      <td>GRCh38</td>\n",
       "      <td>chromosome</td>\n",
       "      <td>1</td>\n",
       "      <td>248956422</td>\n",
       "      <td>172593838</td>\n",
       "    </tr>\n",
       "    <tr>\n",
       "      <th>0</th>\n",
       "      <td>0</td>\n",
       "      <td>1</td>\n",
       "      <td>GRCh38</td>\n",
       "      <td>chromosome</td>\n",
       "      <td>1</td>\n",
       "      <td>248956422</td>\n",
       "      <td>214785598</td>\n",
       "    </tr>\n",
       "    <tr>\n",
       "      <th>0</th>\n",
       "      <td>0</td>\n",
       "      <td>1</td>\n",
       "      <td>GRCh38</td>\n",
       "      <td>chromosome</td>\n",
       "      <td>1</td>\n",
       "      <td>248956422</td>\n",
       "      <td>225302598</td>\n",
       "    </tr>\n",
       "    <tr>\n",
       "      <th>0</th>\n",
       "      <td>0</td>\n",
       "      <td>1</td>\n",
       "      <td>GRCh38</td>\n",
       "      <td>chromosome</td>\n",
       "      <td>1</td>\n",
       "      <td>248956422</td>\n",
       "      <td>237751399</td>\n",
       "    </tr>\n",
       "  </tbody>\n",
       "</table>\n",
       "</div>"
      ],
      "text/plain": [
       "   index chromosome  source        type  start        end  BindingSite\n",
       "0  0      1          GRCh38  chromosome  1      248956422  23832668   \n",
       "0  0      1          GRCh38  chromosome  1      248956422  101232611  \n",
       "0  0      1          GRCh38  chromosome  1      248956422  127822808  \n",
       "0  0      1          GRCh38  chromosome  1      248956422  172593838  \n",
       "0  0      1          GRCh38  chromosome  1      248956422  214785598  \n",
       "0  0      1          GRCh38  chromosome  1      248956422  225302598  \n",
       "0  0      1          GRCh38  chromosome  1      248956422  237751399  "
      ]
     },
     "execution_count": 101,
     "metadata": {},
     "output_type": "execute_result"
    }
   ],
   "source": [
    "nBindingsites(100)[0]"
   ]
  },
  {
   "cell_type": "code",
   "execution_count": null,
   "metadata": {},
   "outputs": [],
   "source": []
  }
 ],
 "metadata": {
  "kernelspec": {
   "display_name": "Python 3",
   "language": "python",
   "name": "python3"
  },
  "language_info": {
   "codemirror_mode": {
    "name": "ipython",
    "version": 3
   },
   "file_extension": ".py",
   "mimetype": "text/x-python",
   "name": "python",
   "nbconvert_exporter": "python",
   "pygments_lexer": "ipython3",
   "version": "3.7.3"
  }
 },
 "nbformat": 4,
 "nbformat_minor": 2
}
