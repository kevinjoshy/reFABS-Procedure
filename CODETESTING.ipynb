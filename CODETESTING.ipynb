{
 "cells": [
  {
   "cell_type": "code",
   "execution_count": 113,
   "metadata": {
    "ExecuteTime": {
     "end_time": "2019-06-25T14:00:13.634726Z",
     "start_time": "2019-06-25T14:00:12.866513Z"
    }
   },
   "outputs": [],
   "source": [
    "%run reFABSwithVectors.ipynb\n",
    "%run ontologyPackage/ontologySTATanalysis.ipynb\n",
    "%run simulationProcedure.ipynb"
   ]
  },
  {
   "cell_type": "code",
   "execution_count": 114,
   "metadata": {
    "ExecuteTime": {
     "end_time": "2019-06-25T14:00:13.639834Z",
     "start_time": "2019-06-25T14:00:13.636417Z"
    }
   },
   "outputs": [],
   "source": [
    "def getRandGO(n):\n",
    "    goL = []\n",
    "    for i in range(n):\n",
    "        goL.append(random.choice(list(go2gene.keys())))\n",
    "    return goL"
   ]
  },
  {
   "cell_type": "code",
   "execution_count": 115,
   "metadata": {
    "ExecuteTime": {
     "end_time": "2019-06-25T14:00:13.646575Z",
     "start_time": "2019-06-25T14:00:13.641790Z"
    }
   },
   "outputs": [],
   "source": [
    "def getGeneL(goL):\n",
    "    geneL = []\n",
    "    for go in goL:    \n",
    "        geneL += go2gene[go]\n",
    "    return geneL"
   ]
  },
  {
   "cell_type": "code",
   "execution_count": 116,
   "metadata": {
    "ExecuteTime": {
     "end_time": "2019-06-25T14:00:13.674623Z",
     "start_time": "2019-06-25T14:00:13.649469Z"
    }
   },
   "outputs": [],
   "source": [
    "gos = getRandGO(10)"
   ]
  },
  {
   "cell_type": "code",
   "execution_count": 117,
   "metadata": {
    "ExecuteTime": {
     "end_time": "2019-06-25T14:00:13.678776Z",
     "start_time": "2019-06-25T14:00:13.676318Z"
    }
   },
   "outputs": [],
   "source": [
    "genesTest = getGeneL(gos)"
   ]
  },
  {
   "cell_type": "code",
   "execution_count": 118,
   "metadata": {
    "ExecuteTime": {
     "end_time": "2019-06-25T14:00:13.684305Z",
     "start_time": "2019-06-25T14:00:13.680365Z"
    },
    "scrolled": true
   },
   "outputs": [
    {
     "data": {
      "text/plain": [
       "['GO:0006414',\n",
       " 'GO:0097155',\n",
       " 'GO:0035150',\n",
       " 'GO:0070061',\n",
       " 'GO:0009383',\n",
       " 'GO:2000187',\n",
       " 'GO:0019115',\n",
       " 'GO:1903673',\n",
       " 'GO:0036088',\n",
       " 'GO:0046122']"
      ]
     },
     "execution_count": 118,
     "metadata": {},
     "output_type": "execute_result"
    }
   ],
   "source": [
    "gos"
   ]
  },
  {
   "cell_type": "code",
   "execution_count": 119,
   "metadata": {
    "ExecuteTime": {
     "end_time": "2019-06-25T14:00:13.692148Z",
     "start_time": "2019-06-25T14:00:13.686043Z"
    },
    "scrolled": true
   },
   "outputs": [
    {
     "data": {
      "text/plain": [
       "[127,\n",
       " 226,\n",
       " 229,\n",
       " 387,\n",
       " 1610,\n",
       " 1716,\n",
       " 1915,\n",
       " 1917,\n",
       " 1933,\n",
       " 1936,\n",
       " 1937,\n",
       " 1938,\n",
       " 1954,\n",
       " 2042,\n",
       " 2043,\n",
       " 4839,\n",
       " 5211,\n",
       " 5213,\n",
       " 6176,\n",
       " 6181,\n",
       " 6518,\n",
       " 6569,\n",
       " 7284,\n",
       " 7484,\n",
       " 9567,\n",
       " 10102,\n",
       " 10767,\n",
       " 29904,\n",
       " 54676,\n",
       " 60678,\n",
       " 79631,\n",
       " 80325,\n",
       " 158078,\n",
       " 387338]"
      ]
     },
     "execution_count": 119,
     "metadata": {},
     "output_type": "execute_result"
    }
   ],
   "source": [
    "sorted(genesTest)"
   ]
  },
  {
   "cell_type": "code",
   "execution_count": 120,
   "metadata": {
    "ExecuteTime": {
     "end_time": "2019-06-25T14:00:13.700268Z",
     "start_time": "2019-06-25T14:00:13.695361Z"
    }
   },
   "outputs": [],
   "source": [
    "def createPOSDict(geneL):\n",
    "    geneDict = {}\n",
    "    for g in geneL:\n",
    "        start = geneAnnotationDF.loc[geneAnnotationDF.entrezid == g].start.values\n",
    "        end = geneAnnotationDF.loc[geneAnnotationDF.entrezid == g].end.values\n",
    "        if len(start) > 0:\n",
    "            geneDict.update({g:[start[0],end[0]]})\n",
    "    return geneDict"
   ]
  },
  {
   "cell_type": "code",
   "execution_count": 166,
   "metadata": {
    "ExecuteTime": {
     "end_time": "2019-06-25T14:47:57.350318Z",
     "start_time": "2019-06-25T14:47:57.296775Z"
    },
    "scrolled": true
   },
   "outputs": [],
   "source": [
    "testingGeneL=createPOSDict(genesTest)"
   ]
  },
  {
   "cell_type": "code",
   "execution_count": 122,
   "metadata": {
    "ExecuteTime": {
     "end_time": "2019-06-25T14:00:13.777023Z",
     "start_time": "2019-06-25T14:00:13.765543Z"
    }
   },
   "outputs": [
    {
     "data": {
      "text/html": [
       "<div>\n",
       "<style scoped>\n",
       "    .dataframe tbody tr th:only-of-type {\n",
       "        vertical-align: middle;\n",
       "    }\n",
       "\n",
       "    .dataframe tbody tr th {\n",
       "        vertical-align: top;\n",
       "    }\n",
       "\n",
       "    .dataframe thead th {\n",
       "        text-align: right;\n",
       "    }\n",
       "</style>\n",
       "<table border=\"1\" class=\"dataframe\">\n",
       "  <thead>\n",
       "    <tr style=\"text-align: right;\">\n",
       "      <th></th>\n",
       "      <th>chromosome</th>\n",
       "      <th>source</th>\n",
       "      <th>type</th>\n",
       "      <th>start</th>\n",
       "      <th>end</th>\n",
       "      <th>strand</th>\n",
       "      <th>gene_symbol</th>\n",
       "      <th>gene_ensID</th>\n",
       "      <th>length</th>\n",
       "      <th>entrezid</th>\n",
       "    </tr>\n",
       "  </thead>\n",
       "  <tbody>\n",
       "    <tr>\n",
       "      <th>18892</th>\n",
       "      <td>8</td>\n",
       "      <td>havana</td>\n",
       "      <td>gene</td>\n",
       "      <td>14089864</td>\n",
       "      <td>15238339</td>\n",
       "      <td>-</td>\n",
       "      <td>SGCZ</td>\n",
       "      <td>ENSG00000185053</td>\n",
       "      <td>1148476</td>\n",
       "      <td>137868</td>\n",
       "    </tr>\n",
       "  </tbody>\n",
       "</table>\n",
       "</div>"
      ],
      "text/plain": [
       "      chromosome  source  type     start       end strand gene_symbol  \\\n",
       "18892  8          havana  gene  14089864  15238339  -      SGCZ         \n",
       "\n",
       "            gene_ensID   length  entrezid  \n",
       "18892  ENSG00000185053  1148476  137868    "
      ]
     },
     "execution_count": 122,
     "metadata": {},
     "output_type": "execute_result"
    }
   ],
   "source": [
    "geneAnnotationDF.loc[geneAnnotationDF.entrezid == 137868]"
   ]
  },
  {
   "cell_type": "code",
   "execution_count": 142,
   "metadata": {
    "ExecuteTime": {
     "end_time": "2019-06-25T14:09:16.955770Z",
     "start_time": "2019-06-25T14:09:16.943097Z"
    },
    "code_folding": [
     0
    ],
    "collapsed": true
   },
   "outputs": [
    {
     "data": {
      "text/plain": [
       "[{8503: 2},\n",
       " {23285: 2},\n",
       " {51463: 2},\n",
       " {6232: 2},\n",
       " {8490: 2},\n",
       " {9877: 2},\n",
       " {414245: 2},\n",
       " {8509: 2},\n",
       " {3481: 2},\n",
       " {143872: 2},\n",
       " {10436: 2},\n",
       " {5554: 2},\n",
       " {26628: 2},\n",
       " {221178: 2},\n",
       " {64881: 2},\n",
       " {100996738: 2},\n",
       " {283768: 2},\n",
       " {83986: 2},\n",
       " {100288332: 3},\n",
       " {1201: 2},\n",
       " {102723655: 4},\n",
       " {729873: 2},\n",
       " {201181: 2},\n",
       " {388389: 2},\n",
       " {1394: 2},\n",
       " {51326: 2},\n",
       " {3963: 2},\n",
       " {285051: 2},\n",
       " {10887: 2},\n",
       " {150472: 2},\n",
       " {3233: 2},\n",
       " {54145: 2},\n",
       " {388820: 2},\n",
       " {114794: 2},\n",
       " {152098: 2},\n",
       " {11068: 2},\n",
       " {57501: 2},\n",
       " {29970: 2},\n",
       " {55300: 2},\n",
       " {80006: 2},\n",
       " {8293: 2},\n",
       " {6606: 2},\n",
       " {644100: 2},\n",
       " {9782: 2},\n",
       " {54439: 2},\n",
       " {26240: 2},\n",
       " {3117: 2},\n",
       " {387104: 2},\n",
       " {100652739: 2},\n",
       " {378108: 2},\n",
       " {246721: 2},\n",
       " {25788: 2},\n",
       " {26267: 2},\n",
       " {389857: 2},\n",
       " {100129407: 2},\n",
       " {105373251: 2},\n",
       " {286527: 2},\n",
       " {8471: 2}]"
      ]
     },
     "execution_count": 142,
     "metadata": {},
     "output_type": "execute_result"
    }
   ],
   "source": [
    "# Might have to delete symbols: CTD-2207O23.3, C19orf45\n",
    "entrezes = list(geneAnnotationDF.entrezid.values)\n",
    "from collections import Counter\n",
    "cnt = Counter(entrezes)\n",
    "cnt = [{k:v} for k,v in cnt.items() if v > 1]\n",
    "cnt"
   ]
  },
  {
   "cell_type": "code",
   "execution_count": 124,
   "metadata": {
    "ExecuteTime": {
     "end_time": "2019-06-25T14:00:13.794254Z",
     "start_time": "2019-06-25T14:00:13.790832Z"
    }
   },
   "outputs": [],
   "source": [
    "def appendCHR(geneD):\n",
    "    for k in geneD.keys():\n",
    "        chrID=geneAnnotationDF.loc[geneAnnotationDF.entrezid == k].chromosome.values[0]\n",
    "        geneD[k].append(chrID)\n",
    "    return geneD"
   ]
  },
  {
   "cell_type": "code",
   "execution_count": 125,
   "metadata": {
    "ExecuteTime": {
     "end_time": "2019-06-25T14:00:13.834246Z",
     "start_time": "2019-06-25T14:00:13.795707Z"
    }
   },
   "outputs": [],
   "source": [
    "testing=appendCHR(testingGeneL)"
   ]
  },
  {
   "cell_type": "code",
   "execution_count": 126,
   "metadata": {
    "ExecuteTime": {
     "end_time": "2019-06-25T14:00:13.842704Z",
     "start_time": "2019-06-25T14:00:13.836012Z"
    },
    "scrolled": true
   },
   "outputs": [
    {
     "data": {
      "text/plain": [
       "{1915: [73515750, 73523797, '6'],\n",
       " 1917: [63488013, 63499315, '20'],\n",
       " 1933: [206159585, 206162928, '2'],\n",
       " 1936: [143579697, 143599541, '8'],\n",
       " 1937: [62559601, 62574086, '11'],\n",
       " 1938: [3976056, 3985469, '19'],\n",
       " 6176: [69452784, 69456194, '15'],\n",
       " 6181: [809647, 812880, '11'],\n",
       " 7284: [28842411, 28846408, '16'],\n",
       " 9567: [38705723, 38738299, '22'],\n",
       " 10102: [57782589, 57808071, '12'],\n",
       " 10767: [134960378, 135103056, '6'],\n",
       " 29904: [22206282, 22288732, '16'],\n",
       " 54676: [43605316, 43629162, '6'],\n",
       " 60678: [128153454, 128408646, '3'],\n",
       " 79631: [82130230, 82262763, '15'],\n",
       " 80325: [127672935, 127680920, '3'],\n",
       " 1954: [42325609, 42378769, '19'],\n",
       " 2042: [89107524, 89482134, '3'],\n",
       " 2043: [221418027, 221574202, '2'],\n",
       " 7484: [46833201, 46886730, '17'],\n",
       " 226: [30053090, 30070457, '16'],\n",
       " 229: [101420578, 101435823, '9'],\n",
       " 5211: [44300051, 44327376, '21'],\n",
       " 5213: [48105139, 48146404, '12'],\n",
       " 6518: [9035107, 9088478, '1'],\n",
       " 4839: [6556863, 6568691, '12'],\n",
       " 387338: [46340177, 46365152, '1'],\n",
       " 6569: [177379235, 177398848, '5'],\n",
       " 127: [99123657, 99157792, '4'],\n",
       " 387: [49359145, 49412998, '3'],\n",
       " 1610: [108858932, 108901043, '12'],\n",
       " 1716: [73926826, 73958961, '2']}"
      ]
     },
     "execution_count": 126,
     "metadata": {},
     "output_type": "execute_result"
    }
   ],
   "source": [
    "testing"
   ]
  },
  {
   "cell_type": "code",
   "execution_count": 163,
   "metadata": {
    "ExecuteTime": {
     "end_time": "2019-06-25T14:45:07.084262Z",
     "start_time": "2019-06-25T14:45:07.076634Z"
    }
   },
   "outputs": [],
   "source": [
    "def testingSitesL(geneD):\n",
    "    BSL = [[],[],[],[],[],[],[],[],[],[],[],[],[],[],[],[],[],[],[],[],[],[],[],[],[]]\n",
    "    for k in geneD.keys():\n",
    "        if geneD[k][2] == 'MT':\n",
    "            geneD[k][2] = '23'\n",
    "        if geneD[k][2] == 'X':\n",
    "            geneD[k][2] = '24'\n",
    "        if geneD[k][2] == 'Y':\n",
    "            geneD[k][2] = '25'\n",
    "\n",
    "        site = int((geneD[k][1] - geneD[k][0]) / 2) + geneD[k][0]\n",
    "        BSL[int(geneD[k][2]) - 1].append(site)\n",
    "#     return BSL\n",
    "    return array([sorted(array(l)) for l in BSL])\n",
    "    \n",
    "    "
   ]
  },
  {
   "cell_type": "code",
   "execution_count": 128,
   "metadata": {
    "ExecuteTime": {
     "end_time": "2019-06-25T14:00:13.860086Z",
     "start_time": "2019-06-25T14:00:13.857172Z"
    },
    "scrolled": true
   },
   "outputs": [],
   "source": [
    "rdy2TestSites = testingSitesL(testing)"
   ]
  },
  {
   "cell_type": "code",
   "execution_count": 167,
   "metadata": {
    "ExecuteTime": {
     "end_time": "2019-06-25T14:58:55.303823Z",
     "start_time": "2019-06-25T14:58:55.299894Z"
    }
   },
   "outputs": [
    {
     "data": {
      "text/plain": [
       "[3980762, 42352189]"
      ]
     },
     "execution_count": 167,
     "metadata": {},
     "output_type": "execute_result"
    }
   ],
   "source": [
    "rdy2TestSites[18]"
   ]
  },
  {
   "cell_type": "code",
   "execution_count": 130,
   "metadata": {
    "ExecuteTime": {
     "end_time": "2019-06-25T14:00:17.498308Z",
     "start_time": "2019-06-25T14:00:13.869685Z"
    }
   },
   "outputs": [],
   "source": [
    "mapped=geneReadSites(rdy2TestSites, addWindowBODY(100))"
   ]
  },
  {
   "cell_type": "code",
   "execution_count": 131,
   "metadata": {
    "ExecuteTime": {
     "end_time": "2019-06-25T14:00:17.503090Z",
     "start_time": "2019-06-25T14:00:17.500206Z"
    },
    "scrolled": true
   },
   "outputs": [],
   "source": [
    "mapped = sorted(mapped)"
   ]
  },
  {
   "cell_type": "code",
   "execution_count": 132,
   "metadata": {
    "ExecuteTime": {
     "end_time": "2019-06-25T14:00:17.512324Z",
     "start_time": "2019-06-25T14:00:17.505523Z"
    },
    "scrolled": true
   },
   "outputs": [
    {
     "data": {
      "text/plain": [
       "[226,\n",
       " 229,\n",
       " 387,\n",
       " 1610,\n",
       " 1716,\n",
       " 1915,\n",
       " 1917,\n",
       " 1933,\n",
       " 1936,\n",
       " 1937,\n",
       " 1938,\n",
       " 1954,\n",
       " 2042,\n",
       " 2043,\n",
       " 4839,\n",
       " 5211,\n",
       " 5213,\n",
       " 6176,\n",
       " 6181,\n",
       " 6518,\n",
       " 6569,\n",
       " 7284,\n",
       " 7484,\n",
       " 9567,\n",
       " 10102,\n",
       " 10767,\n",
       " 29904,\n",
       " 54676,\n",
       " 60678,\n",
       " 79631,\n",
       " 80325,\n",
       " 387338,\n",
       " 100507053]"
      ]
     },
     "execution_count": 132,
     "metadata": {},
     "output_type": "execute_result"
    }
   ],
   "source": [
    "mapped"
   ]
  },
  {
   "cell_type": "code",
   "execution_count": 133,
   "metadata": {
    "ExecuteTime": {
     "end_time": "2019-06-25T14:00:17.517565Z",
     "start_time": "2019-06-25T14:00:17.513995Z"
    }
   },
   "outputs": [],
   "source": [
    "def getTested(geneD):\n",
    "    out=[]\n",
    "    for k in geneD.keys():\n",
    "        out.append(k)\n",
    "    return out "
   ]
  },
  {
   "cell_type": "code",
   "execution_count": 134,
   "metadata": {
    "ExecuteTime": {
     "end_time": "2019-06-25T14:00:17.522152Z",
     "start_time": "2019-06-25T14:00:17.519666Z"
    }
   },
   "outputs": [],
   "source": [
    "tested=getTested(testing)"
   ]
  },
  {
   "cell_type": "code",
   "execution_count": 135,
   "metadata": {
    "ExecuteTime": {
     "end_time": "2019-06-25T14:00:17.528488Z",
     "start_time": "2019-06-25T14:00:17.526027Z"
    }
   },
   "outputs": [],
   "source": [
    "tested=sorted(tested)"
   ]
  },
  {
   "cell_type": "code",
   "execution_count": 136,
   "metadata": {
    "ExecuteTime": {
     "end_time": "2019-06-25T14:00:17.536957Z",
     "start_time": "2019-06-25T14:00:17.532130Z"
    },
    "scrolled": true
   },
   "outputs": [
    {
     "data": {
      "text/plain": [
       "[127,\n",
       " 226,\n",
       " 229,\n",
       " 387,\n",
       " 1610,\n",
       " 1716,\n",
       " 1915,\n",
       " 1917,\n",
       " 1933,\n",
       " 1936,\n",
       " 1937,\n",
       " 1938,\n",
       " 1954,\n",
       " 2042,\n",
       " 2043,\n",
       " 4839,\n",
       " 5211,\n",
       " 5213,\n",
       " 6176,\n",
       " 6181,\n",
       " 6518,\n",
       " 6569,\n",
       " 7284,\n",
       " 7484,\n",
       " 9567,\n",
       " 10102,\n",
       " 10767,\n",
       " 29904,\n",
       " 54676,\n",
       " 60678,\n",
       " 79631,\n",
       " 80325,\n",
       " 387338]"
      ]
     },
     "execution_count": 136,
     "metadata": {},
     "output_type": "execute_result"
    }
   ],
   "source": [
    "tested"
   ]
  },
  {
   "cell_type": "code",
   "execution_count": 137,
   "metadata": {
    "ExecuteTime": {
     "end_time": "2019-06-25T14:00:17.544008Z",
     "start_time": "2019-06-25T14:00:17.539860Z"
    }
   },
   "outputs": [],
   "source": [
    "notinMapped=[]\n",
    "for geneid in tested:\n",
    "    if geneid not in mapped:\n",
    "        notinMapped.append(geneid)"
   ]
  },
  {
   "cell_type": "code",
   "execution_count": 138,
   "metadata": {
    "ExecuteTime": {
     "end_time": "2019-06-25T14:00:17.551258Z",
     "start_time": "2019-06-25T14:00:17.546342Z"
    },
    "code_folding": []
   },
   "outputs": [
    {
     "data": {
      "text/plain": [
       "[163071]"
      ]
     },
     "execution_count": 138,
     "metadata": {},
     "output_type": "execute_result"
    }
   ],
   "source": [
    "# notinTested"
   ]
  },
  {
   "cell_type": "code",
   "execution_count": 139,
   "metadata": {
    "ExecuteTime": {
     "end_time": "2019-06-25T14:00:17.559401Z",
     "start_time": "2019-06-25T14:00:17.554289Z"
    }
   },
   "outputs": [
    {
     "data": {
      "text/plain": [
       "[127]"
      ]
     },
     "execution_count": 139,
     "metadata": {},
     "output_type": "execute_result"
    }
   ],
   "source": [
    "notinMapped"
   ]
  },
  {
   "cell_type": "code",
   "execution_count": 140,
   "metadata": {
    "ExecuteTime": {
     "end_time": "2019-06-25T14:00:17.567921Z",
     "start_time": "2019-06-25T14:00:17.562483Z"
    }
   },
   "outputs": [
    {
     "data": {
      "text/plain": [
       "33"
      ]
     },
     "execution_count": 140,
     "metadata": {},
     "output_type": "execute_result"
    }
   ],
   "source": [
    "len(tested)"
   ]
  },
  {
   "cell_type": "code",
   "execution_count": 141,
   "metadata": {
    "ExecuteTime": {
     "end_time": "2019-06-25T14:00:17.573842Z",
     "start_time": "2019-06-25T14:00:17.569844Z"
    }
   },
   "outputs": [
    {
     "data": {
      "text/plain": [
       "33"
      ]
     },
     "execution_count": 141,
     "metadata": {},
     "output_type": "execute_result"
    }
   ],
   "source": [
    "len(mapped)"
   ]
  },
  {
   "cell_type": "code",
   "execution_count": 149,
   "metadata": {
    "ExecuteTime": {
     "end_time": "2019-06-25T14:12:33.426254Z",
     "start_time": "2019-06-25T14:12:33.423525Z"
    }
   },
   "outputs": [],
   "source": [
    "GOs = getOntologyID(mapped)"
   ]
  },
  {
   "cell_type": "code",
   "execution_count": 150,
   "metadata": {
    "ExecuteTime": {
     "end_time": "2019-06-25T14:12:34.249364Z",
     "start_time": "2019-06-25T14:12:34.241738Z"
    }
   },
   "outputs": [
    {
     "data": {
      "text/plain": [
       "['GO:0043101',\n",
       " 'GO:0043931',\n",
       " 'GO:0005634',\n",
       " 'GO:0050772',\n",
       " 'GO:0035385',\n",
       " 'GO:0045727',\n",
       " 'GO:0030165',\n",
       " 'GO:2000187',\n",
       " 'GO:0002039',\n",
       " 'GO:0097155',\n",
       " 'GO:0035435',\n",
       " 'GO:0030838',\n",
       " 'GO:0010288',\n",
       " 'GO:0032153',\n",
       " 'GO:0071345',\n",
       " 'GO:1903427',\n",
       " 'GO:0043366',\n",
       " 'GO:0070131',\n",
       " 'GO:0030950',\n",
       " 'GO:0051022',\n",
       " 'GO:0005615',\n",
       " 'GO:2000767',\n",
       " 'GO:0046686',\n",
       " 'GO:0002931',\n",
       " 'GO:2000177',\n",
       " 'GO:0005782',\n",
       " 'GO:0001503',\n",
       " 'GO:0006414',\n",
       " 'GO:0043066',\n",
       " 'GO:1903078',\n",
       " 'GO:0098883',\n",
       " 'GO:0046777',\n",
       " 'GO:0005789',\n",
       " 'GO:0022625',\n",
       " 'GO:0061014',\n",
       " 'GO:0030864',\n",
       " 'GO:0046983',\n",
       " 'GO:0007267',\n",
       " 'GO:0043296',\n",
       " 'GO:0004332',\n",
       " 'GO:0016477',\n",
       " 'GO:0006614',\n",
       " 'GO:0072046',\n",
       " 'GO:0003872',\n",
       " 'GO:0016055',\n",
       " 'GO:0005509',\n",
       " 'GO:0048029',\n",
       " 'GO:0015321',\n",
       " 'GO:0043065',\n",
       " 'GO:0008347',\n",
       " 'GO:0043149',\n",
       " 'GO:0101003',\n",
       " 'GO:0043204',\n",
       " 'GO:0045807',\n",
       " 'GO:1904948',\n",
       " 'GO:0050770',\n",
       " 'GO:0001932',\n",
       " 'GO:0009612',\n",
       " 'GO:0005005',\n",
       " 'GO:0015631',\n",
       " 'GO:0055114',\n",
       " 'GO:0042542',\n",
       " 'GO:0097066',\n",
       " 'GO:1990904',\n",
       " 'GO:0031952',\n",
       " 'GO:2000406',\n",
       " 'GO:0030496',\n",
       " 'GO:1990782',\n",
       " 'GO:0046638',\n",
       " 'GO:0071374',\n",
       " 'GO:0046872',\n",
       " 'GO:0007015',\n",
       " 'GO:0030424',\n",
       " 'GO:0046039',\n",
       " 'GO:0042416',\n",
       " 'GO:0043197',\n",
       " 'GO:0070072',\n",
       " 'GO:0045838',\n",
       " 'GO:0030027',\n",
       " 'GO:0000184',\n",
       " 'GO:0016324',\n",
       " 'GO:1905438',\n",
       " 'GO:0032526',\n",
       " 'GO:0001514',\n",
       " 'GO:0019136',\n",
       " 'GO:0048471',\n",
       " 'GO:1904996',\n",
       " 'GO:0009165',\n",
       " 'GO:1901224',\n",
       " 'GO:0003044',\n",
       " 'GO:0003009',\n",
       " 'GO:0010812',\n",
       " 'GO:0046122',\n",
       " 'GO:0006413',\n",
       " 'GO:0060021',\n",
       " 'GO:0061624',\n",
       " 'GO:1903051',\n",
       " 'GO:0019083',\n",
       " 'GO:0033688',\n",
       " 'GO:0043542',\n",
       " 'GO:0072181',\n",
       " 'GO:0045202',\n",
       " 'GO:0001650',\n",
       " 'GO:0008097',\n",
       " 'GO:0035368',\n",
       " 'GO:0061003',\n",
       " 'GO:0005815',\n",
       " 'GO:0030054',\n",
       " 'GO:0071222',\n",
       " 'GO:0001666',\n",
       " 'GO:0061827',\n",
       " 'GO:0048704',\n",
       " 'GO:0035150',\n",
       " 'GO:0051384',\n",
       " 'GO:1900022',\n",
       " 'GO:0042383',\n",
       " 'GO:0060071',\n",
       " 'GO:0006468',\n",
       " 'GO:0034976',\n",
       " 'GO:0031982',\n",
       " 'GO:0005737',\n",
       " 'GO:0044341',\n",
       " 'GO:0070062',\n",
       " 'GO:0032467',\n",
       " 'GO:0005794',\n",
       " 'GO:0021861',\n",
       " 'GO:0007160',\n",
       " 'GO:0031526',\n",
       " 'GO:0051924',\n",
       " 'GO:0097156',\n",
       " 'GO:0006357',\n",
       " 'GO:0002181',\n",
       " 'GO:0061621',\n",
       " 'GO:0031234',\n",
       " 'GO:0043297',\n",
       " 'GO:0032781',\n",
       " 'GO:0019478',\n",
       " 'GO:0071479',\n",
       " 'GO:0060416',\n",
       " 'GO:0030521',\n",
       " 'GO:0034774',\n",
       " 'GO:1902004',\n",
       " 'GO:0005516',\n",
       " 'GO:0043200',\n",
       " 'GO:0002576',\n",
       " 'GO:0008045',\n",
       " 'GO:1990637',\n",
       " 'GO:0032587',\n",
       " 'GO:0006000',\n",
       " 'GO:0071907',\n",
       " 'GO:0003924',\n",
       " 'GO:0098685',\n",
       " 'GO:1904659',\n",
       " 'GO:0099055',\n",
       " 'GO:0048842',\n",
       " 'GO:1900272',\n",
       " 'GO:0021762',\n",
       " 'GO:0051015',\n",
       " 'GO:0006562',\n",
       " 'GO:0004138',\n",
       " 'GO:0048681',\n",
       " 'GO:0007179',\n",
       " 'GO:2000120',\n",
       " 'GO:0098574',\n",
       " 'GO:0031167',\n",
       " 'GO:0106001',\n",
       " 'GO:0005856',\n",
       " 'GO:0045792',\n",
       " 'GO:0019901',\n",
       " 'GO:0070181',\n",
       " 'GO:0005353',\n",
       " 'GO:0071277',\n",
       " 'GO:0030539',\n",
       " 'GO:1904813',\n",
       " 'GO:0030175',\n",
       " 'GO:0001701',\n",
       " 'GO:0034641',\n",
       " 'GO:0046875',\n",
       " 'GO:0005887',\n",
       " 'GO:0090051',\n",
       " 'GO:0005654',\n",
       " 'GO:0003746',\n",
       " 'GO:0045666',\n",
       " 'GO:0044877',\n",
       " 'GO:0001822',\n",
       " 'GO:0043507',\n",
       " 'GO:0051289',\n",
       " 'GO:0016020',\n",
       " 'GO:0042788',\n",
       " 'GO:0048010',\n",
       " 'GO:0021957',\n",
       " 'GO:0060193',\n",
       " 'GO:0090324',\n",
       " 'GO:0032147',\n",
       " 'GO:0007568',\n",
       " 'GO:0019900',\n",
       " 'GO:0006941',\n",
       " 'GO:0043005',\n",
       " 'GO:0098978',\n",
       " 'GO:0032956',\n",
       " 'GO:0043525',\n",
       " 'GO:0071320',\n",
       " 'GO:0005975',\n",
       " 'GO:0000177',\n",
       " 'GO:0090307',\n",
       " 'GO:0045296',\n",
       " 'GO:0097094',\n",
       " 'GO:0007628',\n",
       " 'GO:0035579',\n",
       " 'GO:0003779',\n",
       " 'GO:1901128',\n",
       " 'GO:0030295',\n",
       " 'GO:0072174',\n",
       " 'GO:0030388',\n",
       " 'GO:0009157',\n",
       " 'GO:0099056',\n",
       " 'GO:2001108',\n",
       " 'GO:0097161',\n",
       " 'GO:0007186',\n",
       " 'GO:0005938',\n",
       " 'GO:0009887',\n",
       " 'GO:0005525',\n",
       " 'GO:0061609',\n",
       " 'GO:0097485',\n",
       " 'GO:0030334',\n",
       " 'GO:0031098',\n",
       " 'GO:0031901',\n",
       " 'GO:0010035',\n",
       " 'GO:0010976',\n",
       " 'GO:0008284',\n",
       " 'GO:0097187',\n",
       " 'GO:0050919',\n",
       " 'GO:0031674',\n",
       " 'GO:0009750',\n",
       " 'GO:0061038',\n",
       " 'GO:0060070',\n",
       " 'GO:0014069',\n",
       " 'GO:1902455',\n",
       " 'GO:1905244',\n",
       " 'GO:0032026',\n",
       " 'GO:0072038',\n",
       " 'GO:0001658',\n",
       " 'GO:0055113',\n",
       " 'GO:0009986',\n",
       " 'GO:0051017',\n",
       " 'GO:0006955',\n",
       " 'GO:0031594',\n",
       " 'GO:0050771',\n",
       " 'GO:0043928',\n",
       " 'GO:0007411',\n",
       " 'GO:0050773',\n",
       " 'GO:0042431',\n",
       " 'GO:0045198',\n",
       " 'GO:0014009',\n",
       " 'GO:0046716',\n",
       " 'GO:0015755',\n",
       " 'GO:0003100',\n",
       " 'GO:0004714',\n",
       " 'GO:0031532',\n",
       " 'GO:0045165',\n",
       " 'GO:0005903',\n",
       " 'GO:0007339',\n",
       " 'GO:0048710',\n",
       " 'GO:0006007',\n",
       " 'GO:0043025',\n",
       " 'GO:0009100',\n",
       " 'GO:1901796',\n",
       " 'GO:0072003',\n",
       " 'GO:0030182',\n",
       " 'GO:0046676',\n",
       " 'GO:0007275',\n",
       " 'GO:0005730',\n",
       " 'GO:0045471',\n",
       " 'GO:0071364',\n",
       " 'GO:0071248',\n",
       " 'GO:0045806',\n",
       " 'GO:0031430',\n",
       " 'GO:0072044',\n",
       " 'GO:1990869',\n",
       " 'GO:0016607',\n",
       " 'GO:0033189',\n",
       " 'GO:0097498',\n",
       " 'GO:0016021',\n",
       " 'GO:0003723',\n",
       " 'GO:0005778',\n",
       " 'GO:0009267',\n",
       " 'GO:0007155',\n",
       " 'GO:0072350',\n",
       " 'GO:0060976',\n",
       " 'GO:0001998',\n",
       " 'GO:0006412',\n",
       " 'GO:0002244',\n",
       " 'GO:0043235',\n",
       " 'GO:0016301',\n",
       " 'GO:0051117',\n",
       " 'GO:0005109',\n",
       " 'GO:0046689',\n",
       " 'GO:0055130',\n",
       " 'GO:0090218',\n",
       " 'GO:0090102',\n",
       " 'GO:0050775',\n",
       " 'GO:0006096',\n",
       " 'GO:0071949',\n",
       " 'GO:0003143',\n",
       " 'GO:0071454',\n",
       " 'GO:0005515',\n",
       " 'GO:0071332',\n",
       " 'GO:0044295',\n",
       " 'GO:0043524',\n",
       " 'GO:0016235',\n",
       " 'GO:1902766',\n",
       " 'GO:0071300',\n",
       " 'GO:0005912',\n",
       " 'GO:0072734',\n",
       " 'GO:0005759',\n",
       " 'GO:0061371',\n",
       " 'GO:0005768',\n",
       " 'GO:0007519',\n",
       " 'GO:1903673',\n",
       " 'GO:0005739',\n",
       " 'GO:0005524',\n",
       " 'GO:0043124',\n",
       " 'GO:0071944',\n",
       " 'GO:0070125',\n",
       " 'GO:0009888',\n",
       " 'GO:0005436',\n",
       " 'GO:0106030',\n",
       " 'GO:0045121',\n",
       " 'GO:0061098',\n",
       " 'GO:0070178',\n",
       " 'GO:0048701',\n",
       " 'GO:0038027',\n",
       " 'GO:0043021',\n",
       " 'GO:0033144',\n",
       " 'GO:0003677',\n",
       " 'GO:0030307',\n",
       " 'GO:1990539',\n",
       " 'GO:0030643',\n",
       " 'GO:0070475',\n",
       " 'GO:1904714',\n",
       " 'GO:0031093',\n",
       " 'GO:0005777',\n",
       " 'GO:0060971',\n",
       " 'GO:0006002',\n",
       " 'GO:0006817',\n",
       " 'GO:0007165',\n",
       " 'GO:0050821',\n",
       " 'GO:0043679',\n",
       " 'GO:0004672',\n",
       " 'GO:0016579',\n",
       " 'GO:0055062',\n",
       " 'GO:0048018',\n",
       " 'GO:0006094',\n",
       " 'GO:0015629',\n",
       " 'GO:0005853',\n",
       " 'GO:0042476',\n",
       " 'GO:0061001',\n",
       " 'GO:0043198',\n",
       " 'GO:0034451',\n",
       " 'GO:0051965',\n",
       " 'GO:0030036',\n",
       " 'GO:0005925',\n",
       " 'GO:0009383',\n",
       " 'GO:0000151',\n",
       " 'GO:0070061',\n",
       " 'GO:0008092',\n",
       " 'GO:0005945',\n",
       " 'GO:0061383',\n",
       " 'GO:0051893',\n",
       " 'GO:0000027',\n",
       " 'GO:0043022',\n",
       " 'GO:0010717',\n",
       " 'GO:0008617',\n",
       " 'GO:0005829',\n",
       " 'GO:1990416',\n",
       " 'GO:0044319',\n",
       " 'GO:0042802',\n",
       " 'GO:0006116',\n",
       " 'GO:0032355',\n",
       " 'GO:0042074',\n",
       " 'GO:0007169',\n",
       " 'GO:0061615',\n",
       " 'GO:0048013',\n",
       " 'GO:0008360',\n",
       " 'GO:0051056',\n",
       " 'GO:0043280',\n",
       " 'GO:0004686',\n",
       " 'GO:0005769',\n",
       " 'GO:1902961',\n",
       " 'GO:0016208',\n",
       " 'GO:0048812',\n",
       " 'GO:0060972',\n",
       " 'GO:0006417',\n",
       " 'GO:0070507',\n",
       " 'GO:0009749',\n",
       " 'GO:0043087',\n",
       " 'GO:0017022',\n",
       " 'GO:0051593',\n",
       " 'GO:0042645',\n",
       " 'GO:0051259',\n",
       " 'GO:0070095',\n",
       " 'GO:0005576',\n",
       " 'GO:0008168',\n",
       " 'GO:0045879',\n",
       " 'GO:0042803',\n",
       " 'GO:0010468',\n",
       " 'GO:0051602',\n",
       " 'GO:1901684',\n",
       " 'GO:0071803',\n",
       " 'GO:0071902',\n",
       " 'GO:0021795',\n",
       " 'GO:0032869',\n",
       " 'GO:0048015',\n",
       " 'GO:0032154',\n",
       " 'GO:0043312',\n",
       " 'GO:0006625',\n",
       " 'GO:0005355',\n",
       " 'GO:0045944',\n",
       " 'GO:0005762',\n",
       " 'GO:0000049',\n",
       " 'GO:1904724',\n",
       " 'GO:0032784',\n",
       " 'GO:0051496',\n",
       " 'GO:0018108',\n",
       " 'GO:1904646',\n",
       " 'GO:0010977',\n",
       " 'GO:0070129',\n",
       " 'GO:0042493',\n",
       " 'GO:0034329',\n",
       " 'GO:0001540',\n",
       " 'GO:0035864',\n",
       " 'GO:0051260',\n",
       " 'GO:0043085',\n",
       " 'GO:0030326',\n",
       " 'GO:0036089',\n",
       " 'GO:1905274',\n",
       " 'GO:0008022',\n",
       " 'GO:0007266',\n",
       " 'GO:0072686',\n",
       " 'GO:0030667',\n",
       " 'GO:0044267',\n",
       " 'GO:0043123',\n",
       " 'GO:0036088',\n",
       " 'GO:1904695',\n",
       " 'GO:0098719',\n",
       " 'GO:0003339',\n",
       " 'GO:0035108',\n",
       " 'GO:0006754',\n",
       " 'GO:0072178',\n",
       " 'GO:0061303',\n",
       " 'GO:0009786',\n",
       " 'GO:0005085',\n",
       " 'GO:0043231',\n",
       " 'GO:0002363',\n",
       " 'GO:0035914',\n",
       " 'GO:2000145',\n",
       " 'GO:0042731',\n",
       " 'GO:0030425',\n",
       " 'GO:0005886',\n",
       " 'GO:0005741',\n",
       " 'GO:0098794',\n",
       " 'GO:0019003',\n",
       " 'GO:0042256',\n",
       " 'GO:0039706',\n",
       " 'GO:0003735',\n",
       " 'GO:0016032',\n",
       " 'GO:0009615',\n",
       " 'GO:0008135',\n",
       " 'GO:0003884',\n",
       " 'GO:0005783',\n",
       " 'GO:0046070',\n",
       " 'GO:0005004',\n",
       " 'GO:0030509',\n",
       " 'GO:0019904',\n",
       " 'GO:0048037']"
      ]
     },
     "execution_count": 150,
     "metadata": {},
     "output_type": "execute_result"
    }
   ],
   "source": [
    "GOs"
   ]
  },
  {
   "cell_type": "code",
   "execution_count": 151,
   "metadata": {
    "ExecuteTime": {
     "end_time": "2019-06-25T14:13:15.358867Z",
     "start_time": "2019-06-25T14:13:15.354998Z"
    }
   },
   "outputs": [
    {
     "data": {
      "text/plain": [
       "['GO:0006414',\n",
       " 'GO:0097155',\n",
       " 'GO:0035150',\n",
       " 'GO:0070061',\n",
       " 'GO:0009383',\n",
       " 'GO:2000187',\n",
       " 'GO:0019115',\n",
       " 'GO:1903673',\n",
       " 'GO:0036088',\n",
       " 'GO:0046122']"
      ]
     },
     "execution_count": 151,
     "metadata": {},
     "output_type": "execute_result"
    }
   ],
   "source": [
    "gos"
   ]
  },
  {
   "cell_type": "code",
   "execution_count": 152,
   "metadata": {
    "ExecuteTime": {
     "end_time": "2019-06-25T14:13:54.944901Z",
     "start_time": "2019-06-25T14:13:54.941145Z"
    }
   },
   "outputs": [
    {
     "name": "stdout",
     "output_type": "stream",
     "text": [
      "GO:0019115\n"
     ]
    }
   ],
   "source": [
    "for g in gos:\n",
    "    if g not in GOs:\n",
    "        print(g)"
   ]
  },
  {
   "cell_type": "code",
   "execution_count": 153,
   "metadata": {
    "ExecuteTime": {
     "end_time": "2019-06-25T14:20:54.315848Z",
     "start_time": "2019-06-25T14:20:54.311671Z"
    }
   },
   "outputs": [
    {
     "data": {
      "text/plain": [
       "[127]"
      ]
     },
     "execution_count": 153,
     "metadata": {},
     "output_type": "execute_result"
    }
   ],
   "source": [
    "go2gene['GO:0019115']"
   ]
  },
  {
   "cell_type": "code",
   "execution_count": 156,
   "metadata": {
    "ExecuteTime": {
     "end_time": "2019-06-25T14:24:37.464105Z",
     "start_time": "2019-06-25T14:24:37.459975Z"
    },
    "scrolled": true
   },
   "outputs": [
    {
     "data": {
      "text/plain": [
       "[226,\n",
       " 229,\n",
       " 387,\n",
       " 1610,\n",
       " 1716,\n",
       " 1915,\n",
       " 1917,\n",
       " 1933,\n",
       " 1936,\n",
       " 1937,\n",
       " 1938,\n",
       " 1954,\n",
       " 2042,\n",
       " 2043,\n",
       " 4839,\n",
       " 5211,\n",
       " 5213,\n",
       " 6176,\n",
       " 6181,\n",
       " 6518,\n",
       " 6569,\n",
       " 7284,\n",
       " 7484,\n",
       " 9567,\n",
       " 10102,\n",
       " 10767,\n",
       " 29904,\n",
       " 54676,\n",
       " 60678,\n",
       " 79631,\n",
       " 80325,\n",
       " 387338,\n",
       " 100507053]"
      ]
     },
     "execution_count": 156,
     "metadata": {},
     "output_type": "execute_result"
    }
   ],
   "source": [
    "mapped"
   ]
  },
  {
   "cell_type": "code",
   "execution_count": 159,
   "metadata": {
    "ExecuteTime": {
     "end_time": "2019-06-25T14:41:06.162004Z",
     "start_time": "2019-06-25T14:41:06.150208Z"
    }
   },
   "outputs": [
    {
     "data": {
      "text/html": [
       "<div>\n",
       "<style scoped>\n",
       "    .dataframe tbody tr th:only-of-type {\n",
       "        vertical-align: middle;\n",
       "    }\n",
       "\n",
       "    .dataframe tbody tr th {\n",
       "        vertical-align: top;\n",
       "    }\n",
       "\n",
       "    .dataframe thead th {\n",
       "        text-align: right;\n",
       "    }\n",
       "</style>\n",
       "<table border=\"1\" class=\"dataframe\">\n",
       "  <thead>\n",
       "    <tr style=\"text-align: right;\">\n",
       "      <th></th>\n",
       "      <th>chromosome</th>\n",
       "      <th>source</th>\n",
       "      <th>type</th>\n",
       "      <th>start</th>\n",
       "      <th>end</th>\n",
       "      <th>strand</th>\n",
       "      <th>gene_symbol</th>\n",
       "      <th>gene_ensID</th>\n",
       "      <th>length</th>\n",
       "      <th>entrezid</th>\n",
       "    </tr>\n",
       "  </thead>\n",
       "  <tbody>\n",
       "    <tr>\n",
       "      <th>15427</th>\n",
       "      <td>4</td>\n",
       "      <td>ensembl_havana</td>\n",
       "      <td>gene</td>\n",
       "      <td>99123657</td>\n",
       "      <td>99157792</td>\n",
       "      <td>-</td>\n",
       "      <td>ADH4</td>\n",
       "      <td>ENSG00000198099</td>\n",
       "      <td>34136</td>\n",
       "      <td>127</td>\n",
       "    </tr>\n",
       "  </tbody>\n",
       "</table>\n",
       "</div>"
      ],
      "text/plain": [
       "      chromosome          source  type     start       end strand gene_symbol  \\\n",
       "15427  4          ensembl_havana  gene  99123657  99157792  -      ADH4         \n",
       "\n",
       "            gene_ensID  length  entrezid  \n",
       "15427  ENSG00000198099  34136   127       "
      ]
     },
     "execution_count": 159,
     "metadata": {},
     "output_type": "execute_result"
    }
   ],
   "source": [
    "geneAnnotationDF.loc[geneAnnotationDF.entrezid == 127]"
   ]
  },
  {
   "cell_type": "code",
   "execution_count": 160,
   "metadata": {
    "ExecuteTime": {
     "end_time": "2019-06-25T14:41:23.599607Z",
     "start_time": "2019-06-25T14:41:23.589308Z"
    }
   },
   "outputs": [
    {
     "data": {
      "text/html": [
       "<div>\n",
       "<style scoped>\n",
       "    .dataframe tbody tr th:only-of-type {\n",
       "        vertical-align: middle;\n",
       "    }\n",
       "\n",
       "    .dataframe tbody tr th {\n",
       "        vertical-align: top;\n",
       "    }\n",
       "\n",
       "    .dataframe thead th {\n",
       "        text-align: right;\n",
       "    }\n",
       "</style>\n",
       "<table border=\"1\" class=\"dataframe\">\n",
       "  <thead>\n",
       "    <tr style=\"text-align: right;\">\n",
       "      <th></th>\n",
       "      <th>chromosome</th>\n",
       "      <th>source</th>\n",
       "      <th>type</th>\n",
       "      <th>start</th>\n",
       "      <th>end</th>\n",
       "      <th>strand</th>\n",
       "      <th>gene_symbol</th>\n",
       "      <th>gene_ensID</th>\n",
       "      <th>length</th>\n",
       "      <th>entrezid</th>\n",
       "    </tr>\n",
       "  </thead>\n",
       "  <tbody>\n",
       "    <tr>\n",
       "      <th>10659</th>\n",
       "      <td>19</td>\n",
       "      <td>ensembl_havana</td>\n",
       "      <td>gene</td>\n",
       "      <td>48172318</td>\n",
       "      <td>48287608</td>\n",
       "      <td>+</td>\n",
       "      <td>ZNF114</td>\n",
       "      <td>ENSG00000178150</td>\n",
       "      <td>115291</td>\n",
       "      <td>163071</td>\n",
       "    </tr>\n",
       "  </tbody>\n",
       "</table>\n",
       "</div>"
      ],
      "text/plain": [
       "      chromosome          source  type     start       end strand gene_symbol  \\\n",
       "10659  19         ensembl_havana  gene  48172318  48287608  +      ZNF114       \n",
       "\n",
       "            gene_ensID  length  entrezid  \n",
       "10659  ENSG00000178150  115291  163071    "
      ]
     },
     "execution_count": 160,
     "metadata": {},
     "output_type": "execute_result"
    }
   ],
   "source": [
    "geneAnnotationDF.loc[geneAnnotationDF.entrezid == 163071]"
   ]
  },
  {
   "cell_type": "code",
   "execution_count": 161,
   "metadata": {
    "ExecuteTime": {
     "end_time": "2019-06-25T14:42:30.446183Z",
     "start_time": "2019-06-25T14:42:30.442334Z"
    }
   },
   "outputs": [
    {
     "data": {
      "text/plain": [
       "array([list([9061792, 46352664]), list([73942893, 206161256, 221496114]),\n",
       "       list([49386071, 89294829, 127676927, 128281050]), list([99140724]),\n",
       "       list([177389041]), list([43617239, 73519773, 135031717]), list([]),\n",
       "       list([143589619]), list([101428200]), list([]),\n",
       "       list([811263, 62566843]),\n",
       "       list([6562777, 48125771, 57795330, 108879987]), list([]), list([]),\n",
       "       list([69454489, 82196496]), list([22247507, 28844409, 30061773]),\n",
       "       list([46859965]), list([]), list([3980762, 42352189]),\n",
       "       list([63493664]), list([44313713]), list([38722011]), list([]),\n",
       "       list([]), list([])], dtype=object)"
      ]
     },
     "execution_count": 161,
     "metadata": {},
     "output_type": "execute_result"
    }
   ],
   "source": [
    "rdy2TestSites"
   ]
  },
  {
   "cell_type": "code",
   "execution_count": null,
   "metadata": {},
   "outputs": [],
   "source": []
  },
  {
   "cell_type": "code",
   "execution_count": null,
   "metadata": {},
   "outputs": [],
   "source": []
  },
  {
   "cell_type": "code",
   "execution_count": null,
   "metadata": {},
   "outputs": [],
   "source": []
  }
 ],
 "metadata": {
  "kernelspec": {
   "display_name": "Python 3",
   "language": "python",
   "name": "python3"
  },
  "language_info": {
   "codemirror_mode": {
    "name": "ipython",
    "version": 3
   },
   "file_extension": ".py",
   "mimetype": "text/x-python",
   "name": "python",
   "nbconvert_exporter": "python",
   "pygments_lexer": "ipython3",
   "version": "3.7.3"
  },
  "varInspector": {
   "cols": {
    "lenName": 16,
    "lenType": 16,
    "lenVar": 40
   },
   "kernels_config": {
    "python": {
     "delete_cmd_postfix": "",
     "delete_cmd_prefix": "del ",
     "library": "var_list.py",
     "varRefreshCmd": "print(var_dic_list())"
    },
    "r": {
     "delete_cmd_postfix": ") ",
     "delete_cmd_prefix": "rm(",
     "library": "var_list.r",
     "varRefreshCmd": "cat(var_dic_list()) "
    }
   },
   "types_to_exclude": [
    "module",
    "function",
    "builtin_function_or_method",
    "instance",
    "_Feature"
   ],
   "window_display": false
  }
 },
 "nbformat": 4,
 "nbformat_minor": 2
}
