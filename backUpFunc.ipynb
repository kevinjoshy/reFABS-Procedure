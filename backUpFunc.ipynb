{
 "cells": [
  {
   "cell_type": "raw",
   "metadata": {},
   "source": [
    "def closestGeneNSitesBody(DFL_BS, window):\n",
    "    groupedGenes = addWindow(window)\n",
    "    outputGeneL = []\n",
    "    pos = 0 # position in the DF we are looking at \n",
    "    \n",
    "    for sitesDF in DFL_BS: # DFL_BS is dataframe of chomosomes with N_BS ordered by the chromosome number  \n",
    "        cutoff = 0 # Don't need to search above this index so cut it off\n",
    "        \n",
    "        for site in zip(sitesDF['BindingSite'].values):\n",
    "            endCut = len(groupedGenes[pos])\n",
    "            df = groupedGenes[pos].iloc[cutoff:endCut]  #endCut is the length of groupedGenes[pos]\n",
    "            gene = df.loc[((df.lowB - site[0]) * (df.upperB - site[0])) < 0]#.head(1)\n",
    "            if gene.empty == True:\n",
    "                outputGeneL.append('No Result')\n",
    "            else:\n",
    "                outputGeneL.append(gene.iat[0,9])\n",
    "        pos = pos + 1\n",
    "    return outputGeneL"
   ]
  },
  {
   "cell_type": "raw",
   "metadata": {},
   "source": [
    "Adds a window range by adding COl lowB and upperB \n",
    "def addWindow(window):\n",
    "    geneWindowDF = geneDFL.copy()\n",
    "    for d in geneWindowDF:\n",
    "        d['lowB'] = d.start - window\n",
    "        d['upperB'] = d.end + window\n",
    "        d['midBody'] = (round(d.length / 2) + d.start).astype(int) # Middle of gene body \n",
    "    return(geneWindowDF)"
   ]
  },
  {
   "cell_type": "raw",
   "metadata": {},
   "source": [
    "# Given specific chromosome, rdm binding site, window: Will calculate closest gene(body) from its site. and distance\n",
    "def closestGeneBody(chrNum, site, window):\n",
    "    s = time.time()\n",
    "    geneDF = geneAnnotationDF.loc[geneAnnotationDF['chromosome'] == str(chrNum)]\n",
    "    startG = geneDF.iloc[(geneDF['start'] - site).abs().argsort()].head(1)\n",
    "    endG = geneDF.iloc[(geneDF['end'] - site).abs().argsort()].head(1)\n",
    "    bodyG = geneDF[(geneDF['start'] <= site) & (geneDF['end'] >= site)]\n",
    "\n",
    "    if bodyG.empty == False: \n",
    "        return(bodyG['entrezid'].iloc[0])\n",
    "    \n",
    "    startDist = distanceBody(startG['start'].iloc[0], startG['end'].iloc[0], site)\n",
    "    endDist = distanceBody(endG['start'].iloc[0], endG['end'].iloc[0], site)\n",
    "    if startDist < endDist:\n",
    "        if isNearBody(startG['start'].iloc[0], startG['end'].iloc[0], site, window):\n",
    "            return(startG['entrezid'].iloc[0])\n",
    "        else:\n",
    "            return('No Result')\n",
    "    else:\n",
    "        if isNearBody(endG['start'].iloc[0], endG['end'].iloc[0], site, window):\n",
    "            return(endG['entrezid'].iloc[0])\n",
    "        else:\n",
    "            return('No Result')"
   ]
  },
  {
   "cell_type": "raw",
   "metadata": {},
   "source": [
    "# Takes DF and Window size: Returnes Total Gene count and List of CLOSEST Gene Near its BODY for every site(K = 1)\n",
    "def closestGenesNsitesBody(df, window):\n",
    "    geneL = []   \n",
    "    for row in zip(df['chromosome'].astype(str), df['BindingSite'].values):\n",
    "        x = closestGeneBody(row[0], row[1], window)\n",
    "        if x == 'No Result':\n",
    "            pass\n",
    "        else:\n",
    "            geneL.append(x)\n",
    "    return(geneL)\n"
   ]
  }
 ],
 "metadata": {
  "kernelspec": {
   "display_name": "Python 3",
   "language": "python",
   "name": "python3"
  },
  "language_info": {
   "codemirror_mode": {
    "name": "ipython",
    "version": 3
   },
   "file_extension": ".py",
   "mimetype": "text/x-python",
   "name": "python",
   "nbconvert_exporter": "python",
   "pygments_lexer": "ipython3",
   "version": "3.7.3"
  }
 },
 "nbformat": 4,
 "nbformat_minor": 2
}
