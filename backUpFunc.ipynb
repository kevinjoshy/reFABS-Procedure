{
 "cells": [
  {
   "cell_type": "raw",
   "metadata": {},
   "source": [
    "def closestGeneNSitesBody(DFL_BS, window):\n",
    "    groupedGenes = addWindow(window)\n",
    "    outputGeneL = []\n",
    "    pos = 0 # position in the DF we are looking at \n",
    "    \n",
    "    for sitesDF in DFL_BS: # DFL_BS is dataframe of chomosomes with N_BS ordered by the chromosome number  \n",
    "        cutoff = 0 # Don't need to search above this index so cut it off\n",
    "        \n",
    "        for site in zip(sitesDF['BindingSite'].values):\n",
    "            endCut = len(groupedGenes[pos])\n",
    "            df = groupedGenes[pos].iloc[cutoff:endCut]  #endCut is the length of groupedGenes[pos]\n",
    "            gene = df.loc[((df.lowB - site[0]) * (df.upperB - site[0])) < 0]#.head(1)\n",
    "            if gene.empty == True:\n",
    "                outputGeneL.append('No Result')\n",
    "            else:\n",
    "                outputGeneL.append(gene.iat[0,9])\n",
    "        pos = pos + 1\n",
    "    return outputGeneL"
   ]
  },
  {
   "cell_type": "raw",
   "metadata": {},
   "source": [
    "Adds a window range by adding COl lowB and upperB \n",
    "def addWindow(window):\n",
    "    geneWindowDF = geneDFL.copy()\n",
    "    for d in geneWindowDF:\n",
    "        d['lowB'] = d.start - window\n",
    "        d['upperB'] = d.end + window\n",
    "        d['midBody'] = (round(d.length / 2) + d.start).astype(int) # Middle of gene body \n",
    "    return(geneWindowDF)"
   ]
  },
  {
   "cell_type": "raw",
   "metadata": {},
   "source": [
    "# Given specific chromosome, rdm binding site, window: Will calculate closest gene(body) from its site. and distance\n",
    "def closestGeneBody(chrNum, site, window):\n",
    "    s = time.time()\n",
    "    geneDF = geneAnnotationDF.loc[geneAnnotationDF['chromosome'] == str(chrNum)]\n",
    "    startG = geneDF.iloc[(geneDF['start'] - site).abs().argsort()].head(1)\n",
    "    endG = geneDF.iloc[(geneDF['end'] - site).abs().argsort()].head(1)\n",
    "    bodyG = geneDF[(geneDF['start'] <= site) & (geneDF['end'] >= site)]\n",
    "\n",
    "    if bodyG.empty == False: \n",
    "        return(bodyG['entrezid'].iloc[0])\n",
    "    \n",
    "    startDist = distanceBody(startG['start'].iloc[0], startG['end'].iloc[0], site)\n",
    "    endDist = distanceBody(endG['start'].iloc[0], endG['end'].iloc[0], site)\n",
    "    if startDist < endDist:\n",
    "        if isNearBody(startG['start'].iloc[0], startG['end'].iloc[0], site, window):\n",
    "            return(startG['entrezid'].iloc[0])\n",
    "        else:\n",
    "            return('No Result')\n",
    "    else:\n",
    "        if isNearBody(endG['start'].iloc[0], endG['end'].iloc[0], site, window):\n",
    "            return(endG['entrezid'].iloc[0])\n",
    "        else:\n",
    "            return('No Result')"
   ]
  },
  {
   "cell_type": "raw",
   "metadata": {},
   "source": [
    "# Takes DF and Window size: Returnes Total Gene count and List of CLOSEST Gene Near its BODY for every site(K = 1)\n",
    "def closestGenesNsitesBody(df, window):\n",
    "    geneL = []   \n",
    "    for row in zip(df['chromosome'].astype(str), df['BindingSite'].values):\n",
    "        x = closestGeneBody(row[0], row[1], window)\n",
    "        if x == 'No Result':\n",
    "            pass\n",
    "        else:\n",
    "            geneL.append(x)\n",
    "    return(geneL)\n"
   ]
  },
  {
   "cell_type": "raw",
   "metadata": {},
   "source": [
    "def adjP(dataSET):\n",
    "    GOdataSet = dataSET\n",
    "    goGrp = [[],[],[],[],[],[],[],[],[],[]]\n",
    "    numAssGrp = [[1], [2], [3], [4], [5, 6], [7, 8], [9, 10, 11, 12], [13, 14, 15, 16, 17, 18], [19, 20, 21, 22, 23, 24, 25, 26, 27, 28, 29, 30, 31, 32, 33], [34, 35, 36, 37, 38, 39, 40, 41, 42, 43, 44, 45, 46, 47, 48, 49, 50, 51, 52, 53, 54, 55, 56, 57, 58, 59, 60, 61, 62, 63, 64, 65, 66, 67, 68, 69, 70, 71, 72, 73, 74, 75, 76, 77, 78, 79, 80, 81, 82, 83, 84, 85, 86, 87, 88, 89, 90, 91, 92, 93, 94, 95, 96, 97, 98, 99, 100, 101, 102, 103, 104, 105, 106, 107, 108, 109, 110, 111, 112, 113, 114, 115, 116, 117, 118, 119, 120, 122, 123, 124, 125, 126, 127, 128, 129, 130, 131, 132, 133, 134, 135, 137, 138, 139, 140, 141, 142, 144, 145, 146, 147, 148, 149, 150, 151, 152, 153, 154, 155, 156, 157, 158, 160, 161, 163, 164, 166, 167, 168, 169, 170, 171, 172, 173, 174, 175, 176, 177, 178, 179, 180, 182, 183, 185, 187, 188, 189, 190, 191, 193, 194, 196, 198, 200, 201, 202, 203, 204, 205, 206, 208, 210, 211, 212, 213, 214, 216, 217, 218, 219, 221, 225, 226, 229, 232, 234, 235, 236, 238, 239, 240, 242, 244, 249, 250, 251, 252, 254, 262, 263, 264, 265, 268, 272, 273, 278, 280, 282, 285, 290, 295, 297, 301, 307, 308, 310, 311, 312, 313, 315, 324, 329, 330, 334, 343, 344, 347, 354, 360, 362, 364, 366, 368, 371, 374, 375, 385, 387, 395, 397, 405, 409, 411, 413, 420, 424, 427, 431, 439, 441, 457, 458, 467, 474, 481, 483, 491, 496, 502, 504, 505, 524, 529, 537, 540, 547, 548, 552, 565, 578, 605, 610, 611, 667, 670, 689, 703, 706, 812, 816, 859, 927, 960, 973, 980, 1059, 1132, 1134, 1150, 1227, 1304, 1381, 1388, 1456, 1473, 1546, 1778, 1911, 1987, 2163, 2292, 3168, 3637, 4438, 4482, 5026, 5627, 9691]]\n",
    "    numGO = [5184, 2895, 1743, 1241, 1551, 1018, 1219, 1028, 1020, 1275] # Number of GO terms in each group above.\n",
    "    \n",
    "    for go in GOdataSet:\n",
    "        numAss = len(go2gene[go[0]])\n",
    "        for i in range(len(numAssGrp)):\n",
    "            if numAss in numAssGrp[i]:\n",
    "                goGrp[i].append(go)\n",
    "    \n",
    "    pos = 0\n",
    "    for GOdata in goGrp:\n",
    "        fishersP = []\n",
    "        refabsP = []\n",
    "        for l in GOdata:\n",
    "            fishersP.append(l[1][1])\n",
    "            refabsP.append(l[1][2])\n",
    "         \n",
    "        if len(fishersP) < numGO[pos]:\n",
    "            numAppend = numGO[pos] - len(fishersP)\n",
    "            fishersP += [1] * numAppend\n",
    "            refabsP += [1] * numAppend\n",
    "        pos += 1         \n",
    "        \n",
    "        reject, fishersPadj, alphacSidak, alphacBonf = padjust(fishersP, method='fdr_bh', is_sorted=False)\n",
    "        reject2, refabsPadj, alphacSidak2, alphacBonf2 = padjust(refabsP, method='fdr_bh', is_sorted=False)\n",
    "        correctedfishers = []\n",
    "        correctedrefabs = []\n",
    "        for i in range(len(GOdata)):\n",
    "            correctedfishers.append(float(fishersPadj[i]))\n",
    "            correctedrefabs.append(float(refabsPadj[i]))\n",
    "        \n",
    "        for i in range(len(GOdata)):\n",
    "            GOdata[i][1].append(correctedfishers[i])\n",
    "            GOdata[i][1].append(correctedrefabs[i])\n",
    "    groupedGO = []\n",
    "    for i in goGrp:\n",
    "        for j in i:\n",
    "            groupedGO.append(j)\n",
    "    groupedGO = sorted(groupedGO, key = lambda x: x[1][1])\n",
    "    return groupedGO # go: [odds, fishersP, refabsP, correctedfishers, correctedrefabs]"
   ]
  }
 ],
 "metadata": {
  "kernelspec": {
   "display_name": "Python 3",
   "language": "python",
   "name": "python3"
  },
  "language_info": {
   "codemirror_mode": {
    "name": "ipython",
    "version": 3
   },
   "file_extension": ".py",
   "mimetype": "text/x-python",
   "name": "python",
   "nbconvert_exporter": "python",
   "pygments_lexer": "ipython3",
   "version": "3.7.3"
  },
  "varInspector": {
   "cols": {
    "lenName": 16,
    "lenType": 16,
    "lenVar": 40
   },
   "kernels_config": {
    "python": {
     "delete_cmd_postfix": "",
     "delete_cmd_prefix": "del ",
     "library": "var_list.py",
     "varRefreshCmd": "print(var_dic_list())"
    },
    "r": {
     "delete_cmd_postfix": ") ",
     "delete_cmd_prefix": "rm(",
     "library": "var_list.r",
     "varRefreshCmd": "cat(var_dic_list()) "
    }
   },
   "types_to_exclude": [
    "module",
    "function",
    "builtin_function_or_method",
    "instance",
    "_Feature"
   ],
   "window_display": false
  }
 },
 "nbformat": 4,
 "nbformat_minor": 2
}
