{
 "cells": [
  {
   "cell_type": "raw",
   "metadata": {},
   "source": [
    "def closestGeneNSitesBody(DFL_BS, window):\n",
    "    groupedGenes = addWindow(window)\n",
    "    outputGeneL = []\n",
    "    pos = 0 # position in the DF we are looking at \n",
    "    \n",
    "    for sitesDF in DFL_BS: # DFL_BS is dataframe of chomosomes with N_BS ordered by the chromosome number  \n",
    "        cutoff = 0 # Don't need to search above this index so cut it off\n",
    "        \n",
    "        for site in zip(sitesDF['BindingSite'].values):\n",
    "            endCut = len(groupedGenes[pos])\n",
    "            df = groupedGenes[pos].iloc[cutoff:endCut]  #endCut is the length of groupedGenes[pos]\n",
    "            gene = df.loc[((df.lowB - site[0]) * (df.upperB - site[0])) < 0]#.head(1)\n",
    "            if gene.empty == True:\n",
    "                outputGeneL.append('No Result')\n",
    "            else:\n",
    "                outputGeneL.append(gene.iat[0,9])\n",
    "        pos = pos + 1\n",
    "    return outputGeneL"
   ]
  },
  {
   "cell_type": "raw",
   "metadata": {},
   "source": [
    "Adds a window range by adding COl lowB and upperB \n",
    "def addWindow(window):\n",
    "    geneWindowDF = geneDFL.copy()\n",
    "    for d in geneWindowDF:\n",
    "        d['lowB'] = d.start - window\n",
    "        d['upperB'] = d.end + window\n",
    "        d['midBody'] = (round(d.length / 2) + d.start).astype(int) # Middle of gene body \n",
    "    return(geneWindowDF)"
   ]
  }
 ],
 "metadata": {
  "kernelspec": {
   "display_name": "Python 3",
   "language": "python",
   "name": "python3"
  },
  "language_info": {
   "codemirror_mode": {
    "name": "ipython",
    "version": 3
   },
   "file_extension": ".py",
   "mimetype": "text/x-python",
   "name": "python",
   "nbconvert_exporter": "python",
   "pygments_lexer": "ipython3",
   "version": "3.7.3"
  }
 },
 "nbformat": 4,
 "nbformat_minor": 2
}
