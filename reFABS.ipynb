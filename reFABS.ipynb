{
 "cells": [
  {
   "cell_type": "code",
   "execution_count": 62,
   "metadata": {},
   "outputs": [],
   "source": [
    "import pandas as pd \n",
    "import matplotlib as plto\n",
    "import re as re \n",
    "\n",
    "#pd.set_option('display.max_colwidth', -1)\n",
    "\n",
    "col_names = ['seqid', 'source', 'type', 'start', 'end', 'score', 'strand', 'phase', 'attributes'] # For df object\n",
    "#df = data frame object of the Homo Sapians file \n",
    "df = pd.read_csv('Homo_sapiens.GRCh38.85.gff3.gz', compression='gzip',\n",
    "                         sep='\\t', comment='#', low_memory=False,\n",
    "                         header=None, names=col_names)"
   ]
  },
  {
   "cell_type": "markdown",
   "metadata": {},
   "source": [
    "# <font color=#4286f4>Setting up my DataFrame as variable: genes</font>"
   ]
  },
  {
   "cell_type": "code",
   "execution_count": 63,
   "metadata": {},
   "outputs": [],
   "source": [
    "genes = df[df.type.isin(['gene'])]"
   ]
  },
  {
   "cell_type": "code",
   "execution_count": 64,
   "metadata": {
    "collapsed": true
   },
   "outputs": [
    {
     "name": "stderr",
     "output_type": "stream",
     "text": [
      "/Users/joshyk/anaconda3/lib/python3.7/site-packages/ipykernel_launcher.py:9: SettingWithCopyWarning: \n",
      "A value is trying to be set on a copy of a slice from a DataFrame.\n",
      "Try using .loc[row_indexer,col_indexer] = value instead\n",
      "\n",
      "See the caveats in the documentation: http://pandas.pydata.org/pandas-docs/stable/indexing.html#indexing-view-versus-copy\n",
      "  if __name__ == '__main__':\n"
     ]
    }
   ],
   "source": [
    "# ONLY NEEDS TO BE DONE ONCE!!!\n",
    "RE_GENE_NAME = re.compile(r'Name=(?P<gene_name>.+?);') \n",
    "\n",
    "#|Below| Searching for data in attributes col and then creating new col for that data\n",
    "def extract_gene_name(attributes_str): \n",
    "    res = RE_GENE_NAME.search(attributes_str)\n",
    "    return res.group('gene_name')\n",
    "\n",
    "genes['gene_name'] = genes.attributes.apply(extract_gene_name)"
   ]
  },
  {
   "cell_type": "code",
   "execution_count": 65,
   "metadata": {
    "collapsed": true
   },
   "outputs": [
    {
     "name": "stderr",
     "output_type": "stream",
     "text": [
      "/Users/joshyk/anaconda3/lib/python3.7/site-packages/ipykernel_launcher.py:8: SettingWithCopyWarning: \n",
      "A value is trying to be set on a copy of a slice from a DataFrame.\n",
      "Try using .loc[row_indexer,col_indexer] = value instead\n",
      "\n",
      "See the caveats in the documentation: http://pandas.pydata.org/pandas-docs/stable/indexing.html#indexing-view-versus-copy\n",
      "  \n"
     ]
    }
   ],
   "source": [
    "# THIS ALSO ONLY NEEDS TO BE DONE ONCE!!!\n",
    "RE_GENE_ID = re.compile(r'gene_id=(?P<gene_id>ENSG.+?);')\n",
    "def extract_gene_id(attributes_str): # New COL again\n",
    "    res = RE_GENE_ID.search(attributes_str)\n",
    "    return res.group('gene_id')\n",
    "\n",
    "\n",
    "genes['gene_id'] = genes.attributes.apply(extract_gene_id)"
   ]
  },
  {
   "cell_type": "code",
   "execution_count": 66,
   "metadata": {
    "collapsed": true
   },
   "outputs": [
    {
     "name": "stderr",
     "output_type": "stream",
     "text": [
      "/Users/joshyk/anaconda3/lib/python3.7/site-packages/ipykernel_launcher.py:2: SettingWithCopyWarning: \n",
      "A value is trying to be set on a copy of a slice from a DataFrame.\n",
      "Try using .loc[row_indexer,col_indexer] = value instead\n",
      "\n",
      "See the caveats in the documentation: http://pandas.pydata.org/pandas-docs/stable/indexing.html#indexing-view-versus-copy\n",
      "  \n"
     ]
    }
   ],
   "source": [
    "# THIS ALSO ONLY NEEDS TO BE DONE ONCE!!!\n",
    "genes['length'] = genes.end - genes.start + 1"
   ]
  },
  {
   "cell_type": "code",
   "execution_count": 67,
   "metadata": {
    "scrolled": true
   },
   "outputs": [
    {
     "data": {
      "text/html": [
       "<div>\n",
       "<style scoped>\n",
       "    .dataframe tbody tr th:only-of-type {\n",
       "        vertical-align: middle;\n",
       "    }\n",
       "\n",
       "    .dataframe tbody tr th {\n",
       "        vertical-align: top;\n",
       "    }\n",
       "\n",
       "    .dataframe thead th {\n",
       "        text-align: right;\n",
       "    }\n",
       "</style>\n",
       "<table border=\"1\" class=\"dataframe\">\n",
       "  <thead>\n",
       "    <tr style=\"text-align: right;\">\n",
       "      <th></th>\n",
       "      <th>seqid</th>\n",
       "      <th>source</th>\n",
       "      <th>type</th>\n",
       "      <th>start</th>\n",
       "      <th>end</th>\n",
       "      <th>score</th>\n",
       "      <th>strand</th>\n",
       "      <th>phase</th>\n",
       "      <th>attributes</th>\n",
       "      <th>gene_name</th>\n",
       "      <th>gene_id</th>\n",
       "      <th>length</th>\n",
       "    </tr>\n",
       "  </thead>\n",
       "  <tbody>\n",
       "    <tr>\n",
       "      <th>130905</th>\n",
       "      <td>1</td>\n",
       "      <td>ensembl_havana</td>\n",
       "      <td>gene</td>\n",
       "      <td>121184810</td>\n",
       "      <td>121392822</td>\n",
       "      <td>.</td>\n",
       "      <td>+</td>\n",
       "      <td>.</td>\n",
       "      <td>ID=gene:ENSG00000171943;Name=SRGAP2C;biotype=protein_coding;description=SLIT-ROBO Rho GTPase activating protein 2C [Source:HGNC Symbol%3BAcc:HGNC:30584];gene_id=ENSG00000171943;havana_gene=OTTHUMG00000041445;havana_version=3;logic_name=ensembl_havana_gene;version=11</td>\n",
       "      <td>SRGAP2C</td>\n",
       "      <td>ENSG00000171943</td>\n",
       "      <td>208013</td>\n",
       "    </tr>\n",
       "  </tbody>\n",
       "</table>\n",
       "</div>"
      ],
      "text/plain": [
       "       seqid          source  type      start        end score strand phase  \\\n",
       "130905  1     ensembl_havana  gene  121184810  121392822  .     +      .      \n",
       "\n",
       "                                                                                                                                                                                                                                                                        attributes  \\\n",
       "130905  ID=gene:ENSG00000171943;Name=SRGAP2C;biotype=protein_coding;description=SLIT-ROBO Rho GTPase activating protein 2C [Source:HGNC Symbol%3BAcc:HGNC:30584];gene_id=ENSG00000171943;havana_gene=OTTHUMG00000041445;havana_version=3;logic_name=ensembl_havana_gene;version=11   \n",
       "\n",
       "       gene_name          gene_id  length  \n",
       "130905  SRGAP2C   ENSG00000171943  208013  "
      ]
     },
     "execution_count": 67,
     "metadata": {},
     "output_type": "execute_result"
    }
   ],
   "source": [
    "genes.sample()"
   ]
  },
  {
   "cell_type": "markdown",
   "metadata": {},
   "source": [
    "# <font color=#4286f4>Estimating number of sites to be sampled randomly</font>"
   ]
  },
  {
   "cell_type": "code",
   "execution_count": null,
   "metadata": {},
   "outputs": [],
   "source": []
  },
  {
   "cell_type": "code",
   "execution_count": null,
   "metadata": {},
   "outputs": [],
   "source": []
  },
  {
   "cell_type": "code",
   "execution_count": null,
   "metadata": {},
   "outputs": [],
   "source": []
  },
  {
   "cell_type": "code",
   "execution_count": null,
   "metadata": {},
   "outputs": [],
   "source": []
  }
 ],
 "metadata": {
  "kernelspec": {
   "display_name": "Python 3",
   "language": "python",
   "name": "python3"
  },
  "language_info": {
   "codemirror_mode": {
    "name": "ipython",
    "version": 3
   },
   "file_extension": ".py",
   "mimetype": "text/x-python",
   "name": "python",
   "nbconvert_exporter": "python",
   "pygments_lexer": "ipython3",
   "version": "3.7.3"
  }
 },
 "nbformat": 4,
 "nbformat_minor": 2
}
