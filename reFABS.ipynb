{
 "cells": [
  {
   "cell_type": "code",
   "execution_count": 75,
   "metadata": {},
   "outputs": [],
   "source": [
    "import pandas as pd \n",
    "import matplotlib as plto\n",
    "import re as re \n",
    "import random as rand\n",
    "import numpy as np\n",
    "\n",
    "pd.set_option('display.max_colwidth', -1)\n",
    "\n",
    "col_names = ['chromosome', 'source', 'type', 'start', 'end', 'score', 'strand', 'phase', 'attributes'] # For df object\n",
    "#df = data frame object of the Homo Sapians file \n",
    "df = pd.read_csv('Homo_sapiens.GRCh38.85.gff3.gz', compression='gzip',\n",
    "                         sep='\\t', comment='#', low_memory=False,\n",
    "                         header=None, names=col_names)"
   ]
  },
  {
   "cell_type": "markdown",
   "metadata": {},
   "source": [
    "# <font color=#4286f4>Setting up my DataFrame as variable: genes/chromosome</font>"
   ]
  },
  {
   "cell_type": "code",
   "execution_count": 76,
   "metadata": {},
   "outputs": [],
   "source": [
    "geneAnnotations = df[df.type.isin(['gene'])]\n",
    "chromosome = df[df.type.isin(['chromosome'])]"
   ]
  },
  {
   "cell_type": "markdown",
   "metadata": {},
   "source": [
    "# <font color=#4286f4>Adding Columns to geneAnnotations: gene_name, gene_id, length</font>"
   ]
  },
  {
   "cell_type": "code",
   "execution_count": 77,
   "metadata": {
    "collapsed": true
   },
   "outputs": [
    {
     "name": "stderr",
     "output_type": "stream",
     "text": [
      "/anaconda3/lib/python3.7/site-packages/ipykernel_launcher.py:9: SettingWithCopyWarning: \n",
      "A value is trying to be set on a copy of a slice from a DataFrame.\n",
      "Try using .loc[row_indexer,col_indexer] = value instead\n",
      "\n",
      "See the caveats in the documentation: http://pandas.pydata.org/pandas-docs/stable/indexing.html#indexing-view-versus-copy\n",
      "  if __name__ == '__main__':\n"
     ]
    }
   ],
   "source": [
    "# ONLY NEEDS TO BE DONE ONCE!!!\n",
    "RE_GENE_NAME = re.compile(r'Name=(?P<gene_name>.+?);') \n",
    "\n",
    "#|Below| Searching for data in attributes col and then creating new col for that data\n",
    "def extract_gene_name(attributes_str): \n",
    "    res = RE_GENE_NAME.search(attributes_str)\n",
    "    return res.group('gene_name')\n",
    "\n",
    "geneAnnotations['gene_name'] = geneAnnotations.attributes.apply(extract_gene_name)"
   ]
  },
  {
   "cell_type": "code",
   "execution_count": 78,
   "metadata": {
    "collapsed": true
   },
   "outputs": [
    {
     "name": "stderr",
     "output_type": "stream",
     "text": [
      "/anaconda3/lib/python3.7/site-packages/ipykernel_launcher.py:7: SettingWithCopyWarning: \n",
      "A value is trying to be set on a copy of a slice from a DataFrame.\n",
      "Try using .loc[row_indexer,col_indexer] = value instead\n",
      "\n",
      "See the caveats in the documentation: http://pandas.pydata.org/pandas-docs/stable/indexing.html#indexing-view-versus-copy\n",
      "  import sys\n"
     ]
    }
   ],
   "source": [
    "# THIS ALSO ONLY NEEDS TO BE DONE ONCE!!!\n",
    "RE_GENE_ID = re.compile(r'gene_id=(?P<gene_id>ENSG.+?);')\n",
    "def extract_gene_id(attributes_str): # New COL again\n",
    "    res = RE_GENE_ID.search(attributes_str)\n",
    "    return res.group('gene_id')\n",
    "\n",
    "geneAnnotations['gene_id'] = geneAnnotations.attributes.apply(extract_gene_id)"
   ]
  },
  {
   "cell_type": "code",
   "execution_count": 79,
   "metadata": {
    "collapsed": true
   },
   "outputs": [
    {
     "name": "stderr",
     "output_type": "stream",
     "text": [
      "/anaconda3/lib/python3.7/site-packages/ipykernel_launcher.py:2: SettingWithCopyWarning: \n",
      "A value is trying to be set on a copy of a slice from a DataFrame.\n",
      "Try using .loc[row_indexer,col_indexer] = value instead\n",
      "\n",
      "See the caveats in the documentation: http://pandas.pydata.org/pandas-docs/stable/indexing.html#indexing-view-versus-copy\n",
      "  \n"
     ]
    }
   ],
   "source": [
    "# THIS ALSO ONLY NEEDS TO BE DONE ONCE!!!\n",
    "geneAnnotations['length'] = geneAnnotations.end - geneAnnotations.start + 1"
   ]
  },
  {
   "cell_type": "markdown",
   "metadata": {},
   "source": [
    "# <font color=#4286f4>Creating DataFrame for n Chromosomes with n sites </font>"
   ]
  },
  {
   "cell_type": "code",
   "execution_count": 80,
   "metadata": {
    "scrolled": false
   },
   "outputs": [],
   "source": [
    "#I need random chromosome combined with random position (Somewhere between start and end)\n",
    "def nBindingsites(n):    \n",
    "    randChr = chromosome.sample(n, replace=True)\n",
    "    randChr['BindingSite'] = (np.random.uniform(1, randChr.end).round()).astype(int)\n",
    "    return randChr\n",
    "    #Returns a DataFrame with Random sample number with random BindingSite"
   ]
  },
  {
   "cell_type": "code",
   "execution_count": 159,
   "metadata": {
    "scrolled": true
   },
   "outputs": [],
   "source": [
    "# Distance from Body\n",
    "def distanceBody(start, end, site):\n",
    "    return min(abs(start - site), abs(end - site))\n",
    "\n",
    "# Distance from TSS\n",
    "def distanceTSS(start, site):\n",
    "    return abs(start - site)\n",
    "\n",
    "#Returns True or False to wheather the binding site is within the window size to Body | Start Site below\n",
    "def isNearBody(start, end, site, window):\n",
    "    if abs(start - site) <= window:\n",
    "        return True\n",
    "    elif abs(end - site) <= window:\n",
    "        return True\n",
    "    else:\n",
    "        return False \n",
    "    \n",
    "def isNearTSS(start, site, window):\n",
    "    if abs(start - site) <= window:\n",
    "        return True\n",
    "    else: \n",
    "        return False"
   ]
  },
  {
   "cell_type": "code",
   "execution_count": 158,
   "metadata": {
    "scrolled": true
   },
   "outputs": [],
   "source": [
    "# geneAnnotations = geneAnnotations.drop(['attributes'], axis=1)"
   ]
  },
  {
   "cell_type": "markdown",
   "metadata": {},
   "source": [
    "# k = Infinity "
   ]
  },
  {
   "cell_type": "code",
   "execution_count": 83,
   "metadata": {
    "scrolled": true
   },
   "outputs": [],
   "source": [
    "#Given specific chromosome, rdm binding site, window: Will calculate number of nearby gene(bodies) from its site.\n",
    "def genesInWindowBody(chrNum, site, window):\n",
    "    count = 0\n",
    "    geneL = []\n",
    "    geneDF = geneAnnotations.loc[geneAnnotations['chromosome'] == str(chrNum)]\n",
    "    \n",
    "    for index, row in geneDF.iterrows():\n",
    "        if isNearBody(row['start'], row['end'], site, window):\n",
    "            count = count + 1\n",
    "            geneL.append(row['gene_name'])\n",
    "    return(count, geneL)\n",
    "\n",
    "#Given specific chromosome, rdm binding site, window: Will calculate number of nearby gene(TSS) from the site.\n",
    "def genesInWindowTSS(chrNum, site, window):\n",
    "    count = 0\n",
    "    geneL = []\n",
    "    geneDF = geneAnnotations.loc[geneAnnotations['chromosome'] == str(chrNum)]\n",
    "    \n",
    "    for index, row in geneDF.iterrows():\n",
    "        if isNearTSS(row['start'], site, window):\n",
    "            count = count + 1\n",
    "            geneL.append(row['gene_name'])    \n",
    "    return(count, geneL)\n"
   ]
  },
  {
   "cell_type": "markdown",
   "metadata": {},
   "source": [
    "## <font color=#4286f4>Given a window: Find all the genes inside window for the dataframe of chromosomes</font>"
   ]
  },
  {
   "cell_type": "code",
   "execution_count": 85,
   "metadata": {
    "collapsed": true
   },
   "outputs": [
    {
     "data": {
      "text/plain": [
       "(126,\n",
       " [['CLUL1',\n",
       "   'RP11-806L2.2',\n",
       "   'RP11-806L2.5',\n",
       "   'TYMS',\n",
       "   'ENOSF1',\n",
       "   'RP11-806L2.6',\n",
       "   'YES1',\n",
       "   'RP11-769O8.1',\n",
       "   'RP11-769O8.2',\n",
       "   'RP11-769O8.3',\n",
       "   'BOLA2P1',\n",
       "   'RP11-672L10.5',\n",
       "   'RP11-672L10.3',\n",
       "   'ADCYAP1',\n",
       "   'RP11-78F17.3',\n",
       "   'COX6CP3',\n",
       "   'RP11-288C17.3',\n",
       "   'RP11-288C17.1',\n",
       "   'CTD-2533G20.1',\n",
       "   'METTL4',\n",
       "   'RP11-715F3.2',\n",
       "   'RP11-715F3.1',\n",
       "   'NDC80',\n",
       "   'KATNBL1P3',\n",
       "   'CBX3P2',\n",
       "   'SMCHD1',\n",
       "   'RP11-703M24.5',\n",
       "   'EMILIN2',\n",
       "   'LPIN2',\n",
       "   'RP11-737O24.5',\n",
       "   'RP11-737O24.3',\n",
       "   'RP11-737O24.2',\n",
       "   'RP11-737O24.1',\n",
       "   'SNRPCP4',\n",
       "   'RP11-193E15.4',\n",
       "   'MYOM1',\n",
       "   'RP13-270P17.2',\n",
       "   'MYL12A',\n",
       "   'RP13-270P17.1',\n",
       "   'MYL12B',\n",
       "   'RPL31P59',\n",
       "   'IGLJCOR18',\n",
       "   'RPL21P127',\n",
       "   'TGIF1',\n",
       "   'BOD1P1',\n",
       "   'DLGAP1',\n",
       "   'RP11-710M11.1',\n",
       "   'DLGAP1-AS1',\n",
       "   'DLGAP1-AS2',\n",
       "   'RP11-874J12.4',\n",
       "   'RP11-874J12.3',\n",
       "   'DLGAP1-AS3',\n",
       "   'DLGAP1-AS4',\n",
       "   'GAPDHP66',\n",
       "   'DLGAP1-AS5',\n",
       "   'RP11-138C24.2',\n",
       "   'RP11-183C12.1',\n",
       "   'PPIAP14',\n",
       "   'BOD1P2',\n",
       "   'AKAIN1',\n",
       "   'RP11-835E18.4',\n",
       "   'ZBTB14',\n",
       "   'EPB41L3',\n",
       "   'RP11-286N3.1',\n",
       "   'RP11-286N3.2',\n",
       "   'TMEM200C',\n",
       "   'RP11-945C19.4',\n",
       "   'L3MBTL4',\n",
       "   'RP11-793A3.1',\n",
       "   'RP11-793A3.2',\n",
       "   'RP11-637N19.1',\n",
       "   'RPL6P27',\n",
       "   'CTD-2124B20.3',\n",
       "   'RP11-91I8.2',\n",
       "   'RP11-91I8.3',\n",
       "   'ARHGAP28',\n",
       "   'RP11-146G7.2',\n",
       "   'SCML2P1',\n",
       "   'LAMA1',\n",
       "   'RP11-781P6.1',\n",
       "   'RP11-76K13.3',\n",
       "   'SLC25A51P2',\n",
       "   'LRRC30',\n",
       "   'PTPRM',\n",
       "   'RP11-678G15.2',\n",
       "   'RP11-678G15.1',\n",
       "   'RP11-376P6.3',\n",
       "   'RP11-789C17.3',\n",
       "   'RP11-789C17.1',\n",
       "   'RP11-789C17.5',\n",
       "   'RFWD2P1',\n",
       "   'THEMIS3P',\n",
       "   'AKR1B1P6',\n",
       "   'RAB12',\n",
       "   'RP11-661O13.1',\n",
       "   'TOMM20P3',\n",
       "   'GACAT2',\n",
       "   'MTCL1',\n",
       "   'RP11-674N23.4',\n",
       "   'RPS4XP19',\n",
       "   'NDUFV2',\n",
       "   'RP11-143J12.3',\n",
       "   'NDUFV2-AS1',\n",
       "   'ANKRD12',\n",
       "   'RP11-888D10.4',\n",
       "   'TWSG1',\n",
       "   'RALBP1',\n",
       "   'RP11-61L19.1',\n",
       "   'RP11-61L19.3',\n",
       "   'PPP4R1',\n",
       "   'RP11-881L2.1',\n",
       "   'KRT18P8',\n",
       "   'RAB31',\n",
       "   'RP11-692N5.2',\n",
       "   'ZNF415P1',\n",
       "   'PIGPP4',\n",
       "   'TXNDC2',\n",
       "   'VAPA',\n",
       "   'APCDD1',\n",
       "   'NAPG',\n",
       "   'RP11-856M7.7',\n",
       "   'CCDC58P1',\n",
       "   'RP11-856M7.8',\n",
       "   'PMM2P1',\n",
       "   'RP11-856M7.1',\n",
       "   'PIEZO2']])"
      ]
     },
     "execution_count": 85,
     "metadata": {},
     "output_type": "execute_result"
    }
   ],
   "source": [
    "# Takes DF and Window size: Returnes Total Gene count and List of Genes Near Body of GENE (K=INFINITY)\n",
    "def geneCountNsitesBody(df, window):\n",
    "    count = 0 \n",
    "    geneL = []\n",
    "    \n",
    "    for index, row in df.iterrows():\n",
    "        c = genesInWindowBody(row['chromosome'], row['BindingSite'], window)\n",
    "        count = count + c[0]\n",
    "        geneL.append(c[1])\n",
    "    return(count, geneL)\n",
    "\n",
    "# Takes DF and Window size: Returnes Total Gene count and List of Genes Near TSS of GENE (K=INFINITY)\n",
    "def geneCountNsitesTSS(df, window):\n",
    "    count = 0 \n",
    "    geneL = []\n",
    "    \n",
    "    for index, row in df.iterrows():\n",
    "        c = genesInWindowTSS(row['chromosome'], row['BindingSite'], window)\n",
    "        count = count + c[0]\n",
    "        geneL.append(c[1])\n",
    "    return(count, geneL)\n",
    "\n",
    "geneCountNsitesBody(chromoDF, 5045299)"
   ]
  },
  {
   "cell_type": "markdown",
   "metadata": {},
   "source": [
    "# k = 1"
   ]
  },
  {
   "cell_type": "code",
   "execution_count": 133,
   "metadata": {},
   "outputs": [],
   "source": [
    "#Given specific chromosome, rdm binding site, window: Will calculate closest gene(body) from its site. and distance\n",
    "def closestGeneBody(chrNum, site, window):\n",
    "    out = ['gene_name', 999999999999999999999999999999999999999999]\n",
    "    geneDF = geneAnnotations.loc[geneAnnotations['chromosome'] == str(chrNum)]\n",
    "    \n",
    "    for index, row in geneDF.iterrows():\n",
    "        if isNearBody(row['start'], row['end'], site, window):\n",
    "            #count = count + 1\n",
    "            #geneL.append(pd.DataFrame([[row['chromosome'], row['source'], row['type'], row['start'], row['end'], row['score'], row['strand'], row['phase'], row['attributes']]], columns=col_names))\n",
    "            if distanceBody(row['start'], row['end'], site) < out[1]:\n",
    "                out[0] = row['gene_name']\n",
    "                out[1] = distanceBody(row['start'], row['end'], site)\n",
    "    # Returns closest gene and its distance from body. \n",
    "    return(out)\n",
    "\n",
    "#Given specific chromosome, rdm binding site, window: Will calculate closest gene(TSS) from its site. and Distance\n",
    "def closestGeneTSS(chrNum, site, window):\n",
    "    out = ['gene_name', 999999999999999999999999999999999999999999]\n",
    "    geneDF = geneAnnotations.loc[geneAnnotations['chromosome'] == str(chrNum)]\n",
    "    \n",
    "    for index, row in geneDF.iterrows():\n",
    "        if isNearTSS(row['start'], site, window):\n",
    "            #count = count + 1\n",
    "            #geneL.append(pd.DataFrame([[row['chromosome'], row['source'], row['type'], row['start'], row['end'], row['score'], row['strand'], row['phase'], row['attributes']]], columns=col_names))\n",
    "            if distanceTSS(row['start'], site) < out[1]:\n",
    "                out[0] = row['gene_name']\n",
    "                out[1] = distanceTSS(row['start'], site)\n",
    "    # Returns closest gene and its distance from body. \n",
    "    return(out)"
   ]
  },
  {
   "cell_type": "code",
   "execution_count": 150,
   "metadata": {},
   "outputs": [],
   "source": [
    "# Takes DF and Window size: Returnes Total Gene count and List of CLOSEST Gene Near its BODY for every site(K = 1)\n",
    "def closestGenesNsitesBody(df, window):\n",
    "    count = 0 \n",
    "    geneL = []\n",
    "    \n",
    "    for index, row in df.iterrows():\n",
    "        x = closestGeneBody(row['chromosome'], row['BindingSite'], window)\n",
    "        geneL.append(x[0])\n",
    "        count = count + 1\n",
    "    return(count, geneL)\n",
    "    \n",
    "\n",
    "# Takes DF and Window size: Returnes Total Gene count and List of CLOSEST Gene Near its TSS for every site (K = 1)\n",
    "def closestGenesNsitesTSS(df, window):\n",
    "    count = 0 \n",
    "    geneL = []\n",
    "    \n",
    "    for index, row in df.iterrows():\n",
    "        x = closestGeneTSS(row['chromosome'], row['BindingSite'], window)\n",
    "        geneL.append(x[0])\n",
    "        count = count + 1\n",
    "    return(count, geneL)\n",
    "\n",
    "\n",
    "testingDF = nBindingsites(100)\n"
   ]
  },
  {
   "cell_type": "code",
   "execution_count": null,
   "metadata": {},
   "outputs": [],
   "source": [
    "# finds unique in list | Might use later \n",
    "def unique(list1): \n",
    "    unique_list = [] \n",
    "      \n",
    "    for x in list1: \n",
    "        if x not in unique_list: \n",
    "            unique_list.append(x) \n",
    "    for x in unique_list: \n",
    "        print(x) "
   ]
  },
  {
   "cell_type": "code",
   "execution_count": null,
   "metadata": {},
   "outputs": [],
   "source": []
  }
 ],
 "metadata": {
  "kernelspec": {
   "display_name": "Python 3",
   "language": "python",
   "name": "python3"
  },
  "language_info": {
   "codemirror_mode": {
    "name": "ipython",
    "version": 3
   },
   "file_extension": ".py",
   "mimetype": "text/x-python",
   "name": "python",
   "nbconvert_exporter": "python",
   "pygments_lexer": "ipython3",
   "version": "3.7.3"
  }
 },
 "nbformat": 4,
 "nbformat_minor": 2
}
