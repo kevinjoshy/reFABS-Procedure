{
 "cells": [
  {
   "cell_type": "code",
   "execution_count": 32,
   "metadata": {
    "ExecuteTime": {
     "end_time": "2019-06-23T22:22:11.044379Z",
     "start_time": "2019-06-23T22:22:08.083774Z"
    }
   },
   "outputs": [],
   "source": [
    "%run reFABSwithVectors.ipynb\n",
    "%run ontologyPackage/ontologySTATanalysis.ipynb"
   ]
  },
  {
   "cell_type": "code",
   "execution_count": 48,
   "metadata": {
    "ExecuteTime": {
     "end_time": "2019-06-23T22:27:52.297013Z",
     "start_time": "2019-06-23T22:27:52.293978Z"
    }
   },
   "outputs": [],
   "source": [
    "# Given a list of lists with go term and its odds-ratio,p-val return a list of just GO terms \n",
    "def getGOfromAnalysis(goAnalysis):\n",
    "    goTermL = []\n",
    "    for k in goAnalysis:\n",
    "        goTermL.append(k)\n",
    "    return goTermL"
   ]
  },
  {
   "cell_type": "code",
   "execution_count": 49,
   "metadata": {
    "ExecuteTime": {
     "end_time": "2019-06-23T22:27:53.068747Z",
     "start_time": "2019-06-23T22:27:53.065390Z"
    }
   },
   "outputs": [],
   "source": [
    "# Given a list of GO terms returns a dict with key as GO term and values are gene entrez ids associated with term\n",
    "def updateGOdict(goL):\n",
    "    GOdict = { key: go2gene[key] for key in goL }\n",
    "    return GOdict"
   ]
  },
  {
   "cell_type": "code",
   "execution_count": 58,
   "metadata": {
    "ExecuteTime": {
     "end_time": "2019-06-23T22:29:36.286464Z",
     "start_time": "2019-06-23T22:29:36.278353Z"
    },
    "code_folding": []
   },
   "outputs": [],
   "source": [
    "# First run that sets up for the simulation\n",
    "def firstRun(userSitesL, window, method='TSS', simN=100): # userSites must be ordered by chromosome number (List of lists) # Default simN = 10000\n",
    "    if method == 'TSS':\n",
    "        geneL = addWindowTSS(window)\n",
    "    elif method == 'BODY': \n",
    "        geneL = addWindowBODY(window)\n",
    "    else:\n",
    "        return 'Only TSS or BODY method allowed!'\n",
    "    mappedGenes = geneReadSites(userSitesL, geneL)\n",
    "    numMapped = len(mappedGenes)\n",
    "    numsites = 0\n",
    "    for l in userSitesL:\n",
    "        numsites += len(l)\n",
    "    \n",
    "    goAnalysis = conductAnalysis(mappedGenes)\n",
    "    newGOlist = getGOfromAnalysis(goAnalysis)\n",
    "    \n",
    "    # estimate num sites to sample: numSitesSamp\n",
    "    nBSL = nRandSitesSim(numsites,5)\n",
    "    nPrime2 = 0 # Total num genes mapped to figure out nPrime value eventually for estimation\n",
    "    for BSL in nBSL:\n",
    "        nPrime2 += len(geneReadSites(BSL, geneL))\n",
    "    nPrime = int(nPrime2 / 5)\n",
    "    numSitesSamp = int((numMapped * numsites) / nPrime) # Num mapped genes * num sites inputted divided by nPrime \n",
    "    \n",
    "    return simulation(newGOlist, geneL, simN, numSitesSamp, goAnalysis) # GeneL is list of genes with window bounds "
   ]
  },
  {
   "cell_type": "code",
   "execution_count": 59,
   "metadata": {
    "ExecuteTime": {
     "end_time": "2019-06-23T22:29:37.061012Z",
     "start_time": "2019-06-23T22:29:37.056845Z"
    }
   },
   "outputs": [],
   "source": [
    "# Given original analysis and simulated analysis. Adds count to go term in original list if the random go term has a lower p-val and higher odds ratio \n",
    "def compareGOAnalysis(origAnalysis, simAnalysis):\n",
    "    for k in simAnalysis:\n",
    "        if (simAnalysis[k][0] > origAnalysis[k][0]) and (simAnalysis[k][1] < origAnalysis[k][1]):\n",
    "            origAnalysis[k][2] += 1\n",
    "    return origAnalysis        "
   ]
  },
  {
   "cell_type": "code",
   "execution_count": 60,
   "metadata": {
    "ExecuteTime": {
     "end_time": "2019-06-23T22:29:37.852361Z",
     "start_time": "2019-06-23T22:29:37.848262Z"
    },
    "code_folding": []
   },
   "outputs": [],
   "source": [
    "def simulation(GOlist, geneL, nSim, nSites, origAnalysis):\n",
    "    sitesL = nRandSitesSim(nSites, nSim)\n",
    "    output = [] # Genes mapped ordered by simulation\n",
    "    outputAnalysis = origAnalysis\n",
    "    \n",
    "    for sim in range(nSim):\n",
    "        mapped = geneReadSites(sitesL[sim], geneL)\n",
    "        randAnalysis = conductAnalysis(mapped, OntologyL=GOlist)\n",
    "        outputAnalysis = compareGOAnalysis(outputAnalysis, randAnalysis)\n",
    "        \n",
    "    return outputAnalysis"
   ]
  },
  {
   "cell_type": "code",
   "execution_count": null,
   "metadata": {},
   "outputs": [],
   "source": []
  },
  {
   "cell_type": "code",
   "execution_count": null,
   "metadata": {},
   "outputs": [],
   "source": []
  },
  {
   "cell_type": "code",
   "execution_count": null,
   "metadata": {},
   "outputs": [],
   "source": []
  }
 ],
 "metadata": {
  "kernelspec": {
   "display_name": "Python 3",
   "language": "python",
   "name": "python3"
  },
  "language_info": {
   "codemirror_mode": {
    "name": "ipython",
    "version": 3
   },
   "file_extension": ".py",
   "mimetype": "text/x-python",
   "name": "python",
   "nbconvert_exporter": "python",
   "pygments_lexer": "ipython3",
   "version": "3.7.3"
  },
  "varInspector": {
   "cols": {
    "lenName": 16,
    "lenType": 16,
    "lenVar": 40
   },
   "kernels_config": {
    "python": {
     "delete_cmd_postfix": "",
     "delete_cmd_prefix": "del ",
     "library": "var_list.py",
     "varRefreshCmd": "print(var_dic_list())"
    },
    "r": {
     "delete_cmd_postfix": ") ",
     "delete_cmd_prefix": "rm(",
     "library": "var_list.r",
     "varRefreshCmd": "cat(var_dic_list()) "
    }
   },
   "position": {
    "height": "627.898px",
    "left": "1088.26px",
    "right": "20px",
    "top": "108.977px",
    "width": "350px"
   },
   "types_to_exclude": [
    "module",
    "function",
    "builtin_function_or_method",
    "instance",
    "_Feature"
   ],
   "window_display": false
  }
 },
 "nbformat": 4,
 "nbformat_minor": 2
}
