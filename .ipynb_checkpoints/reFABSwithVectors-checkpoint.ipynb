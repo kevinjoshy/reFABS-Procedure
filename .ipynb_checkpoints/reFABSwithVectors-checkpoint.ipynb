{
 "cells": [
  {
   "cell_type": "code",
   "execution_count": 1,
   "metadata": {},
   "outputs": [],
   "source": [
    "import pandas as pd \n",
    "import numpy as np\n",
    "import time \n",
    "from heapq import merge \n",
    "\n",
    "pd.set_option('display.max_colwidth', -1) # Values in columns won't be shortned \n",
    "pd.set_option('chained_assignment',None) # Disabling chained assignments \n",
    "\n",
    "geneColID = [\"chromosome\",\"source\",\"type\",\"start\",\"end\",\"score\",\"strand\",\"phase\",\"gene_symbol\",\"gene_ensID\",\"length\",\"entrezid\"]\n",
    "geneAnnotationDF = pd.read_csv('entrez_id/geneAnnotationsDF_Selected_entrezID.csv', sep=',', comment='#', low_memory=False, header=0, names=geneColID)\n",
    "chromosomeColID = ['chromosome','source','type','start','end','score','strand','phase']\n",
    "chromosomesDF = pd.read_csv('chromosomesDF.csv', sep=',', comment='#', low_memory=False, header=0, names=chromosomeColID)"
   ]
  },
  {
   "cell_type": "code",
   "execution_count": 2,
   "metadata": {},
   "outputs": [],
   "source": [
    "#Dropping unneccesary stuff and resetting index from 0\n",
    "chromosomesDF = chromosomesDF.reset_index()\n",
    "geneAnnotationDF = geneAnnotationDF.reset_index()\n",
    "chromosomesDF = chromosomesDF.drop(columns=['score', 'strand', 'phase', 'index'])\n",
    "geneAnnotationDF = geneAnnotationDF.drop(columns=['score', 'phase', 'index'])"
   ]
  },
  {
   "cell_type": "code",
   "execution_count": 3,
   "metadata": {},
   "outputs": [],
   "source": [
    "# Making a list of DataFrames to be used in future functions in var geneDFL\n",
    "u = ['1','2','3','4','5','6','7','8','9','10','11','12','13','14','15','16','17','18','19','20','21','22','MT','X','Y']\n",
    "geneDFL = []\n",
    "for c in u:\n",
    "    geneDF = geneAnnotationDF.loc[geneAnnotationDF['chromosome'] == c]\n",
    "    geneDF = geneDF.reset_index()\n",
    "    geneDF = geneDF.drop(columns=['index'])\n",
    "    geneDFL.append(geneDF)"
   ]
  },
  {
   "cell_type": "code",
   "execution_count": 4,
   "metadata": {},
   "outputs": [],
   "source": [
    "# probability that a randomly chosen gene is in a certain chromosome. Ordered from 1 - MT,X,Y | As shown chromosome 1 has highest prob of selection\n",
    "probabilityL = [0.10328990533320836,\n",
    "                0.06298622176398913,\n",
    "                0.056378292248570626,\n",
    "                0.03875714687412129,\n",
    "                0.043959133939450744,\n",
    "                0.05164495266660418,\n",
    "                0.04658355984628362,\n",
    "                0.03463304902052676,\n",
    "                0.03828849939075827,\n",
    "                0.03786671665573156,\n",
    "                0.06411097572406037,\n",
    "                0.05136376417658637,\n",
    "                0.01762114537444934,\n",
    "                0.030180897928578122,\n",
    "                0.030837004405286344,\n",
    "                0.04199081450932608,\n",
    "                0.05844034117536789,\n",
    "                0.01405942450089043,\n",
    "                0.0687974505576905,\n",
    "                0.02746274252507264,\n",
    "                0.01241915830911988,\n",
    "                0.02230762020807948,\n",
    "                0.0007029712250445215,\n",
    "                0.04213140875433499,\n",
    "                0.0031868028868684973]"
   ]
  },
  {
   "cell_type": "code",
   "execution_count": 5,
   "metadata": {},
   "outputs": [],
   "source": [
    "# Returns list of randSites ordered by chromosome number from 1 - MT,X,Y\n",
    "# Weights are so chromosomes with more genes in them are chosen for a rand site more often. Chr one has highest probability.\n",
    "def nRandSites(n):\n",
    "    chrIDS = ['1','2','3','4','5','6','7','8','9','10','11','12','13','14','15','16','17','18','19','20','21','22','MT','X','Y']\n",
    "    randChr = chromosomesDF.sample(n, replace=True, weights=probabilityL) # Replace allows same row to be sampled again \n",
    "    randChr['BindingSite'] = (np.random.uniform(randChr.start, randChr.end).round()).astype(int)\n",
    "    randChrL = [] \n",
    "    for i in chrIDS: \n",
    "        DF = randChr.loc[randChr['chromosome'] == i]\n",
    "        sortDF = DF.iloc[(DF['BindingSite']).argsort()]         \n",
    "        randChrL.append(sortDF.BindingSite.values)\n",
    "    return randChrL  "
   ]
  },
  {
   "cell_type": "code",
   "execution_count": 6,
   "metadata": {},
   "outputs": [],
   "source": [
    "# Adds midpoint in gene and upper and lower bound values to geneDFL based on size of window or nearby genes. Adding around geneBODY.\n",
    "def addWindowBODY(window):\n",
    "    geneWindowDFL = geneDFL\n",
    "    outList = []\n",
    "    for dfG in geneWindowDFL: # ordered by chromosome 1- MT,X,Y\n",
    "\n",
    "        dfIndexMax = len(dfG) - 1         \n",
    "        for i, row in dfG.iterrows():\n",
    "            dfG.at[i, 'midBody'] = (((row['length'] / 2)) + row['start']) # Middle of gene body \n",
    "            \n",
    "            if i == 0 or i == dfIndexMax: # Case for start and end sites\n",
    "                if i == 0:\n",
    "                    dfG.at[i, 'lowB'] = max(row['start'] - window, 1) # end of the gene below position\n",
    "                    dfG.at[i, 'upperB'] = min(row['end'] + window, ((dfG.iat[i+1, 3] - row['end']) / 2) + row['end'])\n",
    "                else: # index max case \n",
    "                    dfG.at[i, 'lowB'] = max(row['start'] - window, row['start'] - ((row['start'] - dfG.iat[i-1, 4]) / 2)) \n",
    "                    dfG.at[i, 'upperB'] = row['end'] + window\n",
    "            else: # i > 0 or i < len(geneDF) - 1 \n",
    "                dfG.at[i, 'lowB'] = max(row['start'] - window, row['start'] - ((row['start'] - dfG.iat[i-1, 4]) / 2)) # end of the gene below position [i,4]\n",
    "                dfG.at[i, 'upperB'] = min(row['end'] + window, ((dfG.iat[i+1, 3] - row['end']) / 2) + row['end']) # Start of the gene above position [i,3]\n",
    "        dfG['midBody'] = dfG['midBody'].astype(int)\n",
    "        dfG['lowB'] = dfG['lowB'].astype(int)\n",
    "        dfG['upperB'] = dfG['upperB'].astype(int)\n",
    "        LBandUB = []\n",
    "        LBandUB.append(dfG.lowB.values)\n",
    "        LBandUB.append(dfG.upperB.values)\n",
    "        outList.append(LBandUB)\n",
    "    return(outList)"
   ]
  },
  {
   "cell_type": "code",
   "execution_count": 7,
   "metadata": {},
   "outputs": [],
   "source": [
    "# Creating list of all the entrezids \n",
    "entrezIDL = []\n",
    "for geneDF in geneDFL:\n",
    "    entrezIDL.append(geneDF.entrezid.values)"
   ]
  },
  {
   "cell_type": "code",
   "execution_count": 39,
   "metadata": {},
   "outputs": [],
   "source": [
    "# Genes potentionally regulated by sites in window with respect to the genes body.\n",
    "def genesReadSitesBody(bsL, window):\n",
    "    geneL = addWindowBODY(window)\n",
    "    chromosomeI = 0 # 0 == chromosome group 1          \n",
    "    entrezidOutL = [] # Output list of entrez ids \n",
    "    \n",
    "    for bounds in geneL:\n",
    "        lowB = bounds[0]\n",
    "        upperB = bounds[1]\n",
    "        geneIDS = entrezIDL[chromosomeI]\n",
    "        sitesL = bsL[chromosomeI]\n",
    "        \n",
    "        for site in sitesL:\n",
    "            for i in range(len(lowB)):\n",
    "                if lowB[i] <= site and upperB[i] > site:\n",
    "                    entrezidOutL.append(geneIDS[i])\n",
    "                    lowB = lowB[i:] # Getting rid of the gene windows because it has been mapped. Genes at a lower positions are removed casuse they are small\n",
    "                    upperB = upperB[i:]\n",
    "                    geneIDS = geneIDS[i:]\n",
    "                    break # Done with the current site so break \n",
    "        chromosomeI += 1   \n",
    "    return entrezidOutL"
   ]
  },
  {
   "cell_type": "code",
   "execution_count": null,
   "metadata": {},
   "outputs": [],
   "source": []
  }
 ],
 "metadata": {
  "kernelspec": {
   "display_name": "Python 3",
   "language": "python",
   "name": "python3"
  },
  "language_info": {
   "codemirror_mode": {
    "name": "ipython",
    "version": 3
   },
   "file_extension": ".py",
   "mimetype": "text/x-python",
   "name": "python",
   "nbconvert_exporter": "python",
   "pygments_lexer": "ipython3",
   "version": "3.7.3"
  }
 },
 "nbformat": 4,
 "nbformat_minor": 2
}
