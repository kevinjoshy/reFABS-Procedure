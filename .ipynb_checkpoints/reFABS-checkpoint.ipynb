{
 "cells": [
  {
   "cell_type": "code",
   "execution_count": 1,
   "metadata": {},
   "outputs": [],
   "source": [
    "import pandas as pd \n",
    "import matplotlib as plto\n",
    "import re as re \n",
    "import random as rand\n",
    "import numpy as np\n",
    "\n",
    "#pd.set_option('display.max_colwidth', -1)\n",
    "\n",
    "col_names = ['chromosome', 'source', 'type', 'start', 'end', 'score', 'strand', 'phase', 'attributes'] # For df object\n",
    "#df = data frame object of the Homo Sapians file \n",
    "df = pd.read_csv('Homo_sapiens.GRCh38.85.gff3.gz', compression='gzip',\n",
    "                         sep='\\t', comment='#', low_memory=False,\n",
    "                         header=None, names=col_names)"
   ]
  },
  {
   "cell_type": "markdown",
   "metadata": {},
   "source": [
    "# <font color=#4286f4>Setting up my DataFrame as variable: genes/chromosome</font>"
   ]
  },
  {
   "cell_type": "code",
   "execution_count": 2,
   "metadata": {},
   "outputs": [],
   "source": [
    "genes = df[df.type.isin(['gene'])]\n",
    "chromosome = df[df.type.isin(['chromosome'])]"
   ]
  },
  {
   "cell_type": "code",
   "execution_count": 3,
   "metadata": {
    "collapsed": true
   },
   "outputs": [
    {
     "name": "stderr",
     "output_type": "stream",
     "text": [
      "/Users/joshyk/anaconda3/lib/python3.7/site-packages/ipykernel_launcher.py:9: SettingWithCopyWarning: \n",
      "A value is trying to be set on a copy of a slice from a DataFrame.\n",
      "Try using .loc[row_indexer,col_indexer] = value instead\n",
      "\n",
      "See the caveats in the documentation: http://pandas.pydata.org/pandas-docs/stable/indexing.html#indexing-view-versus-copy\n",
      "  if __name__ == '__main__':\n"
     ]
    }
   ],
   "source": [
    "# ONLY NEEDS TO BE DONE ONCE!!!\n",
    "RE_GENE_NAME = re.compile(r'Name=(?P<gene_name>.+?);') \n",
    "\n",
    "#|Below| Searching for data in attributes col and then creating new col for that data\n",
    "def extract_gene_name(attributes_str): \n",
    "    res = RE_GENE_NAME.search(attributes_str)\n",
    "    return res.group('gene_name')\n",
    "\n",
    "genes['gene_name'] = genes.attributes.apply(extract_gene_name)"
   ]
  },
  {
   "cell_type": "code",
   "execution_count": 4,
   "metadata": {
    "collapsed": true
   },
   "outputs": [
    {
     "name": "stderr",
     "output_type": "stream",
     "text": [
      "/Users/joshyk/anaconda3/lib/python3.7/site-packages/ipykernel_launcher.py:8: SettingWithCopyWarning: \n",
      "A value is trying to be set on a copy of a slice from a DataFrame.\n",
      "Try using .loc[row_indexer,col_indexer] = value instead\n",
      "\n",
      "See the caveats in the documentation: http://pandas.pydata.org/pandas-docs/stable/indexing.html#indexing-view-versus-copy\n",
      "  \n"
     ]
    }
   ],
   "source": [
    "# THIS ALSO ONLY NEEDS TO BE DONE ONCE!!!\n",
    "RE_GENE_ID = re.compile(r'gene_id=(?P<gene_id>ENSG.+?);')\n",
    "def extract_gene_id(attributes_str): # New COL again\n",
    "    res = RE_GENE_ID.search(attributes_str)\n",
    "    return res.group('gene_id')\n",
    "\n",
    "\n",
    "genes['gene_id'] = genes.attributes.apply(extract_gene_id)"
   ]
  },
  {
   "cell_type": "code",
   "execution_count": 5,
   "metadata": {
    "collapsed": true
   },
   "outputs": [
    {
     "name": "stderr",
     "output_type": "stream",
     "text": [
      "/Users/joshyk/anaconda3/lib/python3.7/site-packages/ipykernel_launcher.py:2: SettingWithCopyWarning: \n",
      "A value is trying to be set on a copy of a slice from a DataFrame.\n",
      "Try using .loc[row_indexer,col_indexer] = value instead\n",
      "\n",
      "See the caveats in the documentation: http://pandas.pydata.org/pandas-docs/stable/indexing.html#indexing-view-versus-copy\n",
      "  \n"
     ]
    }
   ],
   "source": [
    "# THIS ALSO ONLY NEEDS TO BE DONE ONCE!!!\n",
    "genes['length'] = genes.end - genes.start + 1"
   ]
  },
  {
   "cell_type": "code",
   "execution_count": 6,
   "metadata": {
    "scrolled": true
   },
   "outputs": [
    {
     "data": {
      "text/html": [
       "<div>\n",
       "<style scoped>\n",
       "    .dataframe tbody tr th:only-of-type {\n",
       "        vertical-align: middle;\n",
       "    }\n",
       "\n",
       "    .dataframe tbody tr th {\n",
       "        vertical-align: top;\n",
       "    }\n",
       "\n",
       "    .dataframe thead th {\n",
       "        text-align: right;\n",
       "    }\n",
       "</style>\n",
       "<table border=\"1\" class=\"dataframe\">\n",
       "  <thead>\n",
       "    <tr style=\"text-align: right;\">\n",
       "      <th></th>\n",
       "      <th>chromosome</th>\n",
       "      <th>source</th>\n",
       "      <th>type</th>\n",
       "      <th>start</th>\n",
       "      <th>end</th>\n",
       "      <th>score</th>\n",
       "      <th>strand</th>\n",
       "      <th>phase</th>\n",
       "      <th>attributes</th>\n",
       "      <th>gene_name</th>\n",
       "      <th>gene_id</th>\n",
       "      <th>length</th>\n",
       "    </tr>\n",
       "  </thead>\n",
       "  <tbody>\n",
       "    <tr>\n",
       "      <th>16</th>\n",
       "      <td>1</td>\n",
       "      <td>havana</td>\n",
       "      <td>gene</td>\n",
       "      <td>11869</td>\n",
       "      <td>14409</td>\n",
       "      <td>.</td>\n",
       "      <td>+</td>\n",
       "      <td>.</td>\n",
       "      <td>ID=gene:ENSG00000223972;Name=DDX11L1;biotype=t...</td>\n",
       "      <td>DDX11L1</td>\n",
       "      <td>ENSG00000223972</td>\n",
       "      <td>2541</td>\n",
       "    </tr>\n",
       "    <tr>\n",
       "      <th>28</th>\n",
       "      <td>1</td>\n",
       "      <td>havana</td>\n",
       "      <td>gene</td>\n",
       "      <td>14404</td>\n",
       "      <td>29570</td>\n",
       "      <td>.</td>\n",
       "      <td>-</td>\n",
       "      <td>.</td>\n",
       "      <td>ID=gene:ENSG00000227232;Name=WASH7P;biotype=un...</td>\n",
       "      <td>WASH7P</td>\n",
       "      <td>ENSG00000227232</td>\n",
       "      <td>15167</td>\n",
       "    </tr>\n",
       "    <tr>\n",
       "      <th>71</th>\n",
       "      <td>1</td>\n",
       "      <td>havana</td>\n",
       "      <td>gene</td>\n",
       "      <td>52473</td>\n",
       "      <td>53312</td>\n",
       "      <td>.</td>\n",
       "      <td>+</td>\n",
       "      <td>.</td>\n",
       "      <td>ID=gene:ENSG00000268020;Name=OR4G4P;biotype=un...</td>\n",
       "      <td>OR4G4P</td>\n",
       "      <td>ENSG00000268020</td>\n",
       "      <td>840</td>\n",
       "    </tr>\n",
       "    <tr>\n",
       "      <th>74</th>\n",
       "      <td>1</td>\n",
       "      <td>havana</td>\n",
       "      <td>gene</td>\n",
       "      <td>62948</td>\n",
       "      <td>63887</td>\n",
       "      <td>.</td>\n",
       "      <td>+</td>\n",
       "      <td>.</td>\n",
       "      <td>ID=gene:ENSG00000240361;Name=OR4G11P;biotype=u...</td>\n",
       "      <td>OR4G11P</td>\n",
       "      <td>ENSG00000240361</td>\n",
       "      <td>940</td>\n",
       "    </tr>\n",
       "    <tr>\n",
       "      <th>77</th>\n",
       "      <td>1</td>\n",
       "      <td>ensembl_havana</td>\n",
       "      <td>gene</td>\n",
       "      <td>69091</td>\n",
       "      <td>70008</td>\n",
       "      <td>.</td>\n",
       "      <td>+</td>\n",
       "      <td>.</td>\n",
       "      <td>ID=gene:ENSG00000186092;Name=OR4F5;biotype=pro...</td>\n",
       "      <td>OR4F5</td>\n",
       "      <td>ENSG00000186092</td>\n",
       "      <td>918</td>\n",
       "    </tr>\n",
       "  </tbody>\n",
       "</table>\n",
       "</div>"
      ],
      "text/plain": [
       "   chromosome          source  type  start    end score strand phase  \\\n",
       "16          1          havana  gene  11869  14409     .      +     .   \n",
       "28          1          havana  gene  14404  29570     .      -     .   \n",
       "71          1          havana  gene  52473  53312     .      +     .   \n",
       "74          1          havana  gene  62948  63887     .      +     .   \n",
       "77          1  ensembl_havana  gene  69091  70008     .      +     .   \n",
       "\n",
       "                                           attributes gene_name  \\\n",
       "16  ID=gene:ENSG00000223972;Name=DDX11L1;biotype=t...   DDX11L1   \n",
       "28  ID=gene:ENSG00000227232;Name=WASH7P;biotype=un...    WASH7P   \n",
       "71  ID=gene:ENSG00000268020;Name=OR4G4P;biotype=un...    OR4G4P   \n",
       "74  ID=gene:ENSG00000240361;Name=OR4G11P;biotype=u...   OR4G11P   \n",
       "77  ID=gene:ENSG00000186092;Name=OR4F5;biotype=pro...     OR4F5   \n",
       "\n",
       "            gene_id  length  \n",
       "16  ENSG00000223972    2541  \n",
       "28  ENSG00000227232   15167  \n",
       "71  ENSG00000268020     840  \n",
       "74  ENSG00000240361     940  \n",
       "77  ENSG00000186092     918  "
      ]
     },
     "execution_count": 6,
     "metadata": {},
     "output_type": "execute_result"
    }
   ],
   "source": [
    "genes.head()"
   ]
  },
  {
   "cell_type": "markdown",
   "metadata": {},
   "source": [
    "# <font color=#4286f4>Estimating number of sites to be sampled randomly</font>"
   ]
  },
  {
   "cell_type": "code",
   "execution_count": 8,
   "metadata": {
    "scrolled": false
   },
   "outputs": [],
   "source": [
    "#List of rand ints in list from 0-24 | Actually NOT NEEDED \n",
    "# def randList(num):\n",
    "#     x = []\n",
    "#     for i in range(num):\n",
    "#         x.append(random.randint(0, 25))   \n",
    "#     return x\n",
    "\n",
    "#I need random chromosome combined with random position (Somewhere between start and end)\n",
    "def nBindingsites(n):    \n",
    "    randChr = chromosome.sample(n, replace=True)\n",
    "    randChr['BindingSite'] = (np.random.uniform(1, randChr.end).round()).astype(int)\n",
    "    return randChr\n",
    "    #Returns a DataFrame with Random sample number with random BindingSite"
   ]
  },
  {
   "cell_type": "code",
   "execution_count": 137,
   "metadata": {
    "scrolled": true
   },
   "outputs": [],
   "source": [
    "#FIND ALL the genes nearby the binding sites\n",
    "#Cases\n",
    "#The number must be between the start and the end\n",
    "# | The Start - the site location <= window size | or | The End - the site location <= window size |\n",
    "#Find ALL the genes \n",
    "\n",
    "#Returns True or False to wheather the binding site is within the window size \n",
    "def isNearby(start, end, site, window):\n",
    "    if (site > start) and (site < end):\n",
    "        return True\n",
    "    elif abs(start - site) <= window:\n",
    "        return True\n",
    "    elif abs(end - site) <= window:\n",
    "        return True\n",
    "    else:\n",
    "        return False \n",
    "    \n",
    "x = nBindingsites(100)"
   ]
  },
  {
   "cell_type": "code",
   "execution_count": 139,
   "metadata": {
    "scrolled": true
   },
   "outputs": [
    {
     "data": {
      "text/html": [
       "<div>\n",
       "<style scoped>\n",
       "    .dataframe tbody tr th:only-of-type {\n",
       "        vertical-align: middle;\n",
       "    }\n",
       "\n",
       "    .dataframe tbody tr th {\n",
       "        vertical-align: top;\n",
       "    }\n",
       "\n",
       "    .dataframe thead th {\n",
       "        text-align: right;\n",
       "    }\n",
       "</style>\n",
       "<table border=\"1\" class=\"dataframe\">\n",
       "  <thead>\n",
       "    <tr style=\"text-align: right;\">\n",
       "      <th></th>\n",
       "      <th>chromosome</th>\n",
       "      <th>source</th>\n",
       "      <th>type</th>\n",
       "      <th>start</th>\n",
       "      <th>end</th>\n",
       "      <th>score</th>\n",
       "      <th>strand</th>\n",
       "      <th>phase</th>\n",
       "      <th>attributes</th>\n",
       "      <th>BindingSite</th>\n",
       "    </tr>\n",
       "  </thead>\n",
       "  <tbody>\n",
       "    <tr>\n",
       "      <th>2514125</th>\n",
       "      <td>X</td>\n",
       "      <td>GRCh38</td>\n",
       "      <td>chromosome</td>\n",
       "      <td>1</td>\n",
       "      <td>156040895</td>\n",
       "      <td>.</td>\n",
       "      <td>.</td>\n",
       "      <td>.</td>\n",
       "      <td>ID=chromosome:X;Alias=CM000685.2,chrX,NC_00002...</td>\n",
       "      <td>26235818</td>\n",
       "    </tr>\n",
       "    <tr>\n",
       "      <th>1155977</th>\n",
       "      <td>18</td>\n",
       "      <td>GRCh38</td>\n",
       "      <td>chromosome</td>\n",
       "      <td>1</td>\n",
       "      <td>80373285</td>\n",
       "      <td>.</td>\n",
       "      <td>.</td>\n",
       "      <td>.</td>\n",
       "      <td>ID=chromosome:18;Alias=CM000680.2,chr18,NC_000...</td>\n",
       "      <td>42267087</td>\n",
       "    </tr>\n",
       "    <tr>\n",
       "      <th>328938</th>\n",
       "      <td>11</td>\n",
       "      <td>GRCh38</td>\n",
       "      <td>chromosome</td>\n",
       "      <td>1</td>\n",
       "      <td>135086622</td>\n",
       "      <td>.</td>\n",
       "      <td>.</td>\n",
       "      <td>.</td>\n",
       "      <td>ID=chromosome:11;Alias=CM000673.2,chr11,NC_000...</td>\n",
       "      <td>86575591</td>\n",
       "    </tr>\n",
       "    <tr>\n",
       "      <th>1705855</th>\n",
       "      <td>3</td>\n",
       "      <td>GRCh38</td>\n",
       "      <td>chromosome</td>\n",
       "      <td>1</td>\n",
       "      <td>198295559</td>\n",
       "      <td>.</td>\n",
       "      <td>.</td>\n",
       "      <td>.</td>\n",
       "      <td>ID=chromosome:3;Alias=CM000665.2,chr3,NC_00000...</td>\n",
       "      <td>16783937</td>\n",
       "    </tr>\n",
       "    <tr>\n",
       "      <th>1864567</th>\n",
       "      <td>4</td>\n",
       "      <td>GRCh38</td>\n",
       "      <td>chromosome</td>\n",
       "      <td>1</td>\n",
       "      <td>190214555</td>\n",
       "      <td>.</td>\n",
       "      <td>.</td>\n",
       "      <td>.</td>\n",
       "      <td>ID=chromosome:4;Alias=CM000666.2,chr4,NC_00000...</td>\n",
       "      <td>165898992</td>\n",
       "    </tr>\n",
       "    <tr>\n",
       "      <th>1705855</th>\n",
       "      <td>3</td>\n",
       "      <td>GRCh38</td>\n",
       "      <td>chromosome</td>\n",
       "      <td>1</td>\n",
       "      <td>198295559</td>\n",
       "      <td>.</td>\n",
       "      <td>.</td>\n",
       "      <td>.</td>\n",
       "      <td>ID=chromosome:3;Alias=CM000665.2,chr3,NC_00000...</td>\n",
       "      <td>98739782</td>\n",
       "    </tr>\n",
       "    <tr>\n",
       "      <th>1616710</th>\n",
       "      <td>21</td>\n",
       "      <td>GRCh38</td>\n",
       "      <td>chromosome</td>\n",
       "      <td>1</td>\n",
       "      <td>46709983</td>\n",
       "      <td>.</td>\n",
       "      <td>.</td>\n",
       "      <td>.</td>\n",
       "      <td>ID=chromosome:21;Alias=CM000683.2,chr21,NC_000...</td>\n",
       "      <td>19685153</td>\n",
       "    </tr>\n",
       "    <tr>\n",
       "      <th>1559144</th>\n",
       "      <td>20</td>\n",
       "      <td>GRCh38</td>\n",
       "      <td>chromosome</td>\n",
       "      <td>1</td>\n",
       "      <td>64444167</td>\n",
       "      <td>.</td>\n",
       "      <td>.</td>\n",
       "      <td>.</td>\n",
       "      <td>ID=chromosome:20;Alias=CM000682.2,chr20,NC_000...</td>\n",
       "      <td>9162353</td>\n",
       "    </tr>\n",
       "    <tr>\n",
       "      <th>1616710</th>\n",
       "      <td>21</td>\n",
       "      <td>GRCh38</td>\n",
       "      <td>chromosome</td>\n",
       "      <td>1</td>\n",
       "      <td>46709983</td>\n",
       "      <td>.</td>\n",
       "      <td>.</td>\n",
       "      <td>.</td>\n",
       "      <td>ID=chromosome:21;Alias=CM000683.2,chr21,NC_000...</td>\n",
       "      <td>39973472</td>\n",
       "    </tr>\n",
       "    <tr>\n",
       "      <th>0</th>\n",
       "      <td>1</td>\n",
       "      <td>GRCh38</td>\n",
       "      <td>chromosome</td>\n",
       "      <td>1</td>\n",
       "      <td>248956422</td>\n",
       "      <td>.</td>\n",
       "      <td>.</td>\n",
       "      <td>.</td>\n",
       "      <td>ID=chromosome:1;Alias=CM000663.2,chr1,NC_00000...</td>\n",
       "      <td>208705036</td>\n",
       "    </tr>\n",
       "  </tbody>\n",
       "</table>\n",
       "</div>"
      ],
      "text/plain": [
       "        chromosome  source        type  start        end score strand phase  \\\n",
       "2514125          X  GRCh38  chromosome      1  156040895     .      .     .   \n",
       "1155977         18  GRCh38  chromosome      1   80373285     .      .     .   \n",
       "328938          11  GRCh38  chromosome      1  135086622     .      .     .   \n",
       "1705855          3  GRCh38  chromosome      1  198295559     .      .     .   \n",
       "1864567          4  GRCh38  chromosome      1  190214555     .      .     .   \n",
       "1705855          3  GRCh38  chromosome      1  198295559     .      .     .   \n",
       "1616710         21  GRCh38  chromosome      1   46709983     .      .     .   \n",
       "1559144         20  GRCh38  chromosome      1   64444167     .      .     .   \n",
       "1616710         21  GRCh38  chromosome      1   46709983     .      .     .   \n",
       "0                1  GRCh38  chromosome      1  248956422     .      .     .   \n",
       "\n",
       "                                                attributes  BindingSite  \n",
       "2514125  ID=chromosome:X;Alias=CM000685.2,chrX,NC_00002...     26235818  \n",
       "1155977  ID=chromosome:18;Alias=CM000680.2,chr18,NC_000...     42267087  \n",
       "328938   ID=chromosome:11;Alias=CM000673.2,chr11,NC_000...     86575591  \n",
       "1705855  ID=chromosome:3;Alias=CM000665.2,chr3,NC_00000...     16783937  \n",
       "1864567  ID=chromosome:4;Alias=CM000666.2,chr4,NC_00000...    165898992  \n",
       "1705855  ID=chromosome:3;Alias=CM000665.2,chr3,NC_00000...     98739782  \n",
       "1616710  ID=chromosome:21;Alias=CM000683.2,chr21,NC_000...     19685153  \n",
       "1559144  ID=chromosome:20;Alias=CM000682.2,chr20,NC_000...      9162353  \n",
       "1616710  ID=chromosome:21;Alias=CM000683.2,chr21,NC_000...     39973472  \n",
       "0        ID=chromosome:1;Alias=CM000663.2,chr1,NC_00000...    208705036  "
      ]
     },
     "execution_count": 139,
     "metadata": {},
     "output_type": "execute_result"
    }
   ],
   "source": [
    "# genes = genes.drop(['attributes'], axis=1)\n",
    "x.sample(10)"
   ]
  },
  {
   "cell_type": "code",
   "execution_count": 140,
   "metadata": {
    "scrolled": true
   },
   "outputs": [],
   "source": [
    "# Given specific chromosome and its binding site, plus some window, will calculate number of nearby genes.\n",
    "def numGenesWindow(chrNum, site, window):\n",
    "    count = 0\n",
    "    chrDF = genes.loc[genes['chromosome'] == str(chrNum)]\n",
    "    \n",
    "    for index, row in chrDF.iterrows():\n",
    "        if isNearby(row['start'], row['end'], site, window):\n",
    "            count = count + 1\n",
    "    \n",
    "    return count\n",
    "\n"
   ]
  },
  {
   "cell_type": "code",
   "execution_count": 141,
   "metadata": {},
   "outputs": [
    {
     "data": {
      "text/plain": [
       "1600"
      ]
     },
     "execution_count": 141,
     "metadata": {},
     "output_type": "execute_result"
    }
   ],
   "source": [
    "z = numGenesWindow(10, 25863051, 10000000000000000000000000000)\n",
    "z"
   ]
  },
  {
   "cell_type": "code",
   "execution_count": null,
   "metadata": {},
   "outputs": [],
   "source": []
  },
  {
   "cell_type": "code",
   "execution_count": null,
   "metadata": {},
   "outputs": [],
   "source": []
  }
 ],
 "metadata": {
  "kernelspec": {
   "display_name": "Python 3",
   "language": "python",
   "name": "python3"
  },
  "language_info": {
   "codemirror_mode": {
    "name": "ipython",
    "version": 3
   },
   "file_extension": ".py",
   "mimetype": "text/x-python",
   "name": "python",
   "nbconvert_exporter": "python",
   "pygments_lexer": "ipython3",
   "version": "3.7.3"
  }
 },
 "nbformat": 4,
 "nbformat_minor": 2
}
