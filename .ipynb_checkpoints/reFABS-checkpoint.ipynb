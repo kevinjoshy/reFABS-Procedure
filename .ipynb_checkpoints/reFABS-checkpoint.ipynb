{
 "cells": [
  {
   "cell_type": "code",
   "execution_count": 1,
   "metadata": {},
   "outputs": [],
   "source": [
    "import pandas as pd \n",
    "import matplotlib as plto\n",
    "\n",
    "col_names = ['seqid', 'source', 'type', 'start', 'end', 'score', 'strand', 'phase', 'attributes'] # For df object\n",
    "#df = data frame object of the Homo Sapians file \n",
    "df = pd.read_csv('Homo_sapiens.GRCh38.85.gff3.gz', compression='gzip',\n",
    "                         sep='\\t', comment='#', low_memory=False,\n",
    "                         header=None, names=col_names)"
   ]
  },
  {
   "cell_type": "markdown",
   "metadata": {},
   "source": [
    "# Estimating the number of sites to be sampled randomly "
   ]
  },
  {
   "cell_type": "code",
   "execution_count": 11,
   "metadata": {},
   "outputs": [
    {
     "data": {
      "text/html": [
       "<div>\n",
       "<style scoped>\n",
       "    .dataframe tbody tr th:only-of-type {\n",
       "        vertical-align: middle;\n",
       "    }\n",
       "\n",
       "    .dataframe tbody tr th {\n",
       "        vertical-align: top;\n",
       "    }\n",
       "\n",
       "    .dataframe thead th {\n",
       "        text-align: right;\n",
       "    }\n",
       "</style>\n",
       "<table border=\"1\" class=\"dataframe\">\n",
       "  <thead>\n",
       "    <tr style=\"text-align: right;\">\n",
       "      <th></th>\n",
       "      <th>seqid</th>\n",
       "      <th>source</th>\n",
       "      <th>type</th>\n",
       "      <th>start</th>\n",
       "      <th>end</th>\n",
       "      <th>score</th>\n",
       "      <th>strand</th>\n",
       "      <th>phase</th>\n",
       "      <th>attributes</th>\n",
       "    </tr>\n",
       "  </thead>\n",
       "  <tbody>\n",
       "    <tr>\n",
       "      <th>0</th>\n",
       "      <td>1</td>\n",
       "      <td>GRCh38</td>\n",
       "      <td>chromosome</td>\n",
       "      <td>1</td>\n",
       "      <td>248956422</td>\n",
       "      <td>.</td>\n",
       "      <td>.</td>\n",
       "      <td>.</td>\n",
       "      <td>ID=chromosome:1;Alias=CM000663.2,chr1,NC_00000...</td>\n",
       "    </tr>\n",
       "    <tr>\n",
       "      <th>1</th>\n",
       "      <td>1</td>\n",
       "      <td>.</td>\n",
       "      <td>biological_region</td>\n",
       "      <td>10469</td>\n",
       "      <td>11240</td>\n",
       "      <td>1.3e+03</td>\n",
       "      <td>.</td>\n",
       "      <td>.</td>\n",
       "      <td>external_name=oe %3D 0.79;logic_name=cpg</td>\n",
       "    </tr>\n",
       "    <tr>\n",
       "      <th>2</th>\n",
       "      <td>1</td>\n",
       "      <td>.</td>\n",
       "      <td>biological_region</td>\n",
       "      <td>10650</td>\n",
       "      <td>10657</td>\n",
       "      <td>0.999</td>\n",
       "      <td>+</td>\n",
       "      <td>.</td>\n",
       "      <td>logic_name=eponine</td>\n",
       "    </tr>\n",
       "    <tr>\n",
       "      <th>3</th>\n",
       "      <td>1</td>\n",
       "      <td>.</td>\n",
       "      <td>biological_region</td>\n",
       "      <td>10655</td>\n",
       "      <td>10657</td>\n",
       "      <td>0.999</td>\n",
       "      <td>-</td>\n",
       "      <td>.</td>\n",
       "      <td>logic_name=eponine</td>\n",
       "    </tr>\n",
       "    <tr>\n",
       "      <th>4</th>\n",
       "      <td>1</td>\n",
       "      <td>.</td>\n",
       "      <td>biological_region</td>\n",
       "      <td>10678</td>\n",
       "      <td>10687</td>\n",
       "      <td>0.999</td>\n",
       "      <td>+</td>\n",
       "      <td>.</td>\n",
       "      <td>logic_name=eponine</td>\n",
       "    </tr>\n",
       "  </tbody>\n",
       "</table>\n",
       "</div>"
      ],
      "text/plain": [
       "  seqid  source               type  start        end    score strand phase  \\\n",
       "0     1  GRCh38         chromosome      1  248956422        .      .     .   \n",
       "1     1       .  biological_region  10469      11240  1.3e+03      .     .   \n",
       "2     1       .  biological_region  10650      10657    0.999      +     .   \n",
       "3     1       .  biological_region  10655      10657    0.999      -     .   \n",
       "4     1       .  biological_region  10678      10687    0.999      +     .   \n",
       "\n",
       "                                          attributes  \n",
       "0  ID=chromosome:1;Alias=CM000663.2,chr1,NC_00000...  \n",
       "1           external_name=oe %3D 0.79;logic_name=cpg  \n",
       "2                                 logic_name=eponine  \n",
       "3                                 logic_name=eponine  \n",
       "4                                 logic_name=eponine  "
      ]
     },
     "execution_count": 11,
     "metadata": {},
     "output_type": "execute_result"
    }
   ],
   "source": [
    "df.head()"
   ]
  },
  {
   "cell_type": "code",
   "execution_count": null,
   "metadata": {},
   "outputs": [],
   "source": []
  }
 ],
 "metadata": {
  "kernelspec": {
   "display_name": "Python 3",
   "language": "python",
   "name": "python3"
  },
  "language_info": {
   "codemirror_mode": {
    "name": "ipython",
    "version": 3
   },
   "file_extension": ".py",
   "mimetype": "text/x-python",
   "name": "python",
   "nbconvert_exporter": "python",
   "pygments_lexer": "ipython3",
   "version": "3.7.3"
  }
 },
 "nbformat": 4,
 "nbformat_minor": 2
}
