{
 "cells": [
  {
   "cell_type": "code",
   "execution_count": 56,
   "metadata": {},
   "outputs": [],
   "source": [
    "import pandas as pd \n",
    "import matplotlib as plto\n",
    "import re as re \n",
    "import random as rand\n",
    "import numpy as np\n",
    "import time \n",
    "\n",
    "pd.set_option('display.max_colwidth', -1)\n",
    "pd.set_option('mode.chained_assignment', 'warn')\n",
    "\n",
    "col_names = ['chromosome', 'source', 'type', 'start', 'end', 'score', 'strand', 'phase', 'attributes'] # For df object\n",
    "#df = data frame (object of the Homo Sapians file)\n",
    "df = pd.read_csv('Homo_sapiens.GRCh38.85.gff3.gz', compression='gzip',\n",
    "                         sep='\\t', comment='#', low_memory=False,\n",
    "                         header=None, names=col_names)"
   ]
  },
  {
   "cell_type": "markdown",
   "metadata": {},
   "source": [
    "# <font color=#4286f4>Setting up my DataFrame as variable: genes/chromosome</font>"
   ]
  },
  {
   "cell_type": "code",
   "execution_count": 57,
   "metadata": {},
   "outputs": [],
   "source": [
    "geneAnnotations = df[df.type.isin(['gene'])].copy()\n",
    "chromosome = df[df.type.isin(['chromosome'])].copy()"
   ]
  },
  {
   "cell_type": "markdown",
   "metadata": {},
   "source": [
    "# <font color=#4286f4>Adding Columns to geneAnnotations: gene_name, gene_id, length</font>"
   ]
  },
  {
   "cell_type": "code",
   "execution_count": 58,
   "metadata": {},
   "outputs": [],
   "source": [
    "# ONLY NEEDS TO BE DONE ONCE!!! (BOTH UP AND DOWN)\n",
    "RE_GENE_NAME = re.compile(r'Name=(?P<gene_name>.+?);') \n",
    "#|Below| Searching for data in attributes col and then creating new col for that data\n",
    "def extract_gene_name(attributes_str): \n",
    "    res = RE_GENE_NAME.search(attributes_str)\n",
    "    return res.group('gene_name')\n",
    "geneAnnotations['gene_name'] = geneAnnotations.attributes.apply(extract_gene_name)"
   ]
  },
  {
   "cell_type": "code",
   "execution_count": 59,
   "metadata": {},
   "outputs": [],
   "source": [
    "RE_GENE_ID = re.compile(r'gene_id=(?P<gene_id>ENSG.+?);')\n",
    "def extract_gene_id(attributes_str): # New COL again\n",
    "    res = RE_GENE_ID.search(attributes_str)\n",
    "    return res.group('gene_id')\n",
    "geneAnnotations['gene_id'] = geneAnnotations.attributes.apply(extract_gene_id)"
   ]
  },
  {
   "cell_type": "code",
   "execution_count": 60,
   "metadata": {},
   "outputs": [],
   "source": [
    "geneAnnotations['length'] = geneAnnotations.end - geneAnnotations.start + 1"
   ]
  },
  {
   "cell_type": "markdown",
   "metadata": {},
   "source": [
    "# <font color=#4286f4>Creating DataFrame for n Chromosomes with n sites </font>"
   ]
  },
  {
   "cell_type": "code",
   "execution_count": 61,
   "metadata": {
    "scrolled": false
   },
   "outputs": [],
   "source": [
    "#I need random chromosome combined with random position (Somewhere between start and end)\n",
    "def nBindingsites(n):    \n",
    "    randChr = chromosome.sample(n, replace=True)\n",
    "    randChr['BindingSite'] = (np.random.uniform(1, randChr.end).round()).astype(int)\n",
    "    return randChr\n",
    "    #Returns a DataFrame with Random sample number with random BindingSite"
   ]
  },
  {
   "cell_type": "code",
   "execution_count": 62,
   "metadata": {
    "scrolled": true
   },
   "outputs": [],
   "source": [
    "# Distance from Body\n",
    "def distanceBody(start, end, site):\n",
    "    return min(abs(start - site), abs(end - site))\n",
    "\n",
    "# Distance from TSS\n",
    "def distanceTSS(start, site):\n",
    "    return abs(start - site)\n",
    "\n",
    "#Returns True or False to wheather the binding site is within the window size to Body | Start Site below\n",
    "def isNearBody(start, end, site, window):\n",
    "    if abs(start - site) <= window:\n",
    "        return True\n",
    "    elif abs(end - site) <= window:\n",
    "        return True\n",
    "    else:\n",
    "        return False \n",
    "    \n",
    "def isNearTSS(start, site, window):\n",
    "    if abs(start - site) <= window:\n",
    "        return True\n",
    "    else: \n",
    "        return False"
   ]
  },
  {
   "cell_type": "markdown",
   "metadata": {},
   "source": [
    "# For: k = Infinity "
   ]
  },
  {
   "cell_type": "code",
   "execution_count": 63,
   "metadata": {
    "scrolled": true
   },
   "outputs": [],
   "source": [
    "#Given specific chromosome, rdm binding site, window: Will calculate number of nearby gene(bodies) from its site.\n",
    "def genesInWindowBody(chrNum, site, window):\n",
    "    count = 0\n",
    "    geneL = []\n",
    "    geneDF = geneAnnotations.loc[geneAnnotations['chromosome'] == str(chrNum)]\n",
    "    \n",
    "    for index, row in geneDF.iterrows():\n",
    "        if isNearBody(row['start'], row['end'], site, window):\n",
    "            count = count + 1\n",
    "            geneL.append(row['gene_name'])\n",
    "    return(count, geneL)\n",
    "\n",
    "#Given specific chromosome, rdm binding site, window: Will calculate number of nearby gene(TSS) from the site.\n",
    "def genesInWindowTSS(chrNum, site, window):\n",
    "    count = 0\n",
    "    geneL = []\n",
    "    geneDF = geneAnnotations.loc[geneAnnotations['chromosome'] == str(chrNum)]\n",
    "    \n",
    "    for index, row in geneDF.iterrows():\n",
    "        if isNearTSS(row['start'], site, window):\n",
    "            count = count + 1\n",
    "            geneL.append(row['gene_name'])    \n",
    "    return(count, geneL)"
   ]
  },
  {
   "cell_type": "markdown",
   "metadata": {},
   "source": [
    "## <font color=#4286f4>Given a window: Find all the genes inside window for the dataframe of chromosomes</font>"
   ]
  },
  {
   "cell_type": "code",
   "execution_count": 64,
   "metadata": {},
   "outputs": [],
   "source": [
    "# Takes DF and Window size: Returnes Total Gene count and List of Genes Near Body of GENE (K=INFINITY)\n",
    "def geneCountNsitesBody(df, window):\n",
    "    count = 0 \n",
    "    geneL = []\n",
    "    \n",
    "    for index, row in df.iterrows():\n",
    "        c = genesInWindowBody(row['chromosome'], row['BindingSite'], window)\n",
    "        count = count + c[0]\n",
    "        geneL.append(c[1])\n",
    "    return(count, geneL)\n",
    "\n",
    "# Takes DF and Window size: Returnes Total Gene count and List of Genes Near TSS of GENE (K=INFINITY)\n",
    "def geneCountNsitesTSS(df, window):\n",
    "    count = 0 \n",
    "    geneL = []\n",
    "    \n",
    "    for index, row in df.iterrows():\n",
    "        c = genesInWindowTSS(row['chromosome'], row['BindingSite'], window)\n",
    "        count = count + c[0]\n",
    "        geneL.append(c[1])\n",
    "    return(count, geneL)"
   ]
  },
  {
   "cell_type": "markdown",
   "metadata": {},
   "source": [
    "# For: k = 1"
   ]
  },
  {
   "cell_type": "code",
   "execution_count": 65,
   "metadata": {},
   "outputs": [],
   "source": [
    "#Given specific chromosome, rdm binding site, window: Will calculate closest gene(body) from its site. and distance\n",
    "def closestGeneBody(chrNum, site, window):\n",
    "    out = ['No Result', 9**90] # This is just a random num that will be replace by func below. \n",
    "    geneDF = geneAnnotations.loc[geneAnnotations['chromosome'] == str(chrNum)]\n",
    "    \n",
    "    for index, row in geneDF.iterrows():\n",
    "        if isNearBody(row['start'], row['end'], site, window):\n",
    "            if distanceBody(row['start'], row['end'], site) < out[1]:\n",
    "                out[0] = row['gene_name']\n",
    "                out[1] = distanceBody(row['start'], row['end'], site)\n",
    "    # Returns closest gene and its distance from body. \n",
    "    return(out)\n",
    "\n",
    "#Given specific chromosome, rdm binding site, window: Will calculate closest gene(TSS) from its site. and Distance\n",
    "def closestGeneTSS(chrNum, site, window):\n",
    "    out = ['No Result', 9**90]\n",
    "    geneDF = geneAnnotations.loc[geneAnnotations['chromosome'] == str(chrNum)]\n",
    "    \n",
    "    for index, row in geneDF.iterrows():\n",
    "        if isNearTSS(row['start'], site, window):\n",
    "            if distanceTSS(row['start'], site) < out[1]:\n",
    "                out[0] = row['gene_name']\n",
    "                out[1] = distanceTSS(row['start'], site)\n",
    "    # Returns closest gene and its distance from TSS. \n",
    "    return(out)"
   ]
  },
  {
   "cell_type": "code",
   "execution_count": 66,
   "metadata": {},
   "outputs": [],
   "source": [
    "# Takes DF and Window size: Returnes Total Gene count and List of CLOSEST Gene Near its BODY for every site(K = 1)\n",
    "def closestGenesNsitesBody(df, window):\n",
    "    count = 0 \n",
    "    geneL = []\n",
    "    \n",
    "    for index, row in df.iterrows():\n",
    "        x = closestGeneBody(row['chromosome'], row['BindingSite'], window)\n",
    "        geneL.append(x[0])\n",
    "        count = count + 1\n",
    "    return(count, geneL)\n",
    "    \n",
    "# Takes DF and Window size: Returnes Total Gene count and List of CLOSEST Gene Near its TSS for every site (K = 1)\n",
    "def closestGenesNsitesTSS(df, window):\n",
    "    count = 0 \n",
    "    geneL = []\n",
    "    \n",
    "    for index, row in df.iterrows():\n",
    "        x = closestGeneTSS(row['chromosome'], row['BindingSite'], window)\n",
    "        geneL.append(x[0])\n",
    "        count = count + 1\n",
    "    return(count, geneL)"
   ]
  },
  {
   "cell_type": "code",
   "execution_count": 67,
   "metadata": {},
   "outputs": [],
   "source": [
    "# finds unique in list | Might use later \n",
    "def unique(list1): \n",
    "    unique_list = [] \n",
    "    for x in list1: \n",
    "        if x not in unique_list: \n",
    "            unique_list.append(x) \n",
    "    return unique_list"
   ]
  },
  {
   "cell_type": "code",
   "execution_count": 68,
   "metadata": {},
   "outputs": [],
   "source": [
    "testingDF = nBindingsites(100)"
   ]
  },
  {
   "cell_type": "code",
   "execution_count": 69,
   "metadata": {},
   "outputs": [],
   "source": [
    "geneAnnotationsDF = geneAnnotations.drop(['attributes'], axis=1)"
   ]
  },
  {
   "cell_type": "code",
   "execution_count": 70,
   "metadata": {},
   "outputs": [],
   "source": [
    "chromosomesDF = chromosome.drop(['attributes'], axis=1)"
   ]
  },
  {
   "cell_type": "code",
   "execution_count": 71,
   "metadata": {},
   "outputs": [
    {
     "data": {
      "text/html": [
       "<div>\n",
       "<style scoped>\n",
       "    .dataframe tbody tr th:only-of-type {\n",
       "        vertical-align: middle;\n",
       "    }\n",
       "\n",
       "    .dataframe tbody tr th {\n",
       "        vertical-align: top;\n",
       "    }\n",
       "\n",
       "    .dataframe thead th {\n",
       "        text-align: right;\n",
       "    }\n",
       "</style>\n",
       "<table border=\"1\" class=\"dataframe\">\n",
       "  <thead>\n",
       "    <tr style=\"text-align: right;\">\n",
       "      <th></th>\n",
       "      <th>chromosome</th>\n",
       "      <th>source</th>\n",
       "      <th>type</th>\n",
       "      <th>start</th>\n",
       "      <th>end</th>\n",
       "      <th>score</th>\n",
       "      <th>strand</th>\n",
       "      <th>phase</th>\n",
       "    </tr>\n",
       "  </thead>\n",
       "  <tbody>\n",
       "    <tr>\n",
       "      <th>674767</th>\n",
       "      <td>14</td>\n",
       "      <td>GRCh38</td>\n",
       "      <td>chromosome</td>\n",
       "      <td>1</td>\n",
       "      <td>107043718</td>\n",
       "      <td>.</td>\n",
       "      <td>.</td>\n",
       "      <td>.</td>\n",
       "    </tr>\n",
       "  </tbody>\n",
       "</table>\n",
       "</div>"
      ],
      "text/plain": [
       "       chromosome  source        type  start        end score strand phase\n",
       "674767  14         GRCh38  chromosome  1      107043718  .     .      .   "
      ]
     },
     "execution_count": 71,
     "metadata": {},
     "output_type": "execute_result"
    }
   ],
   "source": [
    "chromosomesDF.sample(1)"
   ]
  },
  {
   "cell_type": "code",
   "execution_count": 72,
   "metadata": {},
   "outputs": [
    {
     "data": {
      "text/html": [
       "<div>\n",
       "<style scoped>\n",
       "    .dataframe tbody tr th:only-of-type {\n",
       "        vertical-align: middle;\n",
       "    }\n",
       "\n",
       "    .dataframe tbody tr th {\n",
       "        vertical-align: top;\n",
       "    }\n",
       "\n",
       "    .dataframe thead th {\n",
       "        text-align: right;\n",
       "    }\n",
       "</style>\n",
       "<table border=\"1\" class=\"dataframe\">\n",
       "  <thead>\n",
       "    <tr style=\"text-align: right;\">\n",
       "      <th></th>\n",
       "      <th>chromosome</th>\n",
       "      <th>source</th>\n",
       "      <th>type</th>\n",
       "      <th>start</th>\n",
       "      <th>end</th>\n",
       "      <th>score</th>\n",
       "      <th>strand</th>\n",
       "      <th>phase</th>\n",
       "      <th>gene_name</th>\n",
       "      <th>gene_id</th>\n",
       "      <th>length</th>\n",
       "    </tr>\n",
       "  </thead>\n",
       "  <tbody>\n",
       "    <tr>\n",
       "      <th>2525959</th>\n",
       "      <td>X</td>\n",
       "      <td>ensembl_havana</td>\n",
       "      <td>gene</td>\n",
       "      <td>24693919</td>\n",
       "      <td>24996986</td>\n",
       "      <td>.</td>\n",
       "      <td>+</td>\n",
       "      <td>.</td>\n",
       "      <td>POLA1</td>\n",
       "      <td>ENSG00000101868</td>\n",
       "      <td>303068</td>\n",
       "    </tr>\n",
       "    <tr>\n",
       "      <th>199288</th>\n",
       "      <td>1</td>\n",
       "      <td>havana</td>\n",
       "      <td>gene</td>\n",
       "      <td>203400266</td>\n",
       "      <td>203400581</td>\n",
       "      <td>.</td>\n",
       "      <td>-</td>\n",
       "      <td>.</td>\n",
       "      <td>LARP7P1</td>\n",
       "      <td>ENSG00000271588</td>\n",
       "      <td>316</td>\n",
       "    </tr>\n",
       "    <tr>\n",
       "      <th>2204949</th>\n",
       "      <td>7</td>\n",
       "      <td>ensembl_havana</td>\n",
       "      <td>gene</td>\n",
       "      <td>6161776</td>\n",
       "      <td>6272644</td>\n",
       "      <td>.</td>\n",
       "      <td>-</td>\n",
       "      <td>.</td>\n",
       "      <td>CYTH3</td>\n",
       "      <td>ENSG00000008256</td>\n",
       "      <td>110869</td>\n",
       "    </tr>\n",
       "    <tr>\n",
       "      <th>521232</th>\n",
       "      <td>12</td>\n",
       "      <td>havana</td>\n",
       "      <td>gene</td>\n",
       "      <td>31443792</td>\n",
       "      <td>31444208</td>\n",
       "      <td>.</td>\n",
       "      <td>-</td>\n",
       "      <td>.</td>\n",
       "      <td>RP11-771K4.3</td>\n",
       "      <td>ENSG00000275769</td>\n",
       "      <td>417</td>\n",
       "    </tr>\n",
       "    <tr>\n",
       "      <th>655808</th>\n",
       "      <td>13</td>\n",
       "      <td>ensembl_havana</td>\n",
       "      <td>gene</td>\n",
       "      <td>52132639</td>\n",
       "      <td>52159861</td>\n",
       "      <td>.</td>\n",
       "      <td>-</td>\n",
       "      <td>.</td>\n",
       "      <td>NEK3</td>\n",
       "      <td>ENSG00000136098</td>\n",
       "      <td>27223</td>\n",
       "    </tr>\n",
       "  </tbody>\n",
       "</table>\n",
       "</div>"
      ],
      "text/plain": [
       "        chromosome          source  type      start        end score strand  \\\n",
       "2525959  X          ensembl_havana  gene  24693919   24996986   .     +       \n",
       "199288   1          havana          gene  203400266  203400581  .     -       \n",
       "2204949  7          ensembl_havana  gene  6161776    6272644    .     -       \n",
       "521232   12         havana          gene  31443792   31444208   .     -       \n",
       "655808   13         ensembl_havana  gene  52132639   52159861   .     -       \n",
       "\n",
       "        phase     gene_name          gene_id  length  \n",
       "2525959  .     POLA1         ENSG00000101868  303068  \n",
       "199288   .     LARP7P1       ENSG00000271588  316     \n",
       "2204949  .     CYTH3         ENSG00000008256  110869  \n",
       "521232   .     RP11-771K4.3  ENSG00000275769  417     \n",
       "655808   .     NEK3          ENSG00000136098  27223   "
      ]
     },
     "execution_count": 72,
     "metadata": {},
     "output_type": "execute_result"
    }
   ],
   "source": [
    "geneAnnotationsDF.sample(5)"
   ]
  },
  {
   "cell_type": "code",
   "execution_count": 73,
   "metadata": {},
   "outputs": [],
   "source": [
    "x = genesInWindowTSS(14, 53521859, 100009990)"
   ]
  },
  {
   "cell_type": "code",
   "execution_count": null,
   "metadata": {},
   "outputs": [],
   "source": []
  }
 ],
 "metadata": {
  "kernelspec": {
   "display_name": "Python 3",
   "language": "python",
   "name": "python3"
  },
  "language_info": {
   "codemirror_mode": {
    "name": "ipython",
    "version": 3
   },
   "file_extension": ".py",
   "mimetype": "text/x-python",
   "name": "python",
   "nbconvert_exporter": "python",
   "pygments_lexer": "ipython3",
   "version": "3.7.3"
  }
 },
 "nbformat": 4,
 "nbformat_minor": 2
}
