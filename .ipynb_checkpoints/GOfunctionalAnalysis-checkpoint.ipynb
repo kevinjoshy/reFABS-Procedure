{
 "cells": [
  {
   "cell_type": "code",
   "execution_count": 1,
   "metadata": {
    "ExecuteTime": {
     "end_time": "2020-06-17T18:14:40.988836Z",
     "start_time": "2020-06-17T18:14:40.363211Z"
    }
   },
   "outputs": [],
   "source": [
    "%run ontologyPackage/ontologySTATanalysis.ipynb"
   ]
  },
  {
   "cell_type": "code",
   "execution_count": 2,
   "metadata": {
    "ExecuteTime": {
     "start_time": "2020-06-17T18:24:30.054Z"
    }
   },
   "outputs": [],
   "source": [
    "import pandas as pd \n",
    "import numpy as np\n",
    "from numpy import random, array\n",
    "import time \n",
    "# from multiprocessing import Pool\n",
    "import rpy2.robjects as robjects\n",
    "\n",
    "import os\n",
    "from goatools.obo_parser import GODag\n",
    "\n",
    "pd.set_option('display.max_colwidth', None) # Values in columns won't be shortned | None over -1\n",
    "pd.set_option('chained_assignment',None) # Disabling chained assignments \n",
    "\n",
    "geneColID = [\"chromosome\",\"source\",\"type\",\"start\",\"end\",\"score\",\"strand\",\"phase\",\"gene_symbol\",\"gene_ensID\",\"length\",\"entrezid\"]\n",
    "geneAnnotationDF = pd.read_csv('entrez_id/geneAnnotationsDF_Selected_entrezID.csv', sep=',', comment='#', low_memory=False, header=0, names=geneColID)\n",
    "chromosomeColID = ['chromosome','source','type','start','end','score','strand','phase']\n",
    "chromosomesDF = pd.read_csv('chromosomesDF.csv', sep=',', comment='#', low_memory=False, header=0, names=chromosomeColID)"
   ]
  },
  {
   "cell_type": "code",
   "execution_count": 3,
   "metadata": {
    "ExecuteTime": {
     "end_time": "2020-06-08T19:17:43.908450Z",
     "start_time": "2020-06-08T19:17:42.593511Z"
    }
   },
   "outputs": [],
   "source": [
    "import matplotlib.pyplot as plt\n",
    "from statsmodels.stats.multitest import multipletests as padjust\n",
    "from statistics import median, stdev"
   ]
  },
  {
   "cell_type": "code",
   "execution_count": 4,
   "metadata": {
    "ExecuteTime": {
     "end_time": "2020-06-08T19:17:46.953567Z",
     "start_time": "2020-06-08T19:17:45.092912Z"
    }
   },
   "outputs": [
    {
     "name": "stdout",
     "output_type": "stream",
     "text": [
      "go-basic.obo: fmt(1.2) rel(2019-07-01) 47,413 GO Terms; optional_attrs(relationship)\n"
     ]
    }
   ],
   "source": [
    "# GO Term information\n",
    "if not os.path.exists('go-basic.obo'):\n",
    "    !wget http://geneontology.org/ontology/go-basic.obo\n",
    "goDATA = GODag('go-basic.obo', optional_attrs=['relationship'])"
   ]
  },
  {
   "cell_type": "code",
   "execution_count": 5,
   "metadata": {
    "ExecuteTime": {
     "end_time": "2020-06-08T19:18:05.088220Z",
     "start_time": "2020-06-08T19:18:05.017696Z"
    }
   },
   "outputs": [],
   "source": [
    "#Dropping unneccesary stuff and resetting index from 0\n",
    "# geneAnnotationDF = geneAnnotationDF[geneAnnotationDF.gene_symbol != 'CTD-2207O23.3']\n",
    "geneAnnotationDF = geneAnnotationDF.sort_values(by=['chromosome', 'start'])\n",
    "chromosomesDF = chromosomesDF.sort_values(by=['chromosome'])\n",
    "chromosomesDF = chromosomesDF.reset_index()\n",
    "geneAnnotationDF = geneAnnotationDF.reset_index()\n",
    "chromosomesDF = chromosomesDF.drop(columns=['score', 'strand', 'phase', 'index'])\n",
    "geneAnnotationDF = geneAnnotationDF.drop(columns=['score', 'phase', 'index'])"
   ]
  },
  {
   "cell_type": "code",
   "execution_count": 6,
   "metadata": {
    "ExecuteTime": {
     "end_time": "2020-06-08T19:18:27.118169Z",
     "start_time": "2020-06-08T19:18:24.435894Z"
    }
   },
   "outputs": [],
   "source": [
    "# Making a list of DataFrames to be used in addwindow tss so that if - gene the start is its end and its end is its start \n",
    "u = ['1','2','3','4','5','6','7','8','9','10','11','12','13','14','15','16','17','18','19','20','21','22','MT','X','Y'] # Chromosome ids \n",
    "geneDFL = []\n",
    "for c in u:\n",
    "    geneDF = geneAnnotationDF.loc[geneAnnotationDF['chromosome'] == c].copy()\n",
    "    for i, row in geneDF.iterrows():\n",
    "        if row['strand'] == '-':\n",
    "            start = row['end']\n",
    "            end = row['start']\n",
    "            geneDF.at[i, 'start'] = start\n",
    "            geneDF.at[i, 'end'] = end\n",
    "    geneDF = geneDF.sort_values(by=['start'])\n",
    "    geneDF = geneDF.reset_index()\n",
    "    geneDF = geneDF.drop(columns=['index'])\n",
    "    geneDFL.append(geneDF)"
   ]
  },
  {
   "cell_type": "code",
   "execution_count": 7,
   "metadata": {
    "ExecuteTime": {
     "end_time": "2020-06-08T19:18:46.448404Z",
     "start_time": "2020-06-08T19:18:46.267255Z"
    }
   },
   "outputs": [],
   "source": [
    "# Making a list of DataFrames to be used in future functions in var geneDFL\n",
    "u = ['1','2','3','4','5','6','7','8','9','10','11','12','13','14','15','16','17','18','19','20','21','22','MT','X','Y']\n",
    "geneDFLBODY = []\n",
    "for cc in u:\n",
    "    geneDFbod = geneAnnotationDF.loc[geneAnnotationDF['chromosome'] == cc].copy()\n",
    "    geneDFbod = geneDFbod.sort_values(by=['start'])\n",
    "    geneDFbod = geneDFbod.reset_index()\n",
    "    geneDFbod = geneDFbod.drop(columns=['index'])\n",
    "    geneDFLBODY.append(geneDFbod)"
   ]
  },
  {
   "cell_type": "code",
   "execution_count": 8,
   "metadata": {
    "ExecuteTime": {
     "end_time": "2020-06-08T19:19:10.499101Z",
     "start_time": "2020-06-08T19:19:10.493633Z"
    },
    "code_folding": []
   },
   "outputs": [],
   "source": [
    "# probability that a randomly chosen gene is in a certain chromosome. Ordered from 1 - MT,X,Y | As shown chromosome 1 has highest prob of selection\n",
    "probabilityL = [0.08069467597786323, 0.07850260775517634, 0.06427388269957329, 0.06165457287524136, 0.05884231002379223, 0.05536363751707386, 0.05164908592141782, 0.0470440371698401, 0.044858119022639725, 0.043367989830914035, 0.043785860460049814, 0.04319875643982657, 0.037069107410936775, 0.034696265410969616, 0.033058580434273406, 0.029281523923645837, 0.026986378244674356, 0.026051531764496164, 0.018999829086634144, 0.02088839915494138, 0.015140187376094325, 0.016471877735809576, 5.370214538878023e-06, 0.05057780526426391, 0.017537607961181506]"
   ]
  },
  {
   "cell_type": "code",
   "execution_count": 9,
   "metadata": {
    "ExecuteTime": {
     "end_time": "2020-06-08T19:19:32.814538Z",
     "start_time": "2020-06-08T19:19:32.786536Z"
    }
   },
   "outputs": [],
   "source": [
    "# Generates random sites\n",
    "dl = ['1','2','3','4','5','6','7','8','9','10','11','12','13','14','15','16','17','18','19','20','21','22','23','24','25'] # 23, 24, 25\n",
    "chrD = {'1': [1, 248956422],'2': [1, 242193529],'3': [1, 198295559],'4': [1, 190214555],'5': [1, 181538259],'6': [1, 170805979],'7': [1, 159345973],'8': [1, 145138636],'9': [1, 138394717],'10': [1, 133797422],'11': [1, 135086622],'12': [1, 133275309],'13': [1, 114364328],'14': [1, 107043718],'15': [1, 101991189],'16': [1, 90338345],'17': [1, 83257441],'18': [1, 80373285],'19': [1, 58617616],'20': [1, 64444167],'21': [1, 46709983],'22': [1, 50818468],'23': [1, 16569],'24': [1, 156040895],'25': [2781480, 56887902]}\n",
    "def nRandSites(data):\n",
    "    nSite = data[0]\n",
    "    rand = data[1] \n",
    "    sitesbyC =[[],[],[],[],[],[],[],[],[],[],[],[],[],[],[],[],[],[],[],[],[],[],[],[],[]]\n",
    "\n",
    "    random.seed(rand)\n",
    "        \n",
    "    for site in range(nSite):\n",
    "        chrN = random.choice(dl, p=probabilityL)\n",
    "        randnum = round(random.uniform(chrD[chrN][0], chrD[chrN][1]))\n",
    "        sitesbyC[int(chrN) - 1].append(randnum)\n",
    "    for l in sitesbyC:\n",
    "        l.sort()\n",
    "    return array([array(l) for l in sitesbyC])\n",
    "\n",
    "def nRandSitesSim(nSite, nSim):\n",
    "    totalsites = [nSite] * nSim\n",
    "    chunks = []\n",
    "    for i in totalsites:\n",
    "        chunks.append([i])\n",
    "    for l in chunks:\n",
    "        l.append(random.randint(100000))\n",
    "    \n",
    "    pool = Pool(5)\n",
    "    result = pool.map(nRandSites, chunks)\n",
    "    pool.close()\n",
    "    return(result) "
   ]
  },
  {
   "cell_type": "code",
   "execution_count": 10,
   "metadata": {
    "ExecuteTime": {
     "end_time": "2020-06-08T19:19:56.542515Z",
     "start_time": "2020-06-08T19:19:56.505908Z"
    }
   },
   "outputs": [],
   "source": [
    "##### Adds midpoint in gene and upper and lower bound values to geneDFLtss based on size of window or nearby genes. Adding around geneTSS.\n",
    "def addWindowTSS(window):\n",
    "    chrD = {'1': [1, 248956422],'2': [1, 242193529],'3': [1, 198295559],'4': [1, 190214555],'5': [1, 181538259],'6': [1, 170805979],'7': [1, 159345973],'8': [1, 145138636],'9': [1, 138394717],'10': [1, 133797422],'11': [1, 135086622],'12': [1, 133275309],'13': [1, 114364328],'14': [1, 107043718],'15': [1, 101991189],'16': [1, 90338345],'17': [1, 83257441],'18': [1, 80373285],'19': [1, 58617616],'20': [1, 64444167],'21': [1, 46709983],'22': [1, 50818468],'23': [1, 16569],'24': [1, 156040895],'25': [2781480, 56887902]} \n",
    "    geneWindowDFL = []\n",
    "    for i in range(len(geneDFL)):\n",
    "        df = geneDFL[i].copy()\n",
    "        geneWindowDFL.append(df)\n",
    "    outList = []\n",
    "    chrIDNUM = 0\n",
    "    for dfG in geneWindowDFL: # ordered by chromosome 1- MT,X,Y\n",
    "        chrIDNUM += 1 \n",
    "        dfIndexMax = len(dfG) - 1   \n",
    "        for i, row in dfG.iterrows():\n",
    "            start = row['start']\n",
    "            \n",
    "            dfG.at[i, 'midBody'] = (((row['length'] / 2)) + start) # Middle of gene body \n",
    "            if i == 0 or i == dfIndexMax: # Case for start and end genes\n",
    "                if i == 0:\n",
    "                    dfG.at[i, 'lowB'] = max(start - window, chrD[str(chrIDNUM)][0]) # chrD[chrIDNUM][0] = start val of the chromosome\n",
    "                    dfG.at[i, 'upperB'] = min(start + window, ((dfG.iat[i+1, 3] - start) / 2) + start)\n",
    "                else: # index max case \n",
    "                    dfG.at[i, 'lowB'] = max(start - window, start - ((start - dfG.iat[i-1, 3]) / 2)) # dfG.iat[i-1, 3] = start of gene below\n",
    "                    dfG.at[i, 'upperB'] = min(start + window, chrD[str(chrIDNUM)][1]) # chrD[chrIDNUM][1] = end val of chromosome \n",
    "            else: # i > 0 or i < len(geneDF) - 1 \n",
    "                dfG.at[i, 'lowB'] = max(start - window, start - ((start - dfG.iat[i-1, 3]) / 2)) # dfG.iat[i-1, 3] = start of gene below\n",
    "                dfG.at[i, 'upperB'] = min(start + window, ((dfG.iat[i+1, 3] - start) / 2) + start) # Start of the gene above position [i,3]\n",
    "        dfG['midBody'] = dfG['midBody'].astype(int)\n",
    "        dfG['lowB'] = dfG['lowB'].astype(int)\n",
    "        dfG['upperB'] = dfG['upperB'].astype(int)\n",
    "#         dfG['domainLEN'] = dfG['upperB'] - dfG['lowB']\n",
    "        LBandUB = []\n",
    "        LBandUB.append(dfG.lowB.values)\n",
    "        LBandUB.append(dfG.upperB.values)\n",
    "        outList.append(LBandUB)\n",
    "    \n",
    "    return(outList)"
   ]
  },
  {
   "cell_type": "code",
   "execution_count": 11,
   "metadata": {
    "ExecuteTime": {
     "end_time": "2020-06-08T19:20:20.650817Z",
     "start_time": "2020-06-08T19:20:20.552716Z"
    }
   },
   "outputs": [],
   "source": [
    "##### Adds midpoint in gene and upper and lower bound values to geneDFLtss based on size of window or nearby genes. Adding around geneTSS.\n",
    "def addWindowTSS20(window):\n",
    "    chrD = {'1': [1, 248956422],'2': [1, 242193529],'3': [1, 198295559],'4': [1, 190214555],'5': [1, 181538259],'6': [1, 170805979],'7': [1, 159345973],'8': [1, 145138636],'9': [1, 138394717],'10': [1, 133797422],'11': [1, 135086622],'12': [1, 133275309],'13': [1, 114364328],'14': [1, 107043718],'15': [1, 101991189],'16': [1, 90338345],'17': [1, 83257441],'18': [1, 80373285],'19': [1, 58617616],'20': [1, 64444167],'21': [1, 46709983],'22': [1, 50818468],'23': [1, 16569],'24': [1, 156040895],'25': [2781480, 56887902]} \n",
    "    geneWindowDFL = []\n",
    "    for i in range(len(geneDFL)):\n",
    "        df = geneDFL[i].copy()\n",
    "        geneWindowDFL.append(df)\n",
    "    chrIDNUM = 0\n",
    "    for dfG in geneWindowDFL: # ordered by chromosome 1- MT,X,Y\n",
    "        chrIDNUM += 1 \n",
    "        dfIndexMax = len(dfG) - 1   \n",
    "        for i, row in dfG.iterrows():\n",
    "            start = row['start']\n",
    "            \n",
    "            dfG.at[i, 'midBody'] = (((row['length'] / 2)) + start) # Middle of gene body \n",
    "            if i == 0 or i == dfIndexMax: # Case for start and end genes\n",
    "                if i == 0:\n",
    "                    dfG.at[i, 'lowB'] = max(start - window, chrD[str(chrIDNUM)][0]) # chrD[chrIDNUM][0] = start val of the chromosome\n",
    "                    dfG.at[i, 'upperB'] = min(start + window, ((dfG.iat[i+1, 3] - start) / 2) + start)\n",
    "                else: # index max case \n",
    "                    dfG.at[i, 'lowB'] = max(start - window, start - ((start - dfG.iat[i-1, 3]) / 2)) # dfG.iat[i-1, 3] = start of gene below\n",
    "                    dfG.at[i, 'upperB'] = min(start + window, chrD[str(chrIDNUM)][1]) # chrD[chrIDNUM][1] = end val of chromosome \n",
    "            else: # i > 0 or i < len(geneDF) - 1 \n",
    "                dfG.at[i, 'lowB'] = max(start - window, start - ((start - dfG.iat[i-1, 3]) / 2)) # dfG.iat[i-1, 3] = start of gene below\n",
    "                dfG.at[i, 'upperB'] = min(start + window, ((dfG.iat[i+1, 3] - start) / 2) + start) # Start of the gene above position [i,3]\n",
    "        dfG['midBody'] = dfG['midBody'].astype(int)\n",
    "        dfG['lowB'] = dfG['lowB'].astype(int)\n",
    "        dfG['upperB'] = dfG['upperB'].astype(int)\n",
    "        dfG['domainLEN'] = dfG['upperB'] - dfG['lowB']\n",
    "    \n",
    "    return(geneWindowDFL)"
   ]
  },
  {
   "cell_type": "code",
   "execution_count": 12,
   "metadata": {
    "ExecuteTime": {
     "end_time": "2020-06-08T19:20:49.737823Z",
     "start_time": "2020-06-08T19:20:49.652644Z"
    }
   },
   "outputs": [],
   "source": [
    "# Adds midpoint in gene and upper and lower bound values to geneDFL based on size of window or nearby genes. Adding around geneBODY.\n",
    "def addWindowBODY(window):\n",
    "    chrD = {'1': [1, 248956422],'2': [1, 242193529],'3': [1, 198295559],'4': [1, 190214555],'5': [1, 181538259],'6': [1, 170805979],'7': [1, 159345973],'8': [1, 145138636],'9': [1, 138394717],'10': [1, 133797422],'11': [1, 135086622],'12': [1, 133275309],'13': [1, 114364328],'14': [1, 107043718],'15': [1, 101991189],'16': [1, 90338345],'17': [1, 83257441],'18': [1, 80373285],'19': [1, 58617616],'20': [1, 64444167],'21': [1, 46709983],'22': [1, 50818468],'23': [1, 16569],'24': [1, 156040895],'25': [2781480, 56887902]} \n",
    "    chrIDNUM = 0\n",
    "    geneWindowDFL = []\n",
    "    for i in range(len(geneDFLBODY)):\n",
    "        df = geneDFLBODY[i].copy()\n",
    "        geneWindowDFL.append(df)\n",
    "    \n",
    "    outList = []\n",
    "    for dfG in geneWindowDFL: # ordered by chromosome 1- MT,X,Y\n",
    "        chrIDNUM += 1 \n",
    "        dfIndexMax = len(dfG) - 1         \n",
    "        for i, row in dfG.iterrows():\n",
    "            start = row['start']\n",
    "            end = row['end']\n",
    "            dfG.at[i, 'midBody'] = (((row['length'] / 2)) + row['start']) # Middle of gene body \n",
    "            \n",
    "            if i == 0 or i == dfIndexMax: # Case for start and end sites\n",
    "                if i == 0:\n",
    "                    dfG.at[i, 'lowB'] = max(start - window, chrD[str(chrIDNUM)][0]) # end of the gene below position\n",
    "                    dfG.at[i, 'upperB'] = min(end + window, ((dfG.iat[i+1, 3] - end) / 2) + end)\n",
    "                else: # index max case \n",
    "                    dfG.at[i, 'lowB'] = max(start - window, start - (abs(start - dfG.iat[i-1, 4]) / 2)) \n",
    "                    dfG.at[i, 'upperB'] = min(row['end'] + window, chrD[str(chrIDNUM)][1])\n",
    "            else: # i > 0 or i < len(geneDF) - 1 \n",
    "                dfG.at[i, 'lowB'] = max(start - window, start - (abs(start - dfG.iat[i-1, 4]) / 2)) # end of the gene below position [i,4]\n",
    "                dfG.at[i, 'upperB'] = min(end + window, ((dfG.iat[i+1, 3] - end) / 2) + end) # Start of the gene above position [i,3]\n",
    "        dfG['midBody'] = dfG['midBody'].astype(int)\n",
    "        dfG['lowB'] = dfG['lowB'].astype(int)\n",
    "        dfG['upperB'] = dfG['upperB'].astype(int)\n",
    "#         dfG['domainLEN'] = dfG['upperB'] - dfG['lowB']\n",
    "        LBandUB = []\n",
    "        LBandUB.append(dfG.lowB.values)\n",
    "        LBandUB.append(dfG.upperB.values)\n",
    "        outList.append(LBandUB)\n",
    "    \n",
    "    return(outList)"
   ]
  },
  {
   "cell_type": "code",
   "execution_count": 13,
   "metadata": {
    "ExecuteTime": {
     "end_time": "2020-06-08T19:21:14.660380Z",
     "start_time": "2020-06-08T19:21:14.621108Z"
    }
   },
   "outputs": [],
   "source": [
    "# Adds midpoint in gene and upper and lower bound values to geneDFL based on size of window or nearby genes. Adding around geneBODY.\n",
    "def addWindowBODY20(window):\n",
    "    chrD = {'1': [1, 248956422],'2': [1, 242193529],'3': [1, 198295559],'4': [1, 190214555],'5': [1, 181538259],'6': [1, 170805979],'7': [1, 159345973],'8': [1, 145138636],'9': [1, 138394717],'10': [1, 133797422],'11': [1, 135086622],'12': [1, 133275309],'13': [1, 114364328],'14': [1, 107043718],'15': [1, 101991189],'16': [1, 90338345],'17': [1, 83257441],'18': [1, 80373285],'19': [1, 58617616],'20': [1, 64444167],'21': [1, 46709983],'22': [1, 50818468],'23': [1, 16569],'24': [1, 156040895],'25': [2781480, 56887902]} \n",
    "    chrIDNUM = 0\n",
    "    geneWindowDFL = []\n",
    "    for i in range(len(geneDFLBODY)):\n",
    "        df = geneDFLBODY[i].copy()\n",
    "        geneWindowDFL.append(df)\n",
    "    \n",
    "    for dfG in geneWindowDFL: # ordered by chromosome 1- MT,X,Y\n",
    "        chrIDNUM += 1 \n",
    "        dfIndexMax = len(dfG) - 1         \n",
    "        for i, row in dfG.iterrows():\n",
    "            start = row['start']\n",
    "            end = row['end']\n",
    "            \n",
    "            dfG.at[i, 'midBody'] = (((row['length'] / 2)) + row['start']) # Middle of gene body \n",
    "            \n",
    "            if i == 0 or i == dfIndexMax: # Case for start and end sites\n",
    "                if i == 0:\n",
    "                    dfG.at[i, 'lowB'] = max(start - window, chrD[str(chrIDNUM)][0]) # end of the gene below position\n",
    "                    dfG.at[i, 'upperB'] = min(end + window, ((dfG.iat[i+1, 3] - end) / 2) + end)\n",
    "                else: # index max case \n",
    "                    dfG.at[i, 'lowB'] = max(start - window, start - (abs(start - dfG.iat[i-1, 4]) / 2)) \n",
    "                    dfG.at[i, 'upperB'] = min(row['end'] + window, chrD[str(chrIDNUM)][1])\n",
    "            else: # i > 0 or i < len(geneDF) - 1 \n",
    "                dfG.at[i, 'lowB'] = max(start - window, start - (abs(start - dfG.iat[i-1, 4]) / 2)) # end of the gene below position [i,4]\n",
    "                dfG.at[i, 'upperB'] = min(end + window, ((dfG.iat[i+1, 3] - end) / 2) + end) # Start of the gene above position [i,3]\n",
    "        dfG['midBody'] = dfG['midBody'].astype(int)\n",
    "        dfG['lowB'] = dfG['lowB'].astype(int)\n",
    "        dfG['upperB'] = dfG['upperB'].astype(int)\n",
    "        dfG['domainLEN'] = dfG['upperB'] - dfG['lowB']\n",
    "    \n",
    "    return(geneWindowDFL)"
   ]
  },
  {
   "cell_type": "code",
   "execution_count": 14,
   "metadata": {
    "ExecuteTime": {
     "end_time": "2020-06-08T19:21:38.448999Z",
     "start_time": "2020-06-08T19:21:38.443519Z"
    }
   },
   "outputs": [],
   "source": [
    "def findSMLdomain(windowDF):\n",
    "    windowLens = windowDF\n",
    "    allVALS = []\n",
    "    for df in windowLens:\n",
    "        values = list(df.domainLEN.values)\n",
    "        allVALS += values\n",
    "    allVALS = sorted(allVALS)\n",
    "    cutoff = int(len(allVALS) / 3)\n",
    "    small = allVALS[:cutoff][-1]\n",
    "    medium = allVALS[cutoff:cutoff*2][-1]\n",
    "    return [small, medium]"
   ]
  },
  {
   "cell_type": "code",
   "execution_count": 15,
   "metadata": {
    "ExecuteTime": {
     "end_time": "2020-06-08T19:22:01.152616Z",
     "start_time": "2020-06-08T19:22:01.148459Z"
    }
   },
   "outputs": [],
   "source": [
    "# Creating list of all the entrezids \n",
    "entrezIDLtss = []\n",
    "for geneDF in geneDFL:\n",
    "    entrezIDLtss.append(geneDF.entrezid.values)"
   ]
  },
  {
   "cell_type": "code",
   "execution_count": 16,
   "metadata": {
    "ExecuteTime": {
     "end_time": "2020-06-08T19:22:24.857337Z",
     "start_time": "2020-06-08T19:22:24.852672Z"
    }
   },
   "outputs": [],
   "source": [
    "entrezIDLbody = []\n",
    "for geneDF in geneDFLBODY:\n",
    "    entrezIDLbody.append(geneDF.entrezid.values)"
   ]
  },
  {
   "cell_type": "code",
   "execution_count": 100,
   "metadata": {
    "ExecuteTime": {
     "end_time": "2020-06-08T19:22:50.719429Z",
     "start_time": "2020-06-08T19:22:50.688224Z"
    },
    "code_folding": []
   },
   "outputs": [],
   "source": [
    "# CLOSEST Genes potentionally regulated by sites in window with respect to the genes body. k = 1 \n",
    "def geneReadSites(bsL, geneWindow, method='TSS'): # geneWindow = windows lists\n",
    "    #     geneWindow = addWindowBODY(window)\n",
    "    chromosomeI = 0    # 0 == chromosome group 1          \n",
    "    mappedEntrezG = [] # Output list of entrez ids \n",
    "    \n",
    "    if method == 'TSS':\n",
    "        entrezIDL = entrezIDLtss.copy()\n",
    "    elif method == 'BODY':\n",
    "        entrezIDL = entrezIDLbody.copy()\n",
    "    elif method != 'TSS'and method != 'BODY':\n",
    "        return 'method must be TSS or BODY'\n",
    "    \n",
    "    for bounds in geneWindow:\n",
    "        lowB = bounds[0]\n",
    "        upperB = bounds[1]\n",
    "        geneIDS = entrezIDL[chromosomeI]\n",
    "        sitesL = bsL[chromosomeI]\n",
    "        \n",
    "        for site in sitesL:\n",
    "            for i in range(len(lowB)):\n",
    "                if site < lowB[i]:\n",
    "                    lowB = lowB[i:] # Getting rid of the gene windows because it has been mapped. Genes at a lower positions are removed casuse they are small\n",
    "                    upperB = upperB[i:]\n",
    "                    geneIDS = geneIDS[i:]\n",
    "                    break\n",
    "                if lowB[i] <= site and upperB[i] > site:\n",
    "                    mappedEntrezG.append(geneIDS[i])\n",
    "#                     lowB = lowB[i+1:] # Getting rid of the gene windows because it has been mapped. Genes at a lower positions are removed casuse they are small\n",
    "#                     upperB = upperB[i+1:]\n",
    "#                     geneIDS = geneIDS[i+1:]\n",
    "#                     break # Done with the current site so break \n",
    "        chromosomeI += 1   \n",
    "    return mappedEntrezG"
   ]
  },
  {
   "cell_type": "code",
   "execution_count": 101,
   "metadata": {
    "ExecuteTime": {
     "end_time": "2020-06-08T19:23:14.842770Z",
     "start_time": "2020-06-08T19:23:14.839202Z"
    }
   },
   "outputs": [],
   "source": [
    "# Given a list of lists with go term and its odds-ratio,p-val return a list of just GO terms \n",
    "def getGOfromAnalysis(goAnalysis):\n",
    "    goTermL = []\n",
    "    for key in goAnalysis:\n",
    "        goTermL.append(key)\n",
    "    return goTermL"
   ]
  },
  {
   "cell_type": "code",
   "execution_count": 102,
   "metadata": {
    "ExecuteTime": {
     "end_time": "2020-06-12T20:36:29.730157Z",
     "start_time": "2020-06-12T20:36:29.702848Z"
    }
   },
   "outputs": [],
   "source": [
    "# Given original analysis and simulated analysis. Adds count to go term in original list if the random go term has a lower p-val and higher odds ratio \n",
    "def compareGOAnalysis(origAnalysis, counters):\n",
    "    for k in counters.keys():\n",
    "        if origAnalysis[k][2] != 'NA':\n",
    "            if (counters[k][0] < origAnalysis[k][2]): #  (simAnalysis[k][0] > origAnalysis[k][0]) and \n",
    "                origAnalysis[k][5] += 1\n",
    "        if origAnalysis[k][3] != 'NA':\n",
    "            if (counters[k][1] < origAnalysis[k][3]): \n",
    "                origAnalysis[k][6] += 1\n",
    "        if origAnalysis[k][4] != 'NA':\n",
    "            if (counters[k][2] < origAnalysis[k][4]): \n",
    "                origAnalysis[k][7] += 1\n",
    "    return origAnalysis "
   ]
  },
  {
   "cell_type": "code",
   "execution_count": 103,
   "metadata": {
    "ExecuteTime": {
     "end_time": "2020-06-12T20:37:15.856786Z",
     "start_time": "2020-06-12T20:37:15.839212Z"
    }
   },
   "outputs": [],
   "source": [
    "# converts analysis to list format and divides by nSim to get refabs p value\n",
    "def convertAnalysistoFormat(analysis, nSim):\n",
    "    analist = []\n",
    "    for k in analysis.keys():\n",
    "        val = analysis[k]\n",
    "        outval = val[:2]\n",
    "        app = val[5:]\n",
    "        pval = []\n",
    "        for i in app:\n",
    "            p = (i + 1) / (nSim + 1)\n",
    "            pval.append(p)\n",
    "        nas = val[2:5]\n",
    "        for i in range(3):\n",
    "            if nas[i] == 'NA':\n",
    "                pval[i] = 'NA'\n",
    "        outval += pval\n",
    "        analist.append([k, outval])\n",
    "    return analist"
   ]
  },
  {
   "cell_type": "code",
   "execution_count": 104,
   "metadata": {},
   "outputs": [],
   "source": [
    "r = robjects.r"
   ]
  },
  {
   "cell_type": "code",
   "execution_count": 105,
   "metadata": {
    "ExecuteTime": {
     "end_time": "2020-06-17T18:16:58.587569Z",
     "start_time": "2020-06-17T18:16:58.583587Z"
    }
   },
   "outputs": [],
   "source": [
    "# Combines the three different p-vals together \\ Format: pvals = [x,y,z]\n",
    "def reFABScalc(pvals):    \n",
    "    r['source'](\"SMLmetapADJ.R\")\n",
    "    return r(\"reFABSp(c(\" + str(pvals)[1:-1] + \"))\")   "
   ]
  },
  {
   "cell_type": "raw",
   "metadata": {},
   "source": [
    "['GO:0021759', (inf, 0.11370344342929918), ('NA', 'NA'), (0.0, 0.06578460775165401)] || [GOterm, S, M, L] S,M,L = (oddsratio, pval)"
   ]
  },
  {
   "cell_type": "code",
   "execution_count": 106,
   "metadata": {},
   "outputs": [],
   "source": [
    "# Combines the S M & L, pvals for each GO term into one from the adaptiveEnrichmentAnalysis() function || adaptiveEnrichmentAnalysis(randsites, 100000, method='TSS')\n",
    "# Replaces 1.0 with 0.9999999 & removes 'NA' for genes without s/m/l\n",
    "def reFABSlistC(enrichmentA):\n",
    "    r['source'](\"SMLmetapADJ.R\")\n",
    "    goTerms = []\n",
    "    pvals = []\n",
    "    for GO in enrichmentA:\n",
    "        pvals.append([GO[1][1],GO[2][1],GO[3][1]])\n",
    "        goTerms.append(GO[0])\n",
    "    adjPval = []\n",
    "    for l in pvals:\n",
    "        newL = []\n",
    "        for ind in range(len(l)):\n",
    "            if type(l[ind]) != str:\n",
    "                if l[ind] > 0.9999999:\n",
    "                    newL.append(0.9999999)\n",
    "                else:\n",
    "                    newL.append(l[ind])\n",
    "        adjPval.append(newL)\n",
    "#     return adjPval\n",
    "    \n",
    "    stringreturn = \"reFABSp(list(\"\n",
    "    for ind in range(len(adjPval)):\n",
    "        stringreturn  += \"c(\"+ str(adjPval[ind])[1:-1] +\"), \"   \n",
    "    output = []\n",
    "    data = r(stringreturn[:-2] + \"))\") \n",
    "    for goID in range(len(goTerms)):\n",
    "        output.append([goTerms[goID], data[goID]])\n",
    "    return output\n",
    "\n"
   ]
  },
  {
   "cell_type": "code",
   "execution_count": 31,
   "metadata": {},
   "outputs": [],
   "source": [
    "testing=adaptiveEnrichmentAnalysis(randsites, 10000, method='TSS')"
   ]
  },
  {
   "cell_type": "code",
   "execution_count": 44,
   "metadata": {},
   "outputs": [],
   "source": [
    "combined = reFABSlistC(testing)"
   ]
  },
  {
   "cell_type": "code",
   "execution_count": 139,
   "metadata": {
    "ExecuteTime": {
     "end_time": "2019-08-22T18:22:02.946683Z",
     "start_time": "2019-08-22T18:22:02.721424Z"
    }
   },
   "outputs": [],
   "source": [
    "File = pd.read_csv('polyenrich/SmLgzFiles/Converted Data-hg38/largeDatasetConverted.csv')"
   ]
  },
  {
   "cell_type": "code",
   "execution_count": 140,
   "metadata": {},
   "outputs": [],
   "source": [
    "chrlabel = ['chr1','chr2','chr3','chr4','chr5','chr6','chr7','chr8','chr9','chr10','chr11','chr12','chr13','chr14','chr15','chr16','chr17','chr18','chr19','chr20','chr21','chr22','chrMT','chrX','chrY']\n",
    "\n",
    "\n"
   ]
  },
  {
   "cell_type": "code",
   "execution_count": 141,
   "metadata": {},
   "outputs": [
    {
     "data": {
      "text/html": [
       "<div>\n",
       "<style scoped>\n",
       "    .dataframe tbody tr th:only-of-type {\n",
       "        vertical-align: middle;\n",
       "    }\n",
       "\n",
       "    .dataframe tbody tr th {\n",
       "        vertical-align: top;\n",
       "    }\n",
       "\n",
       "    .dataframe thead th {\n",
       "        text-align: right;\n",
       "    }\n",
       "</style>\n",
       "<table border=\"1\" class=\"dataframe\">\n",
       "  <thead>\n",
       "    <tr style=\"text-align: right;\">\n",
       "      <th></th>\n",
       "      <th>Unnamed: 0</th>\n",
       "      <th>Chromo</th>\n",
       "      <th>Start</th>\n",
       "      <th>End</th>\n",
       "      <th>Site</th>\n",
       "    </tr>\n",
       "  </thead>\n",
       "  <tbody>\n",
       "    <tr>\n",
       "      <th>0</th>\n",
       "      <td>0</td>\n",
       "      <td>chr1</td>\n",
       "      <td>225474969</td>\n",
       "      <td>225475318</td>\n",
       "      <td>225475143</td>\n",
       "    </tr>\n",
       "    <tr>\n",
       "      <th>1</th>\n",
       "      <td>1</td>\n",
       "      <td>chr16</td>\n",
       "      <td>55465105</td>\n",
       "      <td>55465447</td>\n",
       "      <td>55465276</td>\n",
       "    </tr>\n",
       "    <tr>\n",
       "      <th>2</th>\n",
       "      <td>2</td>\n",
       "      <td>chr10</td>\n",
       "      <td>64041215</td>\n",
       "      <td>64041557</td>\n",
       "      <td>64041386</td>\n",
       "    </tr>\n",
       "    <tr>\n",
       "      <th>3</th>\n",
       "      <td>3</td>\n",
       "      <td>chr5</td>\n",
       "      <td>139262670</td>\n",
       "      <td>139262962</td>\n",
       "      <td>139262816</td>\n",
       "    </tr>\n",
       "    <tr>\n",
       "      <th>4</th>\n",
       "      <td>4</td>\n",
       "      <td>chr17</td>\n",
       "      <td>43760373</td>\n",
       "      <td>43760708</td>\n",
       "      <td>43760540</td>\n",
       "    </tr>\n",
       "    <tr>\n",
       "      <th>...</th>\n",
       "      <td>...</td>\n",
       "      <td>...</td>\n",
       "      <td>...</td>\n",
       "      <td>...</td>\n",
       "      <td>...</td>\n",
       "    </tr>\n",
       "    <tr>\n",
       "      <th>75630</th>\n",
       "      <td>75638</td>\n",
       "      <td>chr8</td>\n",
       "      <td>80890024</td>\n",
       "      <td>80890264</td>\n",
       "      <td>80890144</td>\n",
       "    </tr>\n",
       "    <tr>\n",
       "      <th>75631</th>\n",
       "      <td>75639</td>\n",
       "      <td>chr10</td>\n",
       "      <td>74891915</td>\n",
       "      <td>74892155</td>\n",
       "      <td>74892035</td>\n",
       "    </tr>\n",
       "    <tr>\n",
       "      <th>75632</th>\n",
       "      <td>75640</td>\n",
       "      <td>chr6</td>\n",
       "      <td>112148183</td>\n",
       "      <td>112148423</td>\n",
       "      <td>112148303</td>\n",
       "    </tr>\n",
       "    <tr>\n",
       "      <th>75633</th>\n",
       "      <td>75641</td>\n",
       "      <td>chr2</td>\n",
       "      <td>214326179</td>\n",
       "      <td>214326419</td>\n",
       "      <td>214326299</td>\n",
       "    </tr>\n",
       "    <tr>\n",
       "      <th>75634</th>\n",
       "      <td>75642</td>\n",
       "      <td>chr3</td>\n",
       "      <td>159762343</td>\n",
       "      <td>159762583</td>\n",
       "      <td>159762463</td>\n",
       "    </tr>\n",
       "  </tbody>\n",
       "</table>\n",
       "<p>75635 rows × 5 columns</p>\n",
       "</div>"
      ],
      "text/plain": [
       "       Unnamed: 0 Chromo      Start        End       Site\n",
       "0               0   chr1  225474969  225475318  225475143\n",
       "1               1  chr16   55465105   55465447   55465276\n",
       "2               2  chr10   64041215   64041557   64041386\n",
       "3               3   chr5  139262670  139262962  139262816\n",
       "4               4  chr17   43760373   43760708   43760540\n",
       "...           ...    ...        ...        ...        ...\n",
       "75630       75638   chr8   80890024   80890264   80890144\n",
       "75631       75639  chr10   74891915   74892155   74892035\n",
       "75632       75640   chr6  112148183  112148423  112148303\n",
       "75633       75641   chr2  214326179  214326419  214326299\n",
       "75634       75642   chr3  159762343  159762583  159762463\n",
       "\n",
       "[75635 rows x 5 columns]"
      ]
     },
     "execution_count": 141,
     "metadata": {},
     "output_type": "execute_result"
    }
   ],
   "source": [
    "File"
   ]
  },
  {
   "cell_type": "code",
   "execution_count": 142,
   "metadata": {},
   "outputs": [
    {
     "data": {
      "text/plain": [
       "75635"
      ]
     },
     "execution_count": 142,
     "metadata": {},
     "output_type": "execute_result"
    }
   ],
   "source": [
    "len(File[File.Chromo.isin(chrlabel)])"
   ]
  },
  {
   "cell_type": "code",
   "execution_count": 84,
   "metadata": {},
   "outputs": [],
   "source": [
    "File.to_csv('polyenrich/SmLgzFiles/Converted Data-hg38/largeDatasetConverted.csv')"
   ]
  },
  {
   "cell_type": "code",
   "execution_count": 143,
   "metadata": {},
   "outputs": [],
   "source": [
    "chrList = list(File['Chromo'].values)\n",
    "SiteLoc = list(File['Site'].values)"
   ]
  },
  {
   "cell_type": "code",
   "execution_count": 144,
   "metadata": {},
   "outputs": [
    {
     "data": {
      "text/plain": [
       "75635"
      ]
     },
     "execution_count": 144,
     "metadata": {},
     "output_type": "execute_result"
    }
   ],
   "source": [
    "len(SiteLoc)"
   ]
  },
  {
   "cell_type": "code",
   "execution_count": 145,
   "metadata": {},
   "outputs": [],
   "source": [
    "FileData = []\n",
    "for item in range(len(SiteLoc)):\n",
    "    FileData.append([chrList[item], SiteLoc[item]])"
   ]
  },
  {
   "cell_type": "code",
   "execution_count": 146,
   "metadata": {},
   "outputs": [
    {
     "data": {
      "text/plain": [
       "75635"
      ]
     },
     "execution_count": 146,
     "metadata": {},
     "output_type": "execute_result"
    }
   ],
   "source": [
    "len(FileData)"
   ]
  },
  {
   "cell_type": "code",
   "execution_count": 147,
   "metadata": {},
   "outputs": [],
   "source": [
    "FileSites = []\n",
    "for x in range(25):\n",
    "    FileSites.append([])"
   ]
  },
  {
   "cell_type": "code",
   "execution_count": 148,
   "metadata": {},
   "outputs": [],
   "source": [
    "for item in range(len(FileData)):\n",
    "    FileSites[chrlabel.index(FileData[item][0])].append(FileData[item][1])\n",
    "\n",
    "        "
   ]
  },
  {
   "cell_type": "code",
   "execution_count": 149,
   "metadata": {},
   "outputs": [
    {
     "data": {
      "text/plain": [
       "75635"
      ]
     },
     "execution_count": 149,
     "metadata": {},
     "output_type": "execute_result"
    }
   ],
   "source": [
    "c = 0 \n",
    "for i in FileSites:\n",
    "    c+=len(i)\n",
    "c"
   ]
  },
  {
   "cell_type": "code",
   "execution_count": 150,
   "metadata": {},
   "outputs": [
    {
     "data": {
      "text/plain": [
       "25"
      ]
     },
     "execution_count": 150,
     "metadata": {},
     "output_type": "execute_result"
    }
   ],
   "source": [
    "len(FileSites)"
   ]
  },
  {
   "cell_type": "code",
   "execution_count": 177,
   "metadata": {},
   "outputs": [],
   "source": [
    "testSite = nRandSitesSim(75680, 1)"
   ]
  },
  {
   "cell_type": "code",
   "execution_count": 179,
   "metadata": {},
   "outputs": [
    {
     "data": {
      "text/plain": [
       "25"
      ]
     },
     "execution_count": 179,
     "metadata": {},
     "output_type": "execute_result"
    }
   ],
   "source": [
    "len(testSite[0])"
   ]
  },
  {
   "cell_type": "code",
   "execution_count": 151,
   "metadata": {},
   "outputs": [],
   "source": [
    "mappedFile = geneReadSites(FileSites, addWindowTSS(10000), method='TSS')"
   ]
  },
  {
   "cell_type": "code",
   "execution_count": 153,
   "metadata": {},
   "outputs": [
    {
     "data": {
      "text/plain": [
       "63"
      ]
     },
     "execution_count": 153,
     "metadata": {},
     "output_type": "execute_result"
    }
   ],
   "source": [
    "len(mappedFile)"
   ]
  },
  {
   "cell_type": "code",
   "execution_count": 115,
   "metadata": {},
   "outputs": [],
   "source": [
    "window = addWindowTSS20(10000)"
   ]
  },
  {
   "cell_type": "code",
   "execution_count": 134,
   "metadata": {},
   "outputs": [
    {
     "data": {
      "text/html": [
       "<div>\n",
       "<style scoped>\n",
       "    .dataframe tbody tr th:only-of-type {\n",
       "        vertical-align: middle;\n",
       "    }\n",
       "\n",
       "    .dataframe tbody tr th {\n",
       "        vertical-align: top;\n",
       "    }\n",
       "\n",
       "    .dataframe thead th {\n",
       "        text-align: right;\n",
       "    }\n",
       "</style>\n",
       "<table border=\"1\" class=\"dataframe\">\n",
       "  <thead>\n",
       "    <tr style=\"text-align: right;\">\n",
       "      <th></th>\n",
       "      <th>chromosome</th>\n",
       "      <th>source</th>\n",
       "      <th>type</th>\n",
       "      <th>start</th>\n",
       "      <th>end</th>\n",
       "      <th>strand</th>\n",
       "      <th>gene_symbol</th>\n",
       "      <th>gene_ensID</th>\n",
       "      <th>length</th>\n",
       "      <th>entrezid</th>\n",
       "    </tr>\n",
       "  </thead>\n",
       "  <tbody>\n",
       "    <tr>\n",
       "      <th>2201</th>\n",
       "      <td>1</td>\n",
       "      <td>ensembl_havana</td>\n",
       "      <td>gene</td>\n",
       "      <td>248838210</td>\n",
       "      <td>248849517</td>\n",
       "      <td>+</td>\n",
       "      <td>ZNF672</td>\n",
       "      <td>ENSG00000171161</td>\n",
       "      <td>11308</td>\n",
       "      <td>79894</td>\n",
       "    </tr>\n",
       "  </tbody>\n",
       "</table>\n",
       "</div>"
      ],
      "text/plain": [
       "     chromosome          source  type      start        end strand  \\\n",
       "2201          1  ensembl_havana  gene  248838210  248849517      +   \n",
       "\n",
       "     gene_symbol       gene_ensID  length  entrezid  \n",
       "2201      ZNF672  ENSG00000171161   11308     79894  "
      ]
     },
     "execution_count": 134,
     "metadata": {},
     "output_type": "execute_result"
    }
   ],
   "source": [
    "geneAnnotationDF[geneAnnotationDF['entrezid']==79894]"
   ]
  },
  {
   "cell_type": "code",
   "execution_count": 135,
   "metadata": {},
   "outputs": [
    {
     "data": {
      "text/html": [
       "<div>\n",
       "<style scoped>\n",
       "    .dataframe tbody tr th:only-of-type {\n",
       "        vertical-align: middle;\n",
       "    }\n",
       "\n",
       "    .dataframe tbody tr th {\n",
       "        vertical-align: top;\n",
       "    }\n",
       "\n",
       "    .dataframe thead th {\n",
       "        text-align: right;\n",
       "    }\n",
       "</style>\n",
       "<table border=\"1\" class=\"dataframe\">\n",
       "  <thead>\n",
       "    <tr style=\"text-align: right;\">\n",
       "      <th></th>\n",
       "      <th>chromosome</th>\n",
       "      <th>source</th>\n",
       "      <th>type</th>\n",
       "      <th>start</th>\n",
       "      <th>end</th>\n",
       "      <th>strand</th>\n",
       "      <th>gene_symbol</th>\n",
       "      <th>gene_ensID</th>\n",
       "      <th>length</th>\n",
       "      <th>entrezid</th>\n",
       "      <th>midBody</th>\n",
       "      <th>lowB</th>\n",
       "      <th>upperB</th>\n",
       "      <th>domainLEN</th>\n",
       "    </tr>\n",
       "  </thead>\n",
       "  <tbody>\n",
       "    <tr>\n",
       "      <th>2201</th>\n",
       "      <td>1</td>\n",
       "      <td>ensembl_havana</td>\n",
       "      <td>gene</td>\n",
       "      <td>248838210</td>\n",
       "      <td>248849517</td>\n",
       "      <td>+</td>\n",
       "      <td>ZNF672</td>\n",
       "      <td>ENSG00000171161</td>\n",
       "      <td>11308</td>\n",
       "      <td>79894</td>\n",
       "      <td>248843864</td>\n",
       "      <td>248832421</td>\n",
       "      <td>248848210</td>\n",
       "      <td>15789</td>\n",
       "    </tr>\n",
       "  </tbody>\n",
       "</table>\n",
       "</div>"
      ],
      "text/plain": [
       "     chromosome          source  type      start        end strand  \\\n",
       "2201          1  ensembl_havana  gene  248838210  248849517      +   \n",
       "\n",
       "     gene_symbol       gene_ensID  length  entrezid    midBody       lowB  \\\n",
       "2201      ZNF672  ENSG00000171161   11308     79894  248843864  248832421   \n",
       "\n",
       "         upperB  domainLEN  \n",
       "2201  248848210      15789  "
      ]
     },
     "execution_count": 135,
     "metadata": {},
     "output_type": "execute_result"
    }
   ],
   "source": [
    "window[0][window[0]['entrezid']==79894]"
   ]
  },
  {
   "cell_type": "code",
   "execution_count": 157,
   "metadata": {},
   "outputs": [],
   "source": [
    "site = 204162667\n",
    "chro = 15\n",
    "lowB = window[chro]['lowB'].values\n",
    "upperB = window[chro]['upperB'].values\n",
    "for i in range(len(lowB)):\n",
    "    if lowB[i] <= site and upperB[i] > site:\n",
    "        print(lowB[i], upperB[i], chro)\n",
    "\n",
    "    "
   ]
  },
  {
   "cell_type": "code",
   "execution_count": 131,
   "metadata": {},
   "outputs": [
    {
     "data": {
      "text/plain": [
       "False"
      ]
     },
     "execution_count": 131,
     "metadata": {},
     "output_type": "execute_result"
    }
   ],
   "source": [
    "26155 in mappedFile"
   ]
  },
  {
   "cell_type": "code",
   "execution_count": 109,
   "metadata": {},
   "outputs": [],
   "source": [
    "# Gets dinfo for GO terms. (AVG domain, Median domain length, Domain length stdev, # genes, goname, go namespace) || TSS only ATM \n",
    "def getgoINFO(data, window, type='TSS'):\n",
    "    output = []\n",
    "    pos = ['1','2','3','4','5','6','7','8','9','10','11','12','13','14','15','16','17','18','19','20','21','22','MT','X','Y']\n",
    "    \n",
    "    if type == 'TSS':\n",
    "        windDF = addWindowTSS20(window)\n",
    "    elif type == 'BODY':\n",
    "        windDF = addWindowBODY20(window)\n",
    "    else:\n",
    "        raise InputError(\"Incorrect option\")\n",
    "    \n",
    "    for item in data:\n",
    "        add = []\n",
    "        add.append(item)\n",
    "        try:\n",
    "            genes = go2gene[item]\n",
    "        except KeyError:\n",
    "            output.append(add)\n",
    "            continue \n",
    "        \n",
    "        geneDom = []\n",
    "        for gene in genes:\n",
    "            try:\n",
    "                chromo = geneAnnotationDF.loc[geneAnnotationDF['entrezid'] == gene].chromosome.values[0]   \n",
    "            except IndexError:\n",
    "                continue\n",
    "            \n",
    "            try:\n",
    "                geneDomain = int(windDF[pos.index(chromo)].loc[windDF[pos.index(chromo)]['entrezid'] == gene].domainLEN.values[0])\n",
    "            except ValueError:\n",
    "                continue\n",
    "            \n",
    "            geneDom.append(geneDomain)\n",
    "            \n",
    "        if len(geneDom) == 0:\n",
    "            output.append(add)\n",
    "            continue \n",
    "            \n",
    "        domainAVG = sum(geneDom)/len(geneDom)\n",
    "        \n",
    "        medianValue = median(geneDom)\n",
    "        if len(geneDom) > 1:\n",
    "            standardDev = stdev(geneDom)\n",
    "        else:\n",
    "            standardDev = 0\n",
    "        \n",
    "        add.append(domainAVG)\n",
    "        add.append(medianValue)  \n",
    "        add.append(standardDev)  \n",
    "        add.append(len(go2gene[item]))\n",
    "        try:\n",
    "            add.append(goinfo.nodes[item]['name'])\n",
    "            add.append(goinfo.nodes[item]['namespace'])\n",
    "        except KeyError:\n",
    "            add.append('NA')\n",
    "            add.append('NA')\n",
    "            \n",
    "        output.append(add)\n",
    "        \n",
    "    return output\n",
    "        \n",
    "            \n",
    "    "
   ]
  },
  {
   "cell_type": "code",
   "execution_count": 110,
   "metadata": {
    "ExecuteTime": {
     "end_time": "2020-06-12T20:38:47.505943Z",
     "start_time": "2020-06-12T20:38:47.471743Z"
    }
   },
   "outputs": [],
   "source": [
    "# Compares original analysis with simulated analysis for nSim\n",
    "def simulation(GOlist, geneL, nSim, nSites, origAnalysis, method, SMLcutoff, entrezDomains): # GOList is the new go list that we analyze through since we don't want whole GO list, geneL is windowDF\n",
    "    sitesL = nRandSitesSim(nSites, nSim)\n",
    "    outputAnalysis = origAnalysis # We will keep updating this dictionary and return when all sims are done \n",
    "    \n",
    "    for sim in range(nSim):\n",
    "        mapped = geneReadSites(sitesL[sim], geneL, method)\n",
    "        counters = SMLcounterFAST(GOlist, mapped, SMLcutoff, entrezDomains)\n",
    "        outputAnalysis = compareGOAnalysis(outputAnalysis, counters)\n",
    "        \n",
    "    return sorted(convertAnalysistoFormat(outputAnalysis, nSim), key = lambda x: x[1][1])"
   ]
  },
  {
   "cell_type": "code",
   "execution_count": 111,
   "metadata": {
    "ExecuteTime": {
     "end_time": "2020-06-12T20:39:27.901901Z",
     "start_time": "2020-06-12T20:39:27.868036Z"
    }
   },
   "outputs": [],
   "source": [
    "# First run that sets up for the simulation\n",
    "def firstRun(userSitesL, window, method='TSS', simN=100): # userSites must be ordered by chromosome number (List of lists) # Default simN = 10000\n",
    "    if method == 'TSS':\n",
    "        geneL = addWindowTSS(window)\n",
    "        windowDF = addWindowTSS20(window)\n",
    "    elif method == 'BODY': \n",
    "        geneL = addWindowBODY(window)\n",
    "        windowDF = addWindowBODY20(window)\n",
    "    else:\n",
    "        return 'Only TSS or BODY method allowed!'\n",
    "    \n",
    "    geneClassification = findSMLdomain(windowDF)\n",
    "    \n",
    "    mappedGenes = geneReadSites(userSitesL, geneL, method)\n",
    "    \n",
    "    numMapped = len(mappedGenes)\n",
    "    numsites = 0\n",
    "    for l in userSitesL:\n",
    "        numsites += len(l)\n",
    "    \n",
    "    entrezDomains = getEntrezDomain(windowDF)\n",
    "#     return mappedGenes, entrezDomains\n",
    "    goAnalysis = conductAnalysisFIRST(mappedGenes, geneClassification, entrezDomains)\n",
    "    newGOlist = getGOfromAnalysis(goAnalysis)\n",
    "    \n",
    "    # estimate num sites to sample: numSitesSamp\n",
    "    nBSL = nRandSitesSim(numsites,5)\n",
    "    nPrime2 = 0 # Total num genes mapped to figure out nPrime value eventually for estimation\n",
    "    for BSL in nBSL:\n",
    "        nPrime2 += len(geneReadSites(BSL, geneL, method))\n",
    "    nPrime = int(nPrime2 / 5)\n",
    "    numSitesSamp = int((numMapped * numsites) / nPrime) # Num mapped genes * num sites inputted divided by nPrime \n",
    "    \n",
    "    return simulation(newGOlist, geneL, simN, numSitesSamp, goAnalysis, method, geneClassification, entrezDomains) # GeneL is list of genes with window bounds "
   ]
  },
  {
   "cell_type": "code",
   "execution_count": 112,
   "metadata": {
    "ExecuteTime": {
     "end_time": "2020-06-12T20:40:07.515209Z",
     "start_time": "2020-06-12T20:40:07.511749Z"
    }
   },
   "outputs": [],
   "source": [
    "def inANOTB(a,b):\n",
    "    a_set = set(a) \n",
    "    b_set = set(b) \n",
    "    return len(list(set(a_set) - set(b_set)))\n",
    "    "
   ]
  },
  {
   "cell_type": "code",
   "execution_count": 113,
   "metadata": {
    "ExecuteTime": {
     "end_time": "2020-06-12T20:40:48.028433Z",
     "start_time": "2020-06-12T20:40:47.977028Z"
    }
   },
   "outputs": [],
   "source": [
    "# First run that sets up for the simulation\n",
    "def adaptiveEnrichmentAnalysis(userSitesL, window, method='TSS'): # userSites must be ordered by chromosome number (List of lists) # Default simN = 10000\n",
    "    if method == 'TSS':\n",
    "        geneL = addWindowTSS(window)\n",
    "        windowDF = addWindowTSS20(window)\n",
    "    elif method == 'BODY': \n",
    "        geneL = addWindowBODY(window)\n",
    "        windowDF = addWindowBODY20(window)\n",
    "    else:\n",
    "        return 'Only TSS or BODY method allowed!'\n",
    "    \n",
    "    geneClassification = findSMLdomain(windowDF)\n",
    "    smallbound = geneClassification[0]\n",
    "    largebound = geneClassification[1]\n",
    "    \n",
    "    mappedGenes = geneReadSites(userSitesL, geneL, method)\n",
    "\n",
    "    entrezDomains = getEntrezDomain(windowDF)\n",
    "    smallGenesMAPPED = []# in mapped\n",
    "    mediumGenesMAPPED = []\n",
    "    largeGenesMAPPED = []\n",
    "    for entrez in mappedGenes:\n",
    "        geneLEN = entrezDomains[entrez]\n",
    "        if geneLEN < smallbound:\n",
    "            smallGenesMAPPED.append(entrez)\n",
    "        elif geneLEN > largebound:\n",
    "            largeGenesMAPPED.append(entrez)\n",
    "        else:\n",
    "            mediumGenesMAPPED.append(entrez)\n",
    "    \n",
    "    smallGenesAll = []# in All\n",
    "    mediumGenesAll = []\n",
    "    largeGenesAll = []\n",
    "    \n",
    "    everygene = []\n",
    "    for l in windowDF:\n",
    "        everygene += list(l.entrezid.values)\n",
    "    for entrez in everygene:\n",
    "        geneLEN = entrezDomains[entrez]\n",
    "        if geneLEN < smallbound:\n",
    "            smallGenesAll.append(entrez)\n",
    "        elif geneLEN > largebound:\n",
    "            largeGenesAll.append(entrez)\n",
    "        else:\n",
    "            mediumGenesAll.append(entrez)\n",
    "            \n",
    "    goAssocGenes = getOntologyID(mappedGenes)\n",
    "    go2pvals = []\n",
    "    \n",
    "    for go in goAssocGenes:\n",
    "        associated2GO = go2gene[go]\n",
    "        smallASSOCgo = common_member(smallGenesAll, associated2GO)# in mapped\n",
    "        mediumASSOCgo = common_member(mediumGenesAll, associated2GO)\n",
    "        largeASSOCgo = common_member(largeGenesAll, associated2GO)\n",
    "        \n",
    "        if len(smallASSOCgo) > 0:\n",
    "            A = len(common_member(smallASSOCgo, smallGenesMAPPED))\n",
    "            B = len(smallASSOCgo) - A\n",
    "            C = inANOTB(smallGenesMAPPED, smallASSOCgo)\n",
    "            D = len(smallGenesAll) - A - B - C\n",
    "            smallODDpval = stats.fisher_exact([[A, B], [C, D]])\n",
    "        else:\n",
    "            smallODDpval = ('NA','NA')\n",
    "        \n",
    "        if len(mediumASSOCgo) > 0:\n",
    "            E = len(common_member(mediumASSOCgo, mediumGenesMAPPED))\n",
    "            F = len(mediumASSOCgo) - E\n",
    "            G = inANOTB(mediumGenesMAPPED, mediumASSOCgo)\n",
    "            H = len(mediumGenesAll) - E - F - G\n",
    "            mediumODDpval = stats.fisher_exact([[E, F], [G, H]])\n",
    "        else:\n",
    "            mediumODDpval = ('NA','NA')\n",
    "        \n",
    "        if len(largeASSOCgo) > 0: \n",
    "            I = len(common_member(largeASSOCgo, largeGenesMAPPED))\n",
    "            J = len(largeASSOCgo) - I\n",
    "            K = inANOTB(largeGenesMAPPED, largeASSOCgo)\n",
    "            L = len(largeGenesAll) - I - J - K \n",
    "            largeODDpval = stats.fisher_exact([[I, J], [K, L]])\n",
    "        else:\n",
    "            largeODDpval = ('NA','NA')\n",
    "\n",
    "        go2pvals.append([go,smallODDpval, mediumODDpval, largeODDpval])\n",
    "\n",
    "            \n",
    "    return go2pvals\n",
    "    "
   ]
  },
  {
   "cell_type": "code",
   "execution_count": 114,
   "metadata": {
    "ExecuteTime": {
     "end_time": "2020-06-12T20:41:29.601467Z",
     "start_time": "2020-06-12T20:41:29.547072Z"
    }
   },
   "outputs": [],
   "source": [
    "def adjP(dataSET):\n",
    "    GOdataSet = dataSET\n",
    "    goGrp = [[],[],[],[],[],[],[],[],[],[]]\n",
    "    numAssGrp = [[1], [2], [3], [4], [5, 6], [7, 8], [9, 10, 11, 12], [13, 14, 15, 16, 17, 18], [19, 20, 21, 22, 23, 24, 25, 26, 27, 28, 29, 30, 31, 32, 33], [34, 35, 36, 37, 38, 39, 40, 41, 42, 43, 44, 45, 46, 47, 48, 49, 50, 51, 52, 53, 54, 55, 56, 57, 58, 59, 60, 61, 62, 63, 64, 65, 66, 67, 68, 69, 70, 71, 72, 73, 74, 75, 76, 77, 78, 79, 80, 81, 82, 83, 84, 85, 86, 87, 88, 89, 90, 91, 92, 93, 94, 95, 96, 97, 98, 99, 100, 101, 102, 103, 104, 105, 106, 107, 108, 109, 110, 111, 112, 113, 114, 115, 116, 117, 118, 119, 120, 122, 123, 124, 125, 126, 127, 128, 129, 130, 131, 132, 133, 134, 135, 137, 138, 139, 140, 141, 142, 144, 145, 146, 147, 148, 149, 150, 151, 152, 153, 154, 155, 156, 157, 158, 160, 161, 163, 164, 166, 167, 168, 169, 170, 171, 172, 173, 174, 175, 176, 177, 178, 179, 180, 182, 183, 185, 187, 188, 189, 190, 191, 193, 194, 196, 198, 200, 201, 202, 203, 204, 205, 206, 208, 210, 211, 212, 213, 214, 216, 217, 218, 219, 221, 225, 226, 229, 232, 234, 235, 236, 238, 239, 240, 242, 244, 249, 250, 251, 252, 254, 262, 263, 264, 265, 268, 272, 273, 278, 280, 282, 285, 290, 295, 297, 301, 307, 308, 310, 311, 312, 313, 315, 324, 329, 330, 334, 343, 344, 347, 354, 360, 362, 364, 366, 368, 371, 374, 375, 385, 387, 395, 397, 405, 409, 411, 413, 420, 424, 427, 431, 439, 441, 457, 458, 467, 474, 481, 483, 491, 496, 502, 504, 505, 524, 529, 537, 540, 547, 548, 552, 565, 578, 605, 610, 611, 667, 670, 689, 703, 706, 812, 816, 859, 927, 960, 973, 980, 1059, 1132, 1134, 1150, 1227, 1304, 1381, 1388, 1456, 1473, 1546, 1778, 1911, 1987, 2163, 2292, 3168, 3637, 4438, 4482, 5026, 5627, 9691]]\n",
    "    numGO = [5184, 2895, 1743, 1241, 1551, 1018, 1219, 1028, 1020, 1275] # Number of GO terms in each group above.\n",
    "    \n",
    "    for go in GOdataSet:\n",
    "        numAss = len(go2gene[go[0]])\n",
    "        for i in range(len(numAssGrp)):\n",
    "            if numAss in numAssGrp[i]:\n",
    "                goGrp[i].append(go)\n",
    "    \n",
    "    pos = 0\n",
    "    for GOdata in goGrp:\n",
    "        fishersP = []\n",
    "#         refabsP = []\n",
    "        for l in GOdata:\n",
    "            fishersP.append(l[1][1])\n",
    "#             refabsP.append(l[1][2])\n",
    "         \n",
    "        if len(fishersP) < numGO[pos]:\n",
    "            numAppend = numGO[pos] - len(fishersP)\n",
    "            fishersP += [1] * numAppend\n",
    "#             refabsP += [1] * numAppend\n",
    "        pos += 1         \n",
    "        \n",
    "        reject, fishersPadj, alphacSidak, alphacBonf = padjust(fishersP, method='fdr_bh', is_sorted=False)\n",
    "#         reject2, refabsPadj, alphacSidak2, alphacBonf2 = padjust(refabsP, method='fdr_bh', is_sorted=False)\n",
    "        correctedfishers = []\n",
    "#         correctedrefabs = []\n",
    "        for i in range(len(GOdata)):\n",
    "            correctedfishers.append(float(fishersPadj[i]))\n",
    "#             cohttp://localhost:8890/notebooks/GOfunctionalAnalysis.ipynb#rrectedrefabs.append(float(refabsPadj[i]))\n",
    "        \n",
    "        for i in range(len(GOdata)):\n",
    "            GOdata[i][1].append(correctedfishers[i])\n",
    "#             GOdata[i][1].append(correctedrefabs[i])\n",
    "    groupedGO = []\n",
    "    for i in goGrp:\n",
    "        for j in i:\n",
    "            groupedGO.append(j)\n",
    "    groupedGO = sorted(groupedGO, key = lambda x: x[1][1])\n",
    "    refabsP = []\n",
    "    for go in groupedGO:\n",
    "        refabsP.append(go[1][2])\n",
    "    reject2, refabsPadj, alphacSidak2, alphacBonf2 = padjust(refabsP, method='fdr_bh', is_sorted=False)\n",
    "    \n",
    "    for i in range(len(groupedGO)):\n",
    "        groupedGO[i][1].append(refabsPadj[i])\n",
    "    \n",
    "    return groupedGO # go: [odds, fishersP, refabsP, correctedfishers, correctedrefabs]"
   ]
  },
  {
   "cell_type": "code",
   "execution_count": 27,
   "metadata": {
    "ExecuteTime": {
     "end_time": "2019-08-22T18:22:02.946683Z",
     "start_time": "2019-08-22T18:22:02.721424Z"
    }
   },
   "outputs": [],
   "source": [
    "# geneAnnotationDF = pd.read_csv('entrez_id/geneAnnotationsDF_Selected_entrezID.csv', sep=',', comment='#', low_memory=False, header=0, names=geneColID)\n",
    "linSites = pd.read_excel('bindingSites2Test.xlsx', header=0)"
   ]
  },
  {
   "cell_type": "code",
   "execution_count": null,
   "metadata": {},
   "outputs": [],
   "source": []
  }
 ],
 "metadata": {
  "kernelspec": {
   "display_name": "Python 3",
   "language": "python",
   "name": "python3"
  },
  "language_info": {
   "codemirror_mode": {
    "name": "ipython",
    "version": 3
   },
   "file_extension": ".py",
   "mimetype": "text/x-python",
   "name": "python",
   "nbconvert_exporter": "python",
   "pygments_lexer": "ipython3",
   "version": "3.7.3"
  },
  "varInspector": {
   "cols": {
    "lenName": 16,
    "lenType": 16,
    "lenVar": 40
   },
   "kernels_config": {
    "python": {
     "delete_cmd_postfix": "",
     "delete_cmd_prefix": "del ",
     "library": "var_list.py",
     "varRefreshCmd": "print(var_dic_list())"
    },
    "r": {
     "delete_cmd_postfix": ") ",
     "delete_cmd_prefix": "rm(",
     "library": "var_list.r",
     "varRefreshCmd": "cat(var_dic_list()) "
    }
   },
   "types_to_exclude": [
    "module",
    "function",
    "builtin_function_or_method",
    "instance",
    "_Feature"
   ],
   "window_display": false
  }
 },
 "nbformat": 4,
 "nbformat_minor": 2
}
