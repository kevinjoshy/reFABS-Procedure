{
 "cells": [
  {
   "cell_type": "code",
   "execution_count": 23,
   "metadata": {
    "ExecuteTime": {
     "end_time": "2019-07-31T18:41:42.078381Z",
     "start_time": "2019-07-31T18:41:41.789444Z"
    }
   },
   "outputs": [],
   "source": [
    "%run ontologyPackage/ontologySTATanalysis.ipynb"
   ]
  },
  {
   "cell_type": "code",
   "execution_count": 24,
   "metadata": {
    "ExecuteTime": {
     "end_time": "2019-07-31T18:41:43.270404Z",
     "start_time": "2019-07-31T18:41:43.211303Z"
    }
   },
   "outputs": [],
   "source": [
    "import pandas as pd \n",
    "import numpy as np\n",
    "from numpy import random, array\n",
    "import time \n",
    "import os # Dont think this is used \n",
    "from multiprocessing import Pool\n",
    "\n",
    "pd.set_option('display.max_colwidth', -1) # Values in columns won't be shortned \n",
    "pd.set_option('chained_assignment',None) # Disabling chained assignments \n",
    "\n",
    "geneColID = [\"chromosome\",\"source\",\"type\",\"start\",\"end\",\"score\",\"strand\",\"phase\",\"gene_symbol\",\"gene_ensID\",\"length\",\"entrezid\"]\n",
    "geneAnnotationDF = pd.read_csv('entrez_id/geneAnnotationsDF_Selected_entrezID.csv', sep=',', comment='#', low_memory=False, header=0, names=geneColID)\n",
    "chromosomeColID = ['chromosome','source','type','start','end','score','strand','phase']\n",
    "chromosomesDF = pd.read_csv('chromosomesDF.csv', sep=',', comment='#', low_memory=False, header=0, names=chromosomeColID)"
   ]
  },
  {
   "cell_type": "code",
   "execution_count": 25,
   "metadata": {
    "ExecuteTime": {
     "end_time": "2019-07-31T18:41:44.413000Z",
     "start_time": "2019-07-31T18:41:44.409792Z"
    }
   },
   "outputs": [],
   "source": [
    "import matplotlib.pyplot as plt\n",
    "from statsmodels.stats.multitest import multipletests as padjust"
   ]
  },
  {
   "cell_type": "code",
   "execution_count": 26,
   "metadata": {
    "ExecuteTime": {
     "end_time": "2019-07-31T18:41:45.584045Z",
     "start_time": "2019-07-31T18:41:45.552371Z"
    }
   },
   "outputs": [],
   "source": [
    "#Dropping unneccesary stuff and resetting index from 0\n",
    "geneAnnotationDF = geneAnnotationDF[geneAnnotationDF.gene_symbol != 'CTD-2207O23.3']\n",
    "geneAnnotationDF = geneAnnotationDF.sort_values(by=['chromosome', 'start'])\n",
    "chromosomesDF = chromosomesDF.sort_values(by=['chromosome'])\n",
    "chromosomesDF = chromosomesDF.reset_index()\n",
    "geneAnnotationDF = geneAnnotationDF.reset_index()\n",
    "chromosomesDF = chromosomesDF.drop(columns=['score', 'strand', 'phase', 'index'])\n",
    "geneAnnotationDF = geneAnnotationDF.drop(columns=['score', 'phase', 'index'])"
   ]
  },
  {
   "cell_type": "code",
   "execution_count": 27,
   "metadata": {
    "ExecuteTime": {
     "end_time": "2019-07-31T18:41:48.930419Z",
     "start_time": "2019-07-31T18:41:46.705953Z"
    }
   },
   "outputs": [],
   "source": [
    "# Making a list of DataFrames to be used in addwindow tss so that if - gene the start is its end and its end is its start \n",
    "u = ['1','2','3','4','5','6','7','8','9','10','11','12','13','14','15','16','17','18','19','20','21','22','MT','X','Y'] # Chromosome ids \n",
    "geneDFL = []\n",
    "for c in u:\n",
    "    geneDF = geneAnnotationDF.loc[geneAnnotationDF['chromosome'] == c].copy()\n",
    "    for i, row in geneDF.iterrows():\n",
    "        if row['strand'] == '-':\n",
    "            start = row['end']\n",
    "            end = row['start']\n",
    "            geneDF.at[i, 'start'] = start\n",
    "            geneDF.at[i, 'end'] = end\n",
    "    geneDF = geneDF.sort_values(by=['start'])\n",
    "    geneDF = geneDF.reset_index()\n",
    "    geneDF = geneDF.drop(columns=['index'])\n",
    "    geneDFL.append(geneDF)"
   ]
  },
  {
   "cell_type": "code",
   "execution_count": 28,
   "metadata": {
    "ExecuteTime": {
     "end_time": "2019-07-31T18:41:50.175403Z",
     "start_time": "2019-07-31T18:41:50.064677Z"
    }
   },
   "outputs": [],
   "source": [
    "# Making a list of DataFrames to be used in future functions in var geneDFL\n",
    "u = ['1','2','3','4','5','6','7','8','9','10','11','12','13','14','15','16','17','18','19','20','21','22','MT','X','Y']\n",
    "geneDFLBODY = []\n",
    "for cc in u:\n",
    "    geneDFbod = geneAnnotationDF.loc[geneAnnotationDF['chromosome'] == cc].copy()\n",
    "    geneDFbod = geneDFbod.sort_values(by=['start'])\n",
    "    geneDFbod = geneDFbod.reset_index()\n",
    "    geneDFbod = geneDFbod.drop(columns=['index'])\n",
    "    geneDFLBODY.append(geneDFbod)"
   ]
  },
  {
   "cell_type": "code",
   "execution_count": 29,
   "metadata": {
    "ExecuteTime": {
     "end_time": "2019-07-31T18:41:51.282160Z",
     "start_time": "2019-07-31T18:41:51.277578Z"
    },
    "code_folding": []
   },
   "outputs": [],
   "source": [
    "# probability that a randomly chosen gene is in a certain chromosome. Ordered from 1 - MT,X,Y | As shown chromosome 1 has highest prob of selection\n",
    "probabilityL = [0.08069467597786323, 0.07850260775517634, 0.06427388269957329, 0.06165457287524136, 0.05884231002379223, 0.05536363751707386, 0.05164908592141782, 0.0470440371698401, 0.044858119022639725, 0.043367989830914035, 0.043785860460049814, 0.04319875643982657, 0.037069107410936775, 0.034696265410969616, 0.033058580434273406, 0.029281523923645837, 0.026986378244674356, 0.026051531764496164, 0.018999829086634144, 0.02088839915494138, 0.015140187376094325, 0.016471877735809576, 5.370214538878023e-06, 0.05057780526426391, 0.017537607961181506]"
   ]
  },
  {
   "cell_type": "code",
   "execution_count": 30,
   "metadata": {
    "ExecuteTime": {
     "end_time": "2019-07-31T18:41:52.334613Z",
     "start_time": "2019-07-31T18:41:52.322440Z"
    }
   },
   "outputs": [],
   "source": [
    "# Generates random sites\n",
    "dl = ['1','2','3','4','5','6','7','8','9','10','11','12','13','14','15','16','17','18','19','20','21','22','23','24','25'] # 23, 24, 25\n",
    "chrD = {'1': [1, 248956422],'2': [1, 242193529],'3': [1, 198295559],'4': [1, 190214555],'5': [1, 181538259],'6': [1, 170805979],'7': [1, 159345973],'8': [1, 145138636],'9': [1, 138394717],'10': [1, 133797422],'11': [1, 135086622],'12': [1, 133275309],'13': [1, 114364328],'14': [1, 107043718],'15': [1, 101991189],'16': [1, 90338345],'17': [1, 83257441],'18': [1, 80373285],'19': [1, 58617616],'20': [1, 64444167],'21': [1, 46709983],'22': [1, 50818468],'23': [1, 16569],'24': [1, 156040895],'25': [2781480, 56887902]}\n",
    "def nRandSites(data):\n",
    "    nSite = data[0]\n",
    "    rand = data[1] \n",
    "    sitesbyC =[[],[],[],[],[],[],[],[],[],[],[],[],[],[],[],[],[],[],[],[],[],[],[],[],[]]\n",
    "\n",
    "    random.seed(rand)\n",
    "        \n",
    "    for site in range(nSite):\n",
    "        chrN = random.choice(dl, p=probabilityL)\n",
    "        randnum = round(random.uniform(chrD[chrN][0], chrD[chrN][1]))\n",
    "        sitesbyC[int(chrN) - 1].append(randnum)\n",
    "    for l in sitesbyC:\n",
    "        l.sort()\n",
    "    return array([array(l) for l in sitesbyC])\n",
    "\n",
    "def nRandSitesSim(nSite, nSim):\n",
    "    totalsites = [nSite] * nSim\n",
    "    chunks = []\n",
    "    for i in totalsites:\n",
    "        chunks.append([i])\n",
    "    for l in chunks:\n",
    "        l.append(random.randint(100000))\n",
    "    \n",
    "    pool = Pool(5)\n",
    "    result = pool.map(nRandSites, chunks)\n",
    "    pool.close()\n",
    "    return(result) "
   ]
  },
  {
   "cell_type": "code",
   "execution_count": 31,
   "metadata": {
    "ExecuteTime": {
     "end_time": "2019-07-31T18:41:53.436894Z",
     "start_time": "2019-07-31T18:41:53.422849Z"
    }
   },
   "outputs": [],
   "source": [
    "##### Adds midpoint in gene and upper and lower bound values to geneDFLtss based on size of window or nearby genes. Adding around geneTSS.\n",
    "def addWindowTSS(window):\n",
    "    chrD = {'1': [1, 248956422],'2': [1, 242193529],'3': [1, 198295559],'4': [1, 190214555],'5': [1, 181538259],'6': [1, 170805979],'7': [1, 159345973],'8': [1, 145138636],'9': [1, 138394717],'10': [1, 133797422],'11': [1, 135086622],'12': [1, 133275309],'13': [1, 114364328],'14': [1, 107043718],'15': [1, 101991189],'16': [1, 90338345],'17': [1, 83257441],'18': [1, 80373285],'19': [1, 58617616],'20': [1, 64444167],'21': [1, 46709983],'22': [1, 50818468],'23': [1, 16569],'24': [1, 156040895],'25': [2781480, 56887902]} \n",
    "    geneWindowDFL = []\n",
    "    for i in range(len(geneDFL)):\n",
    "        df = geneDFL[i].copy()\n",
    "        geneWindowDFL.append(df)\n",
    "    outList = []\n",
    "    chrIDNUM = 0\n",
    "    for dfG in geneWindowDFL: # ordered by chromosome 1- MT,X,Y\n",
    "        chrIDNUM += 1 \n",
    "        dfIndexMax = len(dfG) - 1   \n",
    "        for i, row in dfG.iterrows():\n",
    "            start = row['start']\n",
    "            \n",
    "            dfG.at[i, 'midBody'] = (((row['length'] / 2)) + start) # Middle of gene body \n",
    "            if i == 0 or i == dfIndexMax: # Case for start and end genes\n",
    "                if i == 0:\n",
    "                    dfG.at[i, 'lowB'] = max(start - window, chrD[str(chrIDNUM)][0]) # chrD[chrIDNUM][0] = start val of the chromosome\n",
    "                    dfG.at[i, 'upperB'] = min(start + window, ((dfG.iat[i+1, 3] - start) / 2) + start)\n",
    "                else: # index max case \n",
    "                    dfG.at[i, 'lowB'] = max(start - window, start - ((start - dfG.iat[i-1, 3]) / 2)) # dfG.iat[i-1, 3] = start of gene below\n",
    "                    dfG.at[i, 'upperB'] = min(start + window, chrD[str(chrIDNUM)][1]) # chrD[chrIDNUM][1] = end val of chromosome \n",
    "            else: # i > 0 or i < len(geneDF) - 1 \n",
    "                dfG.at[i, 'lowB'] = max(start - window, start - ((start - dfG.iat[i-1, 3]) / 2)) # dfG.iat[i-1, 3] = start of gene below\n",
    "                dfG.at[i, 'upperB'] = min(start + window, ((dfG.iat[i+1, 3] - start) / 2) + start) # Start of the gene above position [i,3]\n",
    "        dfG['midBody'] = dfG['midBody'].astype(int)\n",
    "        dfG['lowB'] = dfG['lowB'].astype(int)\n",
    "        dfG['upperB'] = dfG['upperB'].astype(int)\n",
    "#         dfG['domainLEN'] = dfG['upperB'] - dfG['lowB']\n",
    "        LBandUB = []\n",
    "        LBandUB.append(dfG.lowB.values)\n",
    "        LBandUB.append(dfG.upperB.values)\n",
    "        outList.append(LBandUB)\n",
    "    \n",
    "    return(outList)"
   ]
  },
  {
   "cell_type": "code",
   "execution_count": 32,
   "metadata": {
    "ExecuteTime": {
     "end_time": "2019-07-31T18:41:59.603023Z",
     "start_time": "2019-07-31T18:41:59.588411Z"
    }
   },
   "outputs": [],
   "source": [
    "##### Adds midpoint in gene and upper and lower bound values to geneDFLtss based on size of window or nearby genes. Adding around geneTSS.\n",
    "def addWindowTSS20(window):\n",
    "    chrD = {'1': [1, 248956422],'2': [1, 242193529],'3': [1, 198295559],'4': [1, 190214555],'5': [1, 181538259],'6': [1, 170805979],'7': [1, 159345973],'8': [1, 145138636],'9': [1, 138394717],'10': [1, 133797422],'11': [1, 135086622],'12': [1, 133275309],'13': [1, 114364328],'14': [1, 107043718],'15': [1, 101991189],'16': [1, 90338345],'17': [1, 83257441],'18': [1, 80373285],'19': [1, 58617616],'20': [1, 64444167],'21': [1, 46709983],'22': [1, 50818468],'23': [1, 16569],'24': [1, 156040895],'25': [2781480, 56887902]} \n",
    "    geneWindowDFL = []\n",
    "    for i in range(len(geneDFL)):\n",
    "        df = geneDFL[i].copy()\n",
    "        geneWindowDFL.append(df)\n",
    "    chrIDNUM = 0\n",
    "    for dfG in geneWindowDFL: # ordered by chromosome 1- MT,X,Y\n",
    "        chrIDNUM += 1 \n",
    "        dfIndexMax = len(dfG) - 1   \n",
    "        for i, row in dfG.iterrows():\n",
    "            start = row['start']\n",
    "            \n",
    "            dfG.at[i, 'midBody'] = (((row['length'] / 2)) + start) # Middle of gene body \n",
    "            if i == 0 or i == dfIndexMax: # Case for start and end genes\n",
    "                if i == 0:\n",
    "                    dfG.at[i, 'lowB'] = max(start - window, chrD[str(chrIDNUM)][0]) # chrD[chrIDNUM][0] = start val of the chromosome\n",
    "                    dfG.at[i, 'upperB'] = min(start + window, ((dfG.iat[i+1, 3] - start) / 2) + start)\n",
    "                else: # index max case \n",
    "                    dfG.at[i, 'lowB'] = max(start - window, start - ((start - dfG.iat[i-1, 3]) / 2)) # dfG.iat[i-1, 3] = start of gene below\n",
    "                    dfG.at[i, 'upperB'] = min(start + window, chrD[str(chrIDNUM)][1]) # chrD[chrIDNUM][1] = end val of chromosome \n",
    "            else: # i > 0 or i < len(geneDF) - 1 \n",
    "                dfG.at[i, 'lowB'] = max(start - window, start - ((start - dfG.iat[i-1, 3]) / 2)) # dfG.iat[i-1, 3] = start of gene below\n",
    "                dfG.at[i, 'upperB'] = min(start + window, ((dfG.iat[i+1, 3] - start) / 2) + start) # Start of the gene above position [i,3]\n",
    "        dfG['midBody'] = dfG['midBody'].astype(int)\n",
    "        dfG['lowB'] = dfG['lowB'].astype(int)\n",
    "        dfG['upperB'] = dfG['upperB'].astype(int)\n",
    "        dfG['domainLEN'] = dfG['upperB'] - dfG['lowB']\n",
    "    \n",
    "    return(geneWindowDFL)"
   ]
  },
  {
   "cell_type": "code",
   "execution_count": 33,
   "metadata": {
    "ExecuteTime": {
     "end_time": "2019-07-31T18:42:00.880569Z",
     "start_time": "2019-07-31T18:42:00.865288Z"
    }
   },
   "outputs": [],
   "source": [
    "# Adds midpoint in gene and upper and lower bound values to geneDFL based on size of window or nearby genes. Adding around geneBODY.\n",
    "def addWindowBODY(window):\n",
    "    chrD = {'1': [1, 248956422],'2': [1, 242193529],'3': [1, 198295559],'4': [1, 190214555],'5': [1, 181538259],'6': [1, 170805979],'7': [1, 159345973],'8': [1, 145138636],'9': [1, 138394717],'10': [1, 133797422],'11': [1, 135086622],'12': [1, 133275309],'13': [1, 114364328],'14': [1, 107043718],'15': [1, 101991189],'16': [1, 90338345],'17': [1, 83257441],'18': [1, 80373285],'19': [1, 58617616],'20': [1, 64444167],'21': [1, 46709983],'22': [1, 50818468],'23': [1, 16569],'24': [1, 156040895],'25': [2781480, 56887902]} \n",
    "    chrIDNUM = 0\n",
    "    geneWindowDFL = []\n",
    "    for i in range(len(geneDFLBODY)):\n",
    "        df = geneDFLBODY[i].copy()\n",
    "        geneWindowDFL.append(df)\n",
    "    \n",
    "    outList = []\n",
    "    for dfG in geneWindowDFL: # ordered by chromosome 1- MT,X,Y\n",
    "        chrIDNUM += 1 \n",
    "        dfIndexMax = len(dfG) - 1         \n",
    "        for i, row in dfG.iterrows():\n",
    "            start = row['start']\n",
    "            end = row['end']\n",
    "            dfG.at[i, 'midBody'] = (((row['length'] / 2)) + row['start']) # Middle of gene body \n",
    "            \n",
    "            if i == 0 or i == dfIndexMax: # Case for start and end sites\n",
    "                if i == 0:\n",
    "                    dfG.at[i, 'lowB'] = max(start - window, chrD[str(chrIDNUM)][0]) # end of the gene below position\n",
    "                    dfG.at[i, 'upperB'] = min(end + window, ((dfG.iat[i+1, 3] - end) / 2) + end)\n",
    "                else: # index max case \n",
    "                    dfG.at[i, 'lowB'] = max(start - window, start - (abs(start - dfG.iat[i-1, 4]) / 2)) \n",
    "                    dfG.at[i, 'upperB'] = min(row['end'] + window, chrD[str(chrIDNUM)][1])\n",
    "            else: # i > 0 or i < len(geneDF) - 1 \n",
    "                dfG.at[i, 'lowB'] = max(start - window, start - (abs(start - dfG.iat[i-1, 4]) / 2)) # end of the gene below position [i,4]\n",
    "                dfG.at[i, 'upperB'] = min(end + window, ((dfG.iat[i+1, 3] - end) / 2) + end) # Start of the gene above position [i,3]\n",
    "        dfG['midBody'] = dfG['midBody'].astype(int)\n",
    "        dfG['lowB'] = dfG['lowB'].astype(int)\n",
    "        dfG['upperB'] = dfG['upperB'].astype(int)\n",
    "#         dfG['domainLEN'] = dfG['upperB'] - dfG['lowB']\n",
    "        LBandUB = []\n",
    "        LBandUB.append(dfG.lowB.values)\n",
    "        LBandUB.append(dfG.upperB.values)\n",
    "        outList.append(LBandUB)\n",
    "    \n",
    "    return(outList)"
   ]
  },
  {
   "cell_type": "code",
   "execution_count": 34,
   "metadata": {
    "ExecuteTime": {
     "end_time": "2019-07-31T18:42:02.067724Z",
     "start_time": "2019-07-31T18:42:02.053353Z"
    }
   },
   "outputs": [],
   "source": [
    "# Adds midpoint in gene and upper and lower bound values to geneDFL based on size of window or nearby genes. Adding around geneBODY.\n",
    "def addWindowBODY20(window):\n",
    "    chrD = {'1': [1, 248956422],'2': [1, 242193529],'3': [1, 198295559],'4': [1, 190214555],'5': [1, 181538259],'6': [1, 170805979],'7': [1, 159345973],'8': [1, 145138636],'9': [1, 138394717],'10': [1, 133797422],'11': [1, 135086622],'12': [1, 133275309],'13': [1, 114364328],'14': [1, 107043718],'15': [1, 101991189],'16': [1, 90338345],'17': [1, 83257441],'18': [1, 80373285],'19': [1, 58617616],'20': [1, 64444167],'21': [1, 46709983],'22': [1, 50818468],'23': [1, 16569],'24': [1, 156040895],'25': [2781480, 56887902]} \n",
    "    chrIDNUM = 0\n",
    "    geneWindowDFL = []\n",
    "    for i in range(len(geneDFLBODY)):\n",
    "        df = geneDFLBODY[i].copy()\n",
    "        geneWindowDFL.append(df)\n",
    "    \n",
    "    for dfG in geneWindowDFL: # ordered by chromosome 1- MT,X,Y\n",
    "        chrIDNUM += 1 \n",
    "        dfIndexMax = len(dfG) - 1         \n",
    "        for i, row in dfG.iterrows():\n",
    "            start = row['start']\n",
    "            end = row['end']\n",
    "            \n",
    "            dfG.at[i, 'midBody'] = (((row['length'] / 2)) + row['start']) # Middle of gene body \n",
    "            \n",
    "            if i == 0 or i == dfIndexMax: # Case for start and end sites\n",
    "                if i == 0:\n",
    "                    dfG.at[i, 'lowB'] = max(start - window, chrD[str(chrIDNUM)][0]) # end of the gene below position\n",
    "                    dfG.at[i, 'upperB'] = min(end + window, ((dfG.iat[i+1, 3] - end) / 2) + end)\n",
    "                else: # index max case \n",
    "                    dfG.at[i, 'lowB'] = max(start - window, start - (abs(start - dfG.iat[i-1, 4]) / 2)) \n",
    "                    dfG.at[i, 'upperB'] = min(row['end'] + window, chrD[str(chrIDNUM)][1])\n",
    "            else: # i > 0 or i < len(geneDF) - 1 \n",
    "                dfG.at[i, 'lowB'] = max(start - window, start - (abs(start - dfG.iat[i-1, 4]) / 2)) # end of the gene below position [i,4]\n",
    "                dfG.at[i, 'upperB'] = min(end + window, ((dfG.iat[i+1, 3] - end) / 2) + end) # Start of the gene above position [i,3]\n",
    "        dfG['midBody'] = dfG['midBody'].astype(int)\n",
    "        dfG['lowB'] = dfG['lowB'].astype(int)\n",
    "        dfG['upperB'] = dfG['upperB'].astype(int)\n",
    "        dfG['domainLEN'] = dfG['upperB'] - dfG['lowB']\n",
    "    \n",
    "    return(geneWindowDFL)"
   ]
  },
  {
   "cell_type": "code",
   "execution_count": 35,
   "metadata": {
    "ExecuteTime": {
     "end_time": "2019-07-31T18:42:03.214242Z",
     "start_time": "2019-07-31T18:42:03.209870Z"
    }
   },
   "outputs": [],
   "source": [
    "def findSMLdomain(window, method):\n",
    "    if method == 'TSS':\n",
    "        windowLens = addWindowTSS20(window)\n",
    "    elif method == 'BODY':\n",
    "        windowLens = addWindowBODY20(window)\n",
    "    else:\n",
    "        return 'Error in method'\n",
    "    allVALS = []\n",
    "    for df in windowLens:\n",
    "        df['domainLEN'] = df['upperB'] - df['lowB']\n",
    "        values = list(df.domainLEN.values)\n",
    "        allVALS += values\n",
    "    \n",
    "    return sorted(allVALS)"
   ]
  },
  {
   "cell_type": "code",
   "execution_count": 36,
   "metadata": {
    "ExecuteTime": {
     "end_time": "2019-07-31T18:42:04.286227Z",
     "start_time": "2019-07-31T18:42:04.281754Z"
    }
   },
   "outputs": [],
   "source": [
    "# Creating list of all the entrezids \n",
    "entrezIDLtss = []\n",
    "for geneDF in geneDFL:\n",
    "    entrezIDLtss.append(geneDF.entrezid.values)"
   ]
  },
  {
   "cell_type": "code",
   "execution_count": 37,
   "metadata": {
    "ExecuteTime": {
     "end_time": "2019-07-31T18:42:05.456993Z",
     "start_time": "2019-07-31T18:42:05.452859Z"
    }
   },
   "outputs": [],
   "source": [
    "entrezIDLbody = []\n",
    "for geneDF in geneDFLBODY:\n",
    "    entrezIDLbody.append(geneDF.entrezid.values)"
   ]
  },
  {
   "cell_type": "code",
   "execution_count": 38,
   "metadata": {
    "ExecuteTime": {
     "end_time": "2019-07-31T18:42:06.620825Z",
     "start_time": "2019-07-31T18:42:06.614147Z"
    }
   },
   "outputs": [],
   "source": [
    "# CLOSEST Genes potentionally regulated by sites in window with respect to the genes body. k = 1 \n",
    "def geneReadSites(bsL, geneWindow, method='TSS'): # geneWindow = windows lists\n",
    "    #     geneWindow = addWindowBODY(window)\n",
    "    chromosomeI = 0 # 0 == chromosome group 1          \n",
    "    entrezidOutL = [] # Output list of entrez ids \n",
    "    if method == 'TSS':\n",
    "        entrezIDL = entrezIDLtss\n",
    "    if method == 'BODY':\n",
    "        entrezIDL = entrezIDLbody\n",
    "    if method != 'TSS'and method != 'BODY':\n",
    "        return 'method must be TSS or BODY'\n",
    "    \n",
    "    for bounds in geneWindow:\n",
    "        lowB = bounds[0]\n",
    "        upperB = bounds[1]\n",
    "        geneIDS = entrezIDL[chromosomeI]\n",
    "        sitesL = bsL[chromosomeI]\n",
    "        \n",
    "        for site in sitesL:\n",
    "            for i in range(len(lowB)):\n",
    "                if site < lowB[i]:\n",
    "                    lowB = lowB[i:] # Getting rid of the gene windows because it has been mapped. Genes at a lower positions are removed casuse they are small\n",
    "                    upperB = upperB[i:]\n",
    "                    geneIDS = geneIDS[i:]\n",
    "                    break\n",
    "                if lowB[i] <= site and upperB[i] > site:\n",
    "                    entrezidOutL.append(geneIDS[i])\n",
    "#                     lowB = lowB[i+1:] # Getting rid of the gene windows because it has been mapped. Genes at a lower positions are removed casuse they are small\n",
    "#                     upperB = upperB[i+1:]\n",
    "#                     geneIDS = geneIDS[i+1:]\n",
    "#                     break # Done with the current site so break \n",
    "        chromosomeI += 1   \n",
    "    return entrezidOutL"
   ]
  },
  {
   "cell_type": "code",
   "execution_count": 39,
   "metadata": {
    "ExecuteTime": {
     "end_time": "2019-07-31T18:42:07.755004Z",
     "start_time": "2019-07-31T18:42:07.751863Z"
    }
   },
   "outputs": [],
   "source": [
    "# Given a list of lists with go term and its odds-ratio,p-val return a list of just GO terms \n",
    "def getGOfromAnalysis(goAnalysis):\n",
    "    goTermL = []\n",
    "    for key in goAnalysis:\n",
    "        goTermL.append(key)\n",
    "    return goTermL"
   ]
  },
  {
   "cell_type": "code",
   "execution_count": 40,
   "metadata": {
    "ExecuteTime": {
     "end_time": "2019-07-31T18:42:08.935138Z",
     "start_time": "2019-07-31T18:42:08.931514Z"
    }
   },
   "outputs": [],
   "source": [
    "# Given original analysis and simulated analysis. Adds count to go term in original list if the random go term has a lower p-val and higher odds ratio \n",
    "def compareGOAnalysis(origAnalysis, simAnalysis):\n",
    "    for k in simAnalysis:\n",
    "        if (simAnalysis[k][1] < origAnalysis[k][1]): #  (simAnalysis[k][0] > origAnalysis[k][0]) and \n",
    "            origAnalysis[k][2] += 1\n",
    "    return origAnalysis     "
   ]
  },
  {
   "cell_type": "code",
   "execution_count": 41,
   "metadata": {
    "ExecuteTime": {
     "end_time": "2019-07-31T18:42:10.066408Z",
     "start_time": "2019-07-31T18:42:10.062787Z"
    }
   },
   "outputs": [],
   "source": [
    "# converts analysis to list format and divides by nSim to get refabs p value\n",
    "def convertAnalysistoFormat(analysis, nSim):\n",
    "    analist = []\n",
    "    for k in analysis.keys():\n",
    "        analysis[k][2] = (analysis[k][2] + 1) / (nSim + 1) # + 1 to get rid of p vals of 0 for correction\n",
    "        analist.append([k, analysis[k]])\n",
    "    return analist"
   ]
  },
  {
   "cell_type": "code",
   "execution_count": 42,
   "metadata": {
    "ExecuteTime": {
     "end_time": "2019-07-31T18:42:11.178181Z",
     "start_time": "2019-07-31T18:42:11.173657Z"
    }
   },
   "outputs": [],
   "source": [
    "# Compares original analysis with simulated analysis for nSim\n",
    "def simulation(GOlist, geneL, nSim, nSites, origAnalysis, method): # GOList is the new go list that we analyze through since we don't want whole GO list, geneL is windowDF\n",
    "#     sitesL = nRandSitesSim(nSites, nSim)\n",
    "    sitesL = nRandSitesSim(nSites, nSim)\n",
    "    outputAnalysis = origAnalysis # We will keep updating this dictionary and return when all sims are done \n",
    "    \n",
    "    for sim in range(nSim):\n",
    "        mapped = geneReadSites(sitesL[sim], geneL, method)\n",
    "        randAnalysis = conductAnalysisFAST(mapped, OntologyL=GOlist) # Updating OntologyL to make the calculations quicker \n",
    "        outputAnalysis = compareGOAnalysis(outputAnalysis, randAnalysis)\n",
    "        \n",
    "    return sorted(convertAnalysistoFormat(outputAnalysis, nSim), key = lambda x: x[1][1])"
   ]
  },
  {
   "cell_type": "code",
   "execution_count": 43,
   "metadata": {
    "ExecuteTime": {
     "end_time": "2019-07-31T18:42:12.358673Z",
     "start_time": "2019-07-31T18:42:12.352126Z"
    }
   },
   "outputs": [],
   "source": [
    "# First run that sets up for the simulation\n",
    "def firstRun(userSitesL, window, method='TSS', simN=100): # userSites must be ordered by chromosome number (List of lists) # Default simN = 10000\n",
    "    if method == 'TSS':\n",
    "        geneL = addWindowTSS(window)\n",
    "    elif method == 'BODY': \n",
    "        geneL = addWindowBODY(window)\n",
    "    else:\n",
    "        return 'Only TSS or BODY method allowed!'\n",
    "    \n",
    "    mappedGenes = geneReadSites(userSitesL, geneL, method)\n",
    "    numMapped = len(mappedGenes)\n",
    "    numsites = 0\n",
    "    for l in userSitesL:\n",
    "        numsites += len(l)\n",
    "    \n",
    "    goAnalysis = conductAnalysisFAST(mappedGenes)\n",
    "    newGOlist = getGOfromAnalysis(goAnalysis)\n",
    "    \n",
    "    # estimate num sites to sample: numSitesSamp\n",
    "    nBSL = nRandSitesSim(numsites,5)\n",
    "    nPrime2 = 0 # Total num genes mapped to figure out nPrime value eventually for estimation\n",
    "    for BSL in nBSL:\n",
    "        nPrime2 += len(geneReadSites(BSL, geneL, method))\n",
    "    nPrime = int(nPrime2 / 5)\n",
    "    numSitesSamp = int((numMapped * numsites) / nPrime) # Num mapped genes * num sites inputted divided by nPrime \n",
    "    \n",
    "    return simulation(newGOlist, geneL, simN, numSitesSamp, goAnalysis, method) # GeneL is list of genes with window bounds "
   ]
  },
  {
   "cell_type": "code",
   "execution_count": 47,
   "metadata": {
    "ExecuteTime": {
     "end_time": "2019-07-31T20:10:21.150314Z",
     "start_time": "2019-07-31T20:10:21.127256Z"
    }
   },
   "outputs": [],
   "source": [
    "def adjP(dataSET):\n",
    "    GOdataSet = dataSET\n",
    "    goGrp = [[],[],[],[],[],[],[],[],[],[]]\n",
    "    numAssGrp = [[1], [2], [3], [4], [5, 6], [7, 8], [9, 10, 11, 12], [13, 14, 15, 16, 17, 18], [19, 20, 21, 22, 23, 24, 25, 26, 27, 28, 29, 30, 31, 32, 33], [34, 35, 36, 37, 38, 39, 40, 41, 42, 43, 44, 45, 46, 47, 48, 49, 50, 51, 52, 53, 54, 55, 56, 57, 58, 59, 60, 61, 62, 63, 64, 65, 66, 67, 68, 69, 70, 71, 72, 73, 74, 75, 76, 77, 78, 79, 80, 81, 82, 83, 84, 85, 86, 87, 88, 89, 90, 91, 92, 93, 94, 95, 96, 97, 98, 99, 100, 101, 102, 103, 104, 105, 106, 107, 108, 109, 110, 111, 112, 113, 114, 115, 116, 117, 118, 119, 120, 122, 123, 124, 125, 126, 127, 128, 129, 130, 131, 132, 133, 134, 135, 137, 138, 139, 140, 141, 142, 144, 145, 146, 147, 148, 149, 150, 151, 152, 153, 154, 155, 156, 157, 158, 160, 161, 163, 164, 166, 167, 168, 169, 170, 171, 172, 173, 174, 175, 176, 177, 178, 179, 180, 182, 183, 185, 187, 188, 189, 190, 191, 193, 194, 196, 198, 200, 201, 202, 203, 204, 205, 206, 208, 210, 211, 212, 213, 214, 216, 217, 218, 219, 221, 225, 226, 229, 232, 234, 235, 236, 238, 239, 240, 242, 244, 249, 250, 251, 252, 254, 262, 263, 264, 265, 268, 272, 273, 278, 280, 282, 285, 290, 295, 297, 301, 307, 308, 310, 311, 312, 313, 315, 324, 329, 330, 334, 343, 344, 347, 354, 360, 362, 364, 366, 368, 371, 374, 375, 385, 387, 395, 397, 405, 409, 411, 413, 420, 424, 427, 431, 439, 441, 457, 458, 467, 474, 481, 483, 491, 496, 502, 504, 505, 524, 529, 537, 540, 547, 548, 552, 565, 578, 605, 610, 611, 667, 670, 689, 703, 706, 812, 816, 859, 927, 960, 973, 980, 1059, 1132, 1134, 1150, 1227, 1304, 1381, 1388, 1456, 1473, 1546, 1778, 1911, 1987, 2163, 2292, 3168, 3637, 4438, 4482, 5026, 5627, 9691]]\n",
    "    numGO = [5184, 2895, 1743, 1241, 1551, 1018, 1219, 1028, 1020, 1275] # Number of GO terms in each group above.\n",
    "    \n",
    "    for go in GOdataSet:\n",
    "        numAss = len(go2gene[go[0]])\n",
    "        for i in range(len(numAssGrp)):\n",
    "            if numAss in numAssGrp[i]:\n",
    "                goGrp[i].append(go)\n",
    "    \n",
    "    pos = 0\n",
    "    for GOdata in goGrp:\n",
    "        fishersP = []\n",
    "#         refabsP = []\n",
    "        for l in GOdata:\n",
    "            fishersP.append(l[1][1])\n",
    "#             refabsP.append(l[1][2])\n",
    "         \n",
    "        if len(fishersP) < numGO[pos]:\n",
    "            numAppend = numGO[pos] - len(fishersP)\n",
    "            fishersP += [1] * numAppend\n",
    "#             refabsP += [1] * numAppend\n",
    "        pos += 1         \n",
    "        \n",
    "        reject, fishersPadj, alphacSidak, alphacBonf = padjust(fishersP, method='fdr_bh', is_sorted=False)\n",
    "#         reject2, refabsPadj, alphacSidak2, alphacBonf2 = padjust(refabsP, method='fdr_bh', is_sorted=False)\n",
    "        correctedfishers = []\n",
    "#         correctedrefabs = []\n",
    "        for i in range(len(GOdata)):\n",
    "            correctedfishers.append(float(fishersPadj[i]))\n",
    "#             correctedrefabs.append(float(refabsPadj[i]))\n",
    "        \n",
    "        for i in range(len(GOdata)):\n",
    "            GOdata[i][1].append(correctedfishers[i])\n",
    "#             GOdata[i][1].append(correctedrefabs[i])\n",
    "    groupedGO = []\n",
    "    for i in goGrp:\n",
    "        for j in i:\n",
    "            groupedGO.append(j)\n",
    "    groupedGO = sorted(groupedGO, key = lambda x: x[1][1])\n",
    "    refabsP = []\n",
    "    for go in groupedGO:\n",
    "        refabsP.append(go[1][2])\n",
    "    reject2, refabsPadj, alphacSidak2, alphacBonf2 = padjust(refabsP, method='fdr_bh', is_sorted=False)\n",
    "    \n",
    "    for i in range(len(groupedGO)):\n",
    "        groupedGO[i][1].append(refabsPadj[i])\n",
    "    \n",
    "    return groupedGO # go: [odds, fishersP, refabsP, correctedfishers, correctedrefabs]"
   ]
  },
  {
   "cell_type": "code",
   "execution_count": null,
   "metadata": {
    "ExecuteTime": {
     "start_time": "2019-07-31T17:42:48.665Z"
    }
   },
   "outputs": [],
   "source": [
    "data1 = firstRun(nRandSites([10000, random.randint(100000)]), 100000, method='BODY', simN=2000)"
   ]
  },
  {
   "cell_type": "code",
   "execution_count": null,
   "metadata": {},
   "outputs": [],
   "source": []
  }
 ],
 "metadata": {
  "kernelspec": {
   "display_name": "Python 3",
   "language": "python",
   "name": "python3"
  },
  "varInspector": {
   "cols": {
    "lenName": 16,
    "lenType": 16,
    "lenVar": 40
   },
   "kernels_config": {
    "python": {
     "delete_cmd_postfix": "",
     "delete_cmd_prefix": "del ",
     "library": "var_list.py",
     "varRefreshCmd": "print(var_dic_list())"
    },
    "r": {
     "delete_cmd_postfix": ") ",
     "delete_cmd_prefix": "rm(",
     "library": "var_list.r",
     "varRefreshCmd": "cat(var_dic_list()) "
    }
   },
   "types_to_exclude": [
    "module",
    "function",
    "builtin_function_or_method",
    "instance",
    "_Feature"
   ],
   "window_display": false
  }
 },
 "nbformat": 4,
 "nbformat_minor": 2
}
