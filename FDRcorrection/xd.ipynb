{
 "cells": [
  {
   "cell_type": "code",
   "execution_count": 51,
   "metadata": {
    "ExecuteTime": {
     "end_time": "2019-07-08T17:58:25.723990Z",
     "start_time": "2019-07-08T17:58:25.718454Z"
    }
   },
   "outputs": [],
   "source": [
    "import rpy2.robjects as robjects\n",
    "from numpy import random\n",
    "\n",
    "listOfNumbers = []\n",
    "\n",
    "for x in range (0, 140):\n",
    "    listOfNumbers.append(random.uniform(0, 1))\n",
    "\n",
    "def callinR(pvals):\n",
    "    input = tuple(pvals)\n",
    "    r = robjects.r\n",
    "    r['source'](\"conreg.R\")\n",
    "    data = r(\"conregr(c(\" + str(pvals)[1:-1] + \"))\")\n",
    "    adj = []\n",
    "    for n in data[2]: # data[2] is r vector of adjusted p vals largest - smallest \n",
    "        adj.append(n)\n",
    "\n",
    "    return sorted(adj)"
   ]
  },
  {
   "cell_type": "code",
   "execution_count": 52,
   "metadata": {
    "ExecuteTime": {
     "end_time": "2019-07-08T17:58:26.887283Z",
     "start_time": "2019-07-08T17:58:26.685534Z"
    }
   },
   "outputs": [],
   "source": [
    "x = callinR(listOfNumbers)"
   ]
  },
  {
   "cell_type": "code",
   "execution_count": null,
   "metadata": {},
   "outputs": [],
   "source": []
  }
 ],
 "metadata": {
  "kernelspec": {
   "display_name": "Python 3",
   "language": "python",
   "name": "python3"
  },
  "language_info": {
   "codemirror_mode": {
    "name": "ipython",
    "version": 3
   },
   "file_extension": ".py",
   "mimetype": "text/x-python",
   "name": "python",
   "nbconvert_exporter": "python",
   "pygments_lexer": "ipython3",
   "version": "3.7.3"
  },
  "varInspector": {
   "cols": {
    "lenName": 16,
    "lenType": 16,
    "lenVar": 40
   },
   "kernels_config": {
    "python": {
     "delete_cmd_postfix": "",
     "delete_cmd_prefix": "del ",
     "library": "var_list.py",
     "varRefreshCmd": "print(var_dic_list())"
    },
    "r": {
     "delete_cmd_postfix": ") ",
     "delete_cmd_prefix": "rm(",
     "library": "var_list.r",
     "varRefreshCmd": "cat(var_dic_list()) "
    }
   },
   "types_to_exclude": [
    "module",
    "function",
    "builtin_function_or_method",
    "instance",
    "_Feature"
   ],
   "window_display": false
  }
 },
 "nbformat": 4,
 "nbformat_minor": 2
}
