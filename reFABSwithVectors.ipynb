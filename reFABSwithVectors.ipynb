{
 "cells": [
  {
   "cell_type": "code",
   "execution_count": 1,
   "metadata": {
    "ExecuteTime": {
     "end_time": "2019-06-21T16:22:30.672794Z",
     "start_time": "2019-06-21T16:22:30.012222Z"
    }
   },
   "outputs": [],
   "source": [
    "import pandas as pd \n",
    "import numpy as np\n",
    "from numpy import random, array\n",
    "import time \n",
    "import os # Dont think this is used \n",
    "from multiprocessing import Pool\n",
    "\n",
    "pd.set_option('display.max_colwidth', -1) # Values in columns won't be shortned \n",
    "pd.set_option('chained_assignment',None) # Disabling chained assignments \n",
    "\n",
    "geneColID = [\"chromosome\",\"source\",\"type\",\"start\",\"end\",\"score\",\"strand\",\"phase\",\"gene_symbol\",\"gene_ensID\",\"length\",\"entrezid\"]\n",
    "geneAnnotationDF = pd.read_csv('entrez_id/geneAnnotationsDF_Selected_entrezID.csv', sep=',', comment='#', low_memory=False, header=0, names=geneColID)\n",
    "chromosomeColID = ['chromosome','source','type','start','end','score','strand','phase']\n",
    "chromosomesDF = pd.read_csv('chromosomesDF.csv', sep=',', comment='#', low_memory=False, header=0, names=chromosomeColID)"
   ]
  },
  {
   "cell_type": "code",
   "execution_count": 2,
   "metadata": {
    "ExecuteTime": {
     "end_time": "2019-06-21T16:22:30.692842Z",
     "start_time": "2019-06-21T16:22:30.674581Z"
    }
   },
   "outputs": [],
   "source": [
    "#Dropping unneccesary stuff and resetting index from 0\n",
    "chromosomesDF = chromosomesDF.reset_index()\n",
    "geneAnnotationDF = geneAnnotationDF.reset_index()\n",
    "chromosomesDF = chromosomesDF.drop(columns=['score', 'strand', 'phase', 'index'])\n",
    "geneAnnotationDF = geneAnnotationDF.drop(columns=['score', 'phase', 'index'])"
   ]
  },
  {
   "cell_type": "code",
   "execution_count": 3,
   "metadata": {
    "ExecuteTime": {
     "end_time": "2019-06-21T16:22:30.779520Z",
     "start_time": "2019-06-21T16:22:30.694879Z"
    }
   },
   "outputs": [],
   "source": [
    "# Making a list of DataFrames to be used in future functions in var geneDFL\n",
    "u = ['1','2','3','4','5','6','7','8','9','10','11','12','13','14','15','16','17','18','19','20','21','22','MT','X','Y']\n",
    "geneDFL = []\n",
    "for c in u:\n",
    "    geneDF = geneAnnotationDF.loc[geneAnnotationDF['chromosome'] == c]\n",
    "    geneDF = geneDF.reset_index()\n",
    "    geneDF = geneDF.drop(columns=['index'])\n",
    "    geneDFL.append(geneDF)"
   ]
  },
  {
   "cell_type": "code",
   "execution_count": 4,
   "metadata": {
    "ExecuteTime": {
     "end_time": "2019-06-21T16:22:30.786274Z",
     "start_time": "2019-06-21T16:22:30.782261Z"
    },
    "code_folding": [
     0
    ]
   },
   "outputs": [],
   "source": [
    "# probability that a randomly chosen gene is in a certain chromosome. Ordered from 1 - MT,X,Y | As shown chromosome 1 has highest prob of selection\n",
    "probabilityL = [0.08069467567425805,\n",
    "                0.04336798981767917,\n",
    "                0.043785860443564265,\n",
    "                0.04319875642790819,\n",
    "                0.03706910744670193,\n",
    "                0.0346962654651935,\n",
    "                0.0330585805012371,\n",
    "                0.029281524019991866,\n",
    "                0.02698637835887469,\n",
    "                0.02605153188596882,\n",
    "                0.018999829262963137,\n",
    "                0.07850260746862361,\n",
    "                0.02088839931657888,\n",
    "                0.015140187582448091,\n",
    "                0.016471877931803908,\n",
    "                0.06427388252370811,\n",
    "                0.061654572719752214,\n",
    "                0.058842309890180126,\n",
    "                0.055363637410522915,\n",
    "                0.05164908584376297,\n",
    "                0.04704403712800866,\n",
    "                0.044858118997812904,\n",
    "                5.370538628831923e-06,\n",
    "                0.050577805194942725,\n",
    "                0.01753760814888535]"
   ]
  },
  {
   "cell_type": "code",
   "execution_count": 5,
   "metadata": {
    "ExecuteTime": {
     "end_time": "2019-06-21T16:22:30.800256Z",
     "start_time": "2019-06-21T16:22:30.788758Z"
    }
   },
   "outputs": [],
   "source": [
    "# Returns list of randSites ordered by chromosome number from 1 - MT,X,Y\n",
    "# Weights are so chromosomes with more genes in them are chosen for a rand site more often. Chr one has highest probability.\n",
    "# def nRandSites(n):\n",
    "#     chrIDS = ['1','2','3','4','5','6','7','8','9','10','11','12','13','14','15','16','17','18','19','20','21','22','MT','X','Y']\n",
    "#     randChr = chromosomesDF.sample(n, replace=True, weights=probabilityL) # Replace allows same row to be sampled again \n",
    "#     randChr['BindingSite'] = (np.random.uniform(randChr.start, randChr.end).round()).astype(int)\n",
    "#     randChrL = [] \n",
    "#     for i in chrIDS: \n",
    "#         DF = randChr.loc[randChr['chromosome'] == i]\n",
    "#         sortDF = DF.iloc[(DF['BindingSite']).argsort()]         \n",
    "#         randChrL.append(sortDF.BindingSite.values)\n",
    "#     return randChrL  \n",
    "dl = ['1','2','3','4','5','6','7','8','9','10','11','12','13','14','15','16','17','18','19','20','21','22','23','24','25'] # 23, 24, 25\n",
    "chrD = {'1': [1, 248956422],'2': [1, 133797422],'3': [1, 135086622],'4': [1, 133275309],'5': [1, 114364328],'6': [1, 107043718],'7': [1, 101991189],'8': [1, 90338345],'9': [1, 83257441],'10': [1, 80373285],'11': [1, 58617616],'12': [1, 242193529],'13': [1, 64444167],'14': [1, 46709983],'15': [1, 50818468],'16': [1, 198295559],'17': [1, 190214555],'18': [1, 181538259],'19': [1, 170805979],'20': [1, 159345973],'21': [1, 145138636],'22': [1, 138394717],'23': [1, 16569],'24': [1, 156040895],'25': [2781480, 56887902]}\n",
    "\n",
    "def nRandSites(nSite):\n",
    "    sitesbyC =[[],[],[],[],[],[],[],[],[],[],[],[],[],[],[],[],[],[],[],[],[],[],[],[],[]]\n",
    "    random.seed()\n",
    "    for site in range(nSite):\n",
    "        chr = random.choice(dl, p=probabilityL)\n",
    "        randnum = round(random.uniform(chrD[chr][0], chrD[chr][1]))\n",
    "        sitesbyC[int(chr) - 1].append(randnum)\n",
    "    for l in sitesbyC:\n",
    "        l.sort()\n",
    "    return array([array(l) for l in sitesbyC])\n",
    "\n",
    "def nRandSitesSim(nSite, nSim):\n",
    "    chunks = [nSite] * nSim\n",
    "    pool = Pool(processes = 8)\n",
    "    result = pool.map(nRandSites, chunks)\n",
    "    return(result) "
   ]
  },
  {
   "cell_type": "code",
   "execution_count": 6,
   "metadata": {
    "ExecuteTime": {
     "end_time": "2019-06-21T16:22:30.811760Z",
     "start_time": "2019-06-21T16:22:30.802094Z"
    }
   },
   "outputs": [],
   "source": [
    "# Adds midpoint in gene and upper and lower bound values to geneDFL based on size of window or nearby genes. Adding around geneTSS.\n",
    "def addWindowTSS(window):\n",
    "    geneWindowDFL = geneDFL\n",
    "    outList = []\n",
    "    for dfG in geneWindowDFL: # ordered by chromosome 1- MT,X,Y\n",
    "        dfIndexMax = len(dfG) - 1   \n",
    "        for i, row in dfG.iterrows():\n",
    "            dfG.at[i, 'midBody'] = (((row['length'] / 2)) + row['start']) # Middle of gene body \n",
    "            \n",
    "            if i == 0 or i == dfIndexMax: # Case for start and end genes\n",
    "                if i == 0:\n",
    "                    dfG.at[i, 'lowB'] = max(row['start'] - window, 1) \n",
    "                    dfG.at[i, 'upperB'] = min(row['start'] + window, ((dfG.iat[i+1, 3] - row['start']) / 2) + row['start'])\n",
    "                else: # index max case \n",
    "                    dfG.at[i, 'lowB'] = max(row['start'] - window, row['start'] - ((row['start'] - dfG.iat[i-1, 3]) / 2)) # dfG.iat[i-1, 3] = start of gene below\n",
    "                    dfG.at[i, 'upperB'] = row['start'] + window\n",
    "            else: # i > 0 or i < len(geneDF) - 1 \n",
    "                dfG.at[i, 'lowB'] = max(row['start'] - window, row['start'] - ((row['start'] - dfG.iat[i-1, 3]) / 2)) # dfG.iat[i-1, 3] = start of gene below\n",
    "                dfG.at[i, 'upperB'] = min(row['start'] + window, ((dfG.iat[i+1, 3] - row['start']) / 2) + row['start']) # Start of the gene above position [i,3]\n",
    "        dfG['midBody'] = dfG['midBody'].astype(int)\n",
    "        dfG['lowB'] = dfG['lowB'].astype(int)\n",
    "        dfG['upperB'] = dfG['upperB'].astype(int)\n",
    "        LBandUB = []\n",
    "        LBandUB.append(dfG.lowB.values)\n",
    "        LBandUB.append(dfG.upperB.values)\n",
    "        outList.append(LBandUB)\n",
    "    return(outList)"
   ]
  },
  {
   "cell_type": "code",
   "execution_count": 7,
   "metadata": {
    "ExecuteTime": {
     "end_time": "2019-06-21T16:22:30.822592Z",
     "start_time": "2019-06-21T16:22:30.813181Z"
    }
   },
   "outputs": [],
   "source": [
    "# Adds midpoint in gene and upper and lower bound values to geneDFL based on size of window or nearby genes. Adding around geneBODY.\n",
    "def addWindowBODY(window):\n",
    "    geneWindowDFL = geneDFL\n",
    "    outList = []\n",
    "    for dfG in geneWindowDFL: # ordered by chromosome 1- MT,X,Y\n",
    "        dfIndexMax = len(dfG) - 1         \n",
    "        for i, row in dfG.iterrows():\n",
    "            dfG.at[i, 'midBody'] = (((row['length'] / 2)) + row['start']) # Middle of gene body \n",
    "            \n",
    "            if i == 0 or i == dfIndexMax: # Case for start and end sites\n",
    "                if i == 0:\n",
    "                    dfG.at[i, 'lowB'] = max(row['start'] - window, 1) # end of the gene below position\n",
    "                    dfG.at[i, 'upperB'] = min(row['end'] + window, ((dfG.iat[i+1, 3] - row['end']) / 2) + row['end'])\n",
    "                else: # index max case \n",
    "                    dfG.at[i, 'lowB'] = max(row['start'] - window, row['start'] - ((row['start'] - dfG.iat[i-1, 4]) / 2)) \n",
    "                    dfG.at[i, 'upperB'] = row['end'] + window\n",
    "            else: # i > 0 or i < len(geneDF) - 1 \n",
    "                dfG.at[i, 'lowB'] = max(row['start'] - window, row['start'] - ((row['start'] - dfG.iat[i-1, 4]) / 2)) # end of the gene below position [i,4]\n",
    "                dfG.at[i, 'upperB'] = min(row['end'] + window, ((dfG.iat[i+1, 3] - row['end']) / 2) + row['end']) # Start of the gene above position [i,3]\n",
    "        dfG['midBody'] = dfG['midBody'].astype(int)\n",
    "        dfG['lowB'] = dfG['lowB'].astype(int)\n",
    "        dfG['upperB'] = dfG['upperB'].astype(int)\n",
    "        LBandUB = []\n",
    "        LBandUB.append(dfG.lowB.values)\n",
    "        LBandUB.append(dfG.upperB.values)\n",
    "        outList.append(LBandUB)\n",
    "    return(outList)"
   ]
  },
  {
   "cell_type": "code",
   "execution_count": 8,
   "metadata": {
    "ExecuteTime": {
     "end_time": "2019-06-21T16:22:30.828921Z",
     "start_time": "2019-06-21T16:22:30.824898Z"
    }
   },
   "outputs": [],
   "source": [
    "# Creating list of all the entrezids \n",
    "entrezIDL = []\n",
    "for geneDF in geneDFL:\n",
    "    entrezIDL.append(geneDF.entrezid.values)"
   ]
  },
  {
   "cell_type": "code",
   "execution_count": 9,
   "metadata": {
    "ExecuteTime": {
     "end_time": "2019-06-21T16:22:30.838892Z",
     "start_time": "2019-06-21T16:22:30.831326Z"
    }
   },
   "outputs": [],
   "source": [
    "# CLOSEST Genes potentionally regulated by sites in window with respect to the genes body. k = 1 \n",
    "def geneReadSites(bsL, geneL): # geneL = windows lists\n",
    "#     geneL = addWindowBODY(window)\n",
    "    chromosomeI = 0 # 0 == chromosome group 1          \n",
    "    entrezidOutL = [] # Output list of entrez ids \n",
    "    \n",
    "    for bounds in geneL:\n",
    "        lowB = bounds[0]\n",
    "        upperB = bounds[1]\n",
    "        geneIDS = entrezIDL[chromosomeI]\n",
    "        sitesL = bsL[chromosomeI]\n",
    "        \n",
    "        for site in sitesL:\n",
    "            for i in range(len(lowB)):\n",
    "                if site < lowB[i]:\n",
    "                    break\n",
    "                if lowB[i] <= site and upperB[i] > site:\n",
    "                    entrezidOutL.append(geneIDS[i])\n",
    "                    lowB = lowB[i+1:] # Getting rid of the gene windows because it has been mapped. Genes at a lower positions are removed casuse they are small\n",
    "                    upperB = upperB[i+1:]\n",
    "                    geneIDS = geneIDS[i+1:]\n",
    "                    break # Done with the current site so break \n",
    "        chromosomeI += 1   \n",
    "    return entrezidOutL"
   ]
  },
  {
   "cell_type": "code",
   "execution_count": 10,
   "metadata": {
    "ExecuteTime": {
     "end_time": "2019-06-21T16:22:30.844478Z",
     "start_time": "2019-06-21T16:22:30.840590Z"
    }
   },
   "outputs": [],
   "source": [
    "# k = 1 \n",
    "def nSimulations(nSim, nSites, window, method='TSS'):\n",
    "    if method == 'TSS':\n",
    "        geneL = addWindowTSS(window)\n",
    "    elif method == 'BODY': \n",
    "        geneL = addWindowBODY(window)\n",
    "    else:\n",
    "        return 'Only TSS or BODY method allowed!'\n",
    "    sitesL = nRandSitesSim(nSites,nSim)\n",
    "    output = []\n",
    "    \n",
    "    for sim in range(nSim):\n",
    "        mapped = geneReadSites(sitesL[sim], geneL)\n",
    "        output.append(mapped)\n",
    "    return output"
   ]
  },
  {
   "cell_type": "code",
   "execution_count": null,
   "metadata": {},
   "outputs": [],
   "source": []
  }
 ],
 "metadata": {
  "kernelspec": {
   "display_name": "Python 3",
   "language": "python",
   "name": "python3"
  },
  "language_info": {
   "codemirror_mode": {
    "name": "ipython",
    "version": 3
   },
   "file_extension": ".py",
   "mimetype": "text/x-python",
   "name": "python",
   "nbconvert_exporter": "python",
   "pygments_lexer": "ipython3",
   "version": "3.7.3"
  },
  "varInspector": {
   "cols": {
    "lenName": 16,
    "lenType": 16,
    "lenVar": 40
   },
   "kernels_config": {
    "python": {
     "delete_cmd_postfix": "",
     "delete_cmd_prefix": "del ",
     "library": "var_list.py",
     "varRefreshCmd": "print(var_dic_list())"
    },
    "r": {
     "delete_cmd_postfix": ") ",
     "delete_cmd_prefix": "rm(",
     "library": "var_list.r",
     "varRefreshCmd": "cat(var_dic_list()) "
    }
   },
   "position": {
    "height": "543.722px",
    "left": "1144.26px",
    "right": "20px",
    "top": "75.9773px",
    "width": "350px"
   },
   "types_to_exclude": [
    "module",
    "function",
    "builtin_function_or_method",
    "instance",
    "_Feature"
   ],
   "window_display": false
  }
 },
 "nbformat": 4,
 "nbformat_minor": 2
}
