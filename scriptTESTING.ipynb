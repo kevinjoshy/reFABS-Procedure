{
 "cells": [
  {
   "cell_type": "code",
   "execution_count": 31,
   "metadata": {
    "ExecuteTime": {
     "end_time": "2019-06-25T16:37:16.001711Z",
     "start_time": "2019-06-25T16:37:11.568225Z"
    }
   },
   "outputs": [],
   "source": [
    "%run CODETESTING.ipynb"
   ]
  },
  {
   "cell_type": "code",
   "execution_count": 32,
   "metadata": {
    "ExecuteTime": {
     "end_time": "2019-06-25T16:37:17.203240Z",
     "start_time": "2019-06-25T16:37:17.176538Z"
    }
   },
   "outputs": [],
   "source": [
    "randGOS = getRandGO(10)"
   ]
  },
  {
   "cell_type": "code",
   "execution_count": 49,
   "metadata": {
    "ExecuteTime": {
     "end_time": "2019-06-25T16:38:49.524447Z",
     "start_time": "2019-06-25T16:38:49.520411Z"
    }
   },
   "outputs": [
    {
     "data": {
      "text/plain": [
       "['GO:0006178',\n",
       " 'GO:0005462',\n",
       " 'GO:0043409',\n",
       " 'GO:0006468',\n",
       " 'GO:0017122',\n",
       " 'GO:0002228',\n",
       " 'GO:0008217',\n",
       " 'GO:0003254',\n",
       " 'GO:0071035',\n",
       " 'GO:0071206']"
      ]
     },
     "execution_count": 49,
     "metadata": {},
     "output_type": "execute_result"
    }
   ],
   "source": [
    "randGOS"
   ]
  },
  {
   "cell_type": "code",
   "execution_count": 33,
   "metadata": {
    "ExecuteTime": {
     "end_time": "2019-06-25T16:37:17.955697Z",
     "start_time": "2019-06-25T16:37:17.952788Z"
    }
   },
   "outputs": [],
   "source": [
    "genesTest = getGeneL(randGOS)"
   ]
  },
  {
   "cell_type": "code",
   "execution_count": 34,
   "metadata": {
    "ExecuteTime": {
     "end_time": "2019-06-25T16:37:19.344710Z",
     "start_time": "2019-06-25T16:37:18.670500Z"
    }
   },
   "outputs": [],
   "source": [
    "testingGeneL=createPOSDict(genesTest)"
   ]
  },
  {
   "cell_type": "code",
   "execution_count": 35,
   "metadata": {
    "ExecuteTime": {
     "end_time": "2019-06-25T16:37:20.503619Z",
     "start_time": "2019-06-25T16:37:20.174162Z"
    }
   },
   "outputs": [],
   "source": [
    "testing=appendCHR(testingGeneL)"
   ]
  },
  {
   "cell_type": "code",
   "execution_count": 36,
   "metadata": {
    "ExecuteTime": {
     "end_time": "2019-06-25T16:37:21.263510Z",
     "start_time": "2019-06-25T16:37:21.259404Z"
    }
   },
   "outputs": [],
   "source": [
    "rdy2TestSites = testingSitesL(testing)"
   ]
  },
  {
   "cell_type": "code",
   "execution_count": 37,
   "metadata": {
    "ExecuteTime": {
     "end_time": "2019-06-25T16:37:25.494163Z",
     "start_time": "2019-06-25T16:37:21.976538Z"
    }
   },
   "outputs": [],
   "source": [
    "mapped=geneReadSites(rdy2TestSites, addWindowBODY(100))"
   ]
  },
  {
   "cell_type": "code",
   "execution_count": 38,
   "metadata": {
    "ExecuteTime": {
     "end_time": "2019-06-25T16:37:29.495166Z",
     "start_time": "2019-06-25T16:37:29.492143Z"
    }
   },
   "outputs": [],
   "source": [
    "mapped = sorted(mapped)"
   ]
  },
  {
   "cell_type": "code",
   "execution_count": 39,
   "metadata": {
    "ExecuteTime": {
     "end_time": "2019-06-25T16:37:30.263431Z",
     "start_time": "2019-06-25T16:37:30.260628Z"
    }
   },
   "outputs": [],
   "source": [
    "tested=getTested(testing)"
   ]
  },
  {
   "cell_type": "code",
   "execution_count": 40,
   "metadata": {
    "ExecuteTime": {
     "end_time": "2019-06-25T16:37:31.980287Z",
     "start_time": "2019-06-25T16:37:31.946077Z"
    }
   },
   "outputs": [],
   "source": [
    "notinMapped=[]\n",
    "for geneid in tested:\n",
    "    if geneid not in mapped:\n",
    "        notinMapped.append(geneid)"
   ]
  },
  {
   "cell_type": "code",
   "execution_count": 41,
   "metadata": {
    "ExecuteTime": {
     "end_time": "2019-06-25T16:37:33.717364Z",
     "start_time": "2019-06-25T16:37:33.713431Z"
    }
   },
   "outputs": [
    {
     "data": {
      "text/plain": [
       "[1017,\n",
       " 3991,\n",
       " 4117,\n",
       " 5571,\n",
       " 8536,\n",
       " 23617,\n",
       " 60493,\n",
       " 79072,\n",
       " 83903,\n",
       " 83939,\n",
       " 83942,\n",
       " 85481,\n",
       " 1584,\n",
       " 29098]"
      ]
     },
     "execution_count": 41,
     "metadata": {},
     "output_type": "execute_result"
    }
   ],
   "source": [
    "notinMapped"
   ]
  },
  {
   "cell_type": "code",
   "execution_count": 42,
   "metadata": {
    "ExecuteTime": {
     "end_time": "2019-06-25T16:37:40.697464Z",
     "start_time": "2019-06-25T16:37:40.662489Z"
    }
   },
   "outputs": [],
   "source": [
    "notinTested=[]\n",
    "for geneid in mapped:\n",
    "    if geneid not in tested:\n",
    "        notinTested.append(geneid)"
   ]
  },
  {
   "cell_type": "code",
   "execution_count": 43,
   "metadata": {
    "ExecuteTime": {
     "end_time": "2019-06-25T16:37:50.956124Z",
     "start_time": "2019-06-25T16:37:50.951927Z"
    }
   },
   "outputs": [
    {
     "data": {
      "text/plain": [
       "[2765,\n",
       " 3682,\n",
       " 4163,\n",
       " 4552,\n",
       " 4968,\n",
       " 6490,\n",
       " 8220,\n",
       " 22888,\n",
       " 27230,\n",
       " 81853,\n",
       " 245972,\n",
       " 399512,\n",
       " 100996307,\n",
       " 105369758]"
      ]
     },
     "execution_count": 43,
     "metadata": {},
     "output_type": "execute_result"
    }
   ],
   "source": [
    "notinTested"
   ]
  },
  {
   "cell_type": "code",
   "execution_count": 44,
   "metadata": {
    "ExecuteTime": {
     "end_time": "2019-06-25T16:37:57.254958Z",
     "start_time": "2019-06-25T16:37:57.251126Z"
    }
   },
   "outputs": [
    {
     "name": "stdout",
     "output_type": "stream",
     "text": [
      "564 564\n"
     ]
    }
   ],
   "source": [
    "print(len(tested),len(mapped))"
   ]
  },
  {
   "cell_type": "code",
   "execution_count": 45,
   "metadata": {
    "ExecuteTime": {
     "end_time": "2019-06-25T16:38:02.978262Z",
     "start_time": "2019-06-25T16:38:02.972877Z"
    }
   },
   "outputs": [],
   "source": [
    "GOs = getOntologyID(mapped)"
   ]
  },
  {
   "cell_type": "code",
   "execution_count": 46,
   "metadata": {
    "ExecuteTime": {
     "end_time": "2019-06-25T16:38:05.994529Z",
     "start_time": "2019-06-25T16:38:05.990679Z"
    }
   },
   "outputs": [],
   "source": [
    "for g in randGOS:\n",
    "    if g not in GOs:\n",
    "        print(g)"
   ]
  },
  {
   "cell_type": "code",
   "execution_count": 67,
   "metadata": {
    "ExecuteTime": {
     "end_time": "2019-06-25T16:54:16.078475Z",
     "start_time": "2019-06-25T16:54:16.066026Z"
    }
   },
   "outputs": [
    {
     "data": {
      "text/html": [
       "<div>\n",
       "<style scoped>\n",
       "    .dataframe tbody tr th:only-of-type {\n",
       "        vertical-align: middle;\n",
       "    }\n",
       "\n",
       "    .dataframe tbody tr th {\n",
       "        vertical-align: top;\n",
       "    }\n",
       "\n",
       "    .dataframe thead th {\n",
       "        text-align: right;\n",
       "    }\n",
       "</style>\n",
       "<table border=\"1\" class=\"dataframe\">\n",
       "  <thead>\n",
       "    <tr style=\"text-align: right;\">\n",
       "      <th></th>\n",
       "      <th>chromosome</th>\n",
       "      <th>source</th>\n",
       "      <th>type</th>\n",
       "      <th>start</th>\n",
       "      <th>end</th>\n",
       "      <th>strand</th>\n",
       "      <th>gene_symbol</th>\n",
       "      <th>gene_ensID</th>\n",
       "      <th>length</th>\n",
       "      <th>entrezid</th>\n",
       "    </tr>\n",
       "  </thead>\n",
       "  <tbody>\n",
       "    <tr>\n",
       "      <th>16760</th>\n",
       "      <td>6</td>\n",
       "      <td>ensembl_havana</td>\n",
       "      <td>gene</td>\n",
       "      <td>10762723</td>\n",
       "      <td>10838555</td>\n",
       "      <td>-</td>\n",
       "      <td>MAK</td>\n",
       "      <td>ENSG00000111837</td>\n",
       "      <td>75833</td>\n",
       "      <td>4117</td>\n",
       "    </tr>\n",
       "  </tbody>\n",
       "</table>\n",
       "</div>"
      ],
      "text/plain": [
       "      chromosome          source  type     start       end strand gene_symbol  \\\n",
       "16760  6          ensembl_havana  gene  10762723  10838555  -      MAK          \n",
       "\n",
       "            gene_ensID  length  entrezid  \n",
       "16760  ENSG00000111837  75833   4117      "
      ]
     },
     "execution_count": 67,
     "metadata": {},
     "output_type": "execute_result"
    }
   ],
   "source": [
    "geneAnnotationDF.loc[geneAnnotationDF.entrezid == 4117]"
   ]
  },
  {
   "cell_type": "code",
   "execution_count": 73,
   "metadata": {
    "ExecuteTime": {
     "end_time": "2019-06-25T16:55:18.815248Z",
     "start_time": "2019-06-25T16:55:18.803020Z"
    }
   },
   "outputs": [
    {
     "data": {
      "text/html": [
       "<div>\n",
       "<style scoped>\n",
       "    .dataframe tbody tr th:only-of-type {\n",
       "        vertical-align: middle;\n",
       "    }\n",
       "\n",
       "    .dataframe tbody tr th {\n",
       "        vertical-align: top;\n",
       "    }\n",
       "\n",
       "    .dataframe thead th {\n",
       "        text-align: right;\n",
       "    }\n",
       "</style>\n",
       "<table border=\"1\" class=\"dataframe\">\n",
       "  <thead>\n",
       "    <tr style=\"text-align: right;\">\n",
       "      <th></th>\n",
       "      <th>chromosome</th>\n",
       "      <th>source</th>\n",
       "      <th>type</th>\n",
       "      <th>start</th>\n",
       "      <th>end</th>\n",
       "      <th>strand</th>\n",
       "      <th>gene_symbol</th>\n",
       "      <th>gene_ensID</th>\n",
       "      <th>length</th>\n",
       "      <th>entrezid</th>\n",
       "    </tr>\n",
       "  </thead>\n",
       "  <tbody>\n",
       "    <tr>\n",
       "      <th>16759</th>\n",
       "      <td>6</td>\n",
       "      <td>ensembl_havana</td>\n",
       "      <td>gene</td>\n",
       "      <td>10747759</td>\n",
       "      <td>10852753</td>\n",
       "      <td>+</td>\n",
       "      <td>TMEM14B</td>\n",
       "      <td>ENSG00000137210</td>\n",
       "      <td>104995</td>\n",
       "      <td>81853</td>\n",
       "    </tr>\n",
       "  </tbody>\n",
       "</table>\n",
       "</div>"
      ],
      "text/plain": [
       "      chromosome          source  type     start       end strand gene_symbol  \\\n",
       "16759  6          ensembl_havana  gene  10747759  10852753  +      TMEM14B      \n",
       "\n",
       "            gene_ensID  length  entrezid  \n",
       "16759  ENSG00000137210  104995  81853     "
      ]
     },
     "execution_count": 73,
     "metadata": {},
     "output_type": "execute_result"
    }
   ],
   "source": [
    "geneAnnotationDF.loc[geneAnnotationDF.entrezid == 81853]"
   ]
  },
  {
   "cell_type": "code",
   "execution_count": 50,
   "metadata": {
    "ExecuteTime": {
     "end_time": "2019-06-25T16:41:33.695018Z",
     "start_time": "2019-06-25T16:41:33.691063Z"
    }
   },
   "outputs": [
    {
     "data": {
      "text/plain": [
       "[1017,\n",
       " 3991,\n",
       " 4117,\n",
       " 5571,\n",
       " 8536,\n",
       " 23617,\n",
       " 60493,\n",
       " 79072,\n",
       " 83903,\n",
       " 83939,\n",
       " 83942,\n",
       " 85481,\n",
       " 1584,\n",
       " 29098]"
      ]
     },
     "execution_count": 50,
     "metadata": {},
     "output_type": "execute_result"
    }
   ],
   "source": [
    "notinMapped"
   ]
  },
  {
   "cell_type": "code",
   "execution_count": 51,
   "metadata": {
    "ExecuteTime": {
     "end_time": "2019-06-25T16:41:41.626293Z",
     "start_time": "2019-06-25T16:41:41.622276Z"
    }
   },
   "outputs": [
    {
     "data": {
      "text/plain": [
       "[2765,\n",
       " 3682,\n",
       " 4163,\n",
       " 4552,\n",
       " 4968,\n",
       " 6490,\n",
       " 8220,\n",
       " 22888,\n",
       " 27230,\n",
       " 81853,\n",
       " 245972,\n",
       " 399512,\n",
       " 100996307,\n",
       " 105369758]"
      ]
     },
     "execution_count": 51,
     "metadata": {},
     "output_type": "execute_result"
    }
   ],
   "source": [
    "notinTested"
   ]
  },
  {
   "cell_type": "code",
   "execution_count": null,
   "metadata": {},
   "outputs": [],
   "source": []
  },
  {
   "cell_type": "code",
   "execution_count": null,
   "metadata": {},
   "outputs": [],
   "source": []
  },
  {
   "cell_type": "code",
   "execution_count": null,
   "metadata": {},
   "outputs": [],
   "source": []
  },
  {
   "cell_type": "code",
   "execution_count": null,
   "metadata": {},
   "outputs": [],
   "source": []
  }
 ],
 "metadata": {
  "kernelspec": {
   "display_name": "Python 3",
   "language": "python",
   "name": "python3"
  },
  "language_info": {
   "codemirror_mode": {
    "name": "ipython",
    "version": 3
   },
   "file_extension": ".py",
   "mimetype": "text/x-python",
   "name": "python",
   "nbconvert_exporter": "python",
   "pygments_lexer": "ipython3",
   "version": "3.7.3"
  },
  "varInspector": {
   "cols": {
    "lenName": 16,
    "lenType": 16,
    "lenVar": 40
   },
   "kernels_config": {
    "python": {
     "delete_cmd_postfix": "",
     "delete_cmd_prefix": "del ",
     "library": "var_list.py",
     "varRefreshCmd": "print(var_dic_list())"
    },
    "r": {
     "delete_cmd_postfix": ") ",
     "delete_cmd_prefix": "rm(",
     "library": "var_list.r",
     "varRefreshCmd": "cat(var_dic_list()) "
    }
   },
   "position": {
    "height": "793px",
    "left": "1089px",
    "right": "20px",
    "top": "122px",
    "width": "560px"
   },
   "types_to_exclude": [
    "module",
    "function",
    "builtin_function_or_method",
    "instance",
    "_Feature"
   ],
   "window_display": false
  }
 },
 "nbformat": 4,
 "nbformat_minor": 2
}
