{
 "cells": [
  {
   "cell_type": "code",
   "execution_count": 1,
   "metadata": {
    "ExecuteTime": {
     "end_time": "2019-08-09T18:00:10.618354Z",
     "start_time": "2019-08-09T18:00:10.615316Z"
    },
    "hide_input": false
   },
   "outputs": [],
   "source": [
    "import time \n",
    "import scipy.stats as stats\n",
    "import numpy as np \n",
    "from multiprocessing import Pool\n",
    "import json\n",
    "from operator import itemgetter"
   ]
  },
  {
   "cell_type": "code",
   "execution_count": 42,
   "metadata": {
    "ExecuteTime": {
     "end_time": "2019-08-09T18:00:10.625331Z",
     "start_time": "2019-08-09T18:00:10.620392Z"
    },
    "code_folding": [
     0
    ]
   },
   "outputs": [],
   "source": [
    "# This is the old way to get data. New is stored in a txt file. gene2go and go2gene.\n",
    "# from goatools.base import download_ncbi_associations # Only needed to download: 'gene2go'\n",
    "# from goatools.anno.genetogo_reader import Gene2GoReader\n",
    "# fin_gene2go = download_ncbi_associations() # Downloading associations file: 'gene2go'\n",
    "# fin_gene2go = 'gene2go'\n",
    "# objanno = Gene2GoReader(fin_gene2go, taxids=[9606]) # Reading human associasions \n",
    "# ns2assoc = objanno.get_ns2assc() # Sorted by NS \n",
    "# assoc = objanno.get_id2gos_nss() # Not sorted by NS "
   ]
  },
  {
   "cell_type": "code",
   "execution_count": 15,
   "metadata": {
    "ExecuteTime": {
     "end_time": "2019-08-09T18:00:10.818020Z",
     "start_time": "2019-08-09T18:00:10.627830Z"
    }
   },
   "outputs": [],
   "source": [
    "from obonet import read_obo\n",
    "\n",
    "with open('go2gene.txt', 'r') as file:\n",
    "     go2gene = json.loads(file.read())\n",
    "        \n",
    "with open('genes2Ontology.txt', 'r') as file:\n",
    "     genes2go = json.loads(file.read())\n",
    "genes2go = {int(k):(v) for k,v in genes2go.items()} # Converts key back to int \n",
    "\n",
    "goinfo = read_obo('go-basic.obo')"
   ]
  },
  {
   "cell_type": "code",
   "execution_count": 3,
   "metadata": {
    "ExecuteTime": {
     "end_time": "2019-08-09T18:00:10.867848Z",
     "start_time": "2019-08-09T18:00:10.864478Z"
    },
    "code_folding": []
   },
   "outputs": [],
   "source": [
    "# Returns all GO terms associated with geneL input. Has no duplicates \n",
    "def getOntologyID(geneIDL):\n",
    "    GOList = []\n",
    "    for gene in geneIDL:\n",
    "        if gene in genes2go.keys():\n",
    "            terms = genes2go[gene]\n",
    "            GOList += terms \n",
    "    return list(set(GOList)) "
   ]
  },
  {
   "cell_type": "code",
   "execution_count": 4,
   "metadata": {
    "ExecuteTime": {
     "end_time": "2019-08-14T20:34:19.105962Z",
     "start_time": "2019-08-14T20:34:19.102233Z"
    }
   },
   "outputs": [],
   "source": [
    "# Finds common between two lists and returns its length 0 if none \n",
    "def common_member(a, b): \n",
    "    a_set = set(a) \n",
    "    b_set = set(b) \n",
    "    if (a_set & b_set): \n",
    "        return list(a_set & b_set) \n",
    "    else: \n",
    "        return []"
   ]
  },
  {
   "cell_type": "code",
   "execution_count": 5,
   "metadata": {
    "ExecuteTime": {
     "end_time": "2019-08-09T18:00:10.878552Z",
     "start_time": "2019-08-09T18:00:10.875145Z"
    }
   },
   "outputs": [],
   "source": [
    "# Finds common between two lists and returns its common members or empty list\n",
    "def listCommonMember(a, b): \n",
    "    a_set = set(a) \n",
    "    b_set = set(b) \n",
    "    if (a_set & b_set): \n",
    "        return list(a_set & b_set)\n",
    "    else: \n",
    "        return []"
   ]
  },
  {
   "cell_type": "code",
   "execution_count": 6,
   "metadata": {
    "ExecuteTime": {
     "end_time": "2019-08-09T18:00:10.884929Z",
     "start_time": "2019-08-09T18:00:10.880723Z"
    },
    "code_folding": []
   },
   "outputs": [],
   "source": [
    "# Returns genes that have go term \n",
    "# This isn't needed anymore! slow \n",
    "def getKeysByValue(dictOfElements, valueToFind):\n",
    "    listOfKeys = list()\n",
    "    listOfItems = dictOfElements.items()\n",
    "    for item in listOfItems:\n",
    "        if valueToFind in list(item[1]):\n",
    "            listOfKeys.append(item[0])\n",
    "    return listOfKeys"
   ]
  },
  {
   "cell_type": "code",
   "execution_count": 7,
   "metadata": {
    "ExecuteTime": {
     "end_time": "2019-08-09T18:00:10.891211Z",
     "start_time": "2019-08-09T18:00:10.886479Z"
    }
   },
   "outputs": [],
   "source": [
    "# Returns dict with entrezID and its corresponding domain length\n",
    "def getEntrezDomain(frame):\n",
    "    entrezIDS = []\n",
    "    domainVAL = []\n",
    "    for df in frame:\n",
    "        entrezS = list(df.entrezid.values)    \n",
    "        domainS = list(df.domainLEN.values)\n",
    "        entrezIDS += entrezS\n",
    "        domainVAL += domainS\n",
    "    out = {}\n",
    "    for i in range(len(entrezIDS)):\n",
    "        out.update({entrezIDS[i]:domainVAL[i]})\n",
    "    return out"
   ]
  },
  {
   "cell_type": "code",
   "execution_count": 8,
   "metadata": {
    "ExecuteTime": {
     "end_time": "2019-08-10T18:25:05.246057Z",
     "start_time": "2019-08-10T18:25:05.222151Z"
    }
   },
   "outputs": [],
   "source": [
    "# Returns S M L Counters for every go term using list of mapped genes \n",
    "def SMLcounters(GOlist, mappedList, SMLcutoff, entrezDomains):\n",
    "    minimum = SMLcutoff[0]\n",
    "    maximum = SMLcutoff[1]\n",
    "    go2counter = {}\n",
    "    for go in GOlist:\n",
    "        domains = []\n",
    "        for gene in go2gene[go]:\n",
    "            try: \n",
    "                domains.append(entrezDomains[gene])\n",
    "            except:\n",
    "                None\n",
    "        smallGenes = len(list(filter((lambda x: x <= minimum), domains)))\n",
    "        mediumGenes = len(list(filter((lambda x: x > minimum and x <= maximum), domains)))\n",
    "        largeGenes = len(list(filter((lambda x: x > maximum), domains)))\n",
    "        s = 0\n",
    "        m = 0\n",
    "        l = 0\n",
    "        common = listCommonMember(go2gene[go], mappedList)\n",
    "        for entrezid in common:\n",
    "            domain = entrezDomains[entrezid]\n",
    "            if domain <= minimum:\n",
    "                s += 1\n",
    "            elif domain > maximum:\n",
    "                l += 1 \n",
    "            else:\n",
    "                m += 1\n",
    "        if smallGenes == 0:\n",
    "            s = 'NA'\n",
    "        if mediumGenes == 0:\n",
    "            m = 'NA'\n",
    "        if largeGenes == 0:\n",
    "            l = 'NA'\n",
    "        go2counter.update({go:[s,m,l]})\n",
    "    return go2counter"
   ]
  },
  {
   "cell_type": "code",
   "execution_count": 9,
   "metadata": {
    "ExecuteTime": {
     "end_time": "2019-08-09T18:00:10.907109Z",
     "start_time": "2019-08-09T18:00:10.901848Z"
    }
   },
   "outputs": [],
   "source": [
    "def SMLcounting(inputs):\n",
    "    GOlist = inputs[0]\n",
    "    mappedList = inputs[1]\n",
    "    SMLcutoff = inputs[2]\n",
    "    entrezDomains = inputs[3]\n",
    "    minimum = SMLcutoff[0]\n",
    "    maximum = SMLcutoff[1]\n",
    "    go2counter = {}\n",
    "    \n",
    "    for go in GOlist:\n",
    "        s = 0\n",
    "        m = 0\n",
    "        l = 0\n",
    "        common = listCommonMember(go2gene[go], mappedList)\n",
    "        for entrezid in common:\n",
    "            domain = entrezDomains[entrezid]\n",
    "            if domain < minimum:\n",
    "                s += 1\n",
    "            elif domain > maximum:\n",
    "                l += 1 \n",
    "            else:\n",
    "                m += 1\n",
    "        go2counter.update({go:[s,m,l]})\n",
    "    return go2counter"
   ]
  },
  {
   "cell_type": "code",
   "execution_count": 10,
   "metadata": {
    "ExecuteTime": {
     "end_time": "2019-08-09T18:00:10.914035Z",
     "start_time": "2019-08-09T18:00:10.908578Z"
    }
   },
   "outputs": [],
   "source": [
    "# SML counter with multiprocessing \n",
    "def SMLcounterFAST(GOlist, mappedList, SMLcutoff, entrezDomains):\n",
    "    x = int(len(GOlist) / 5)\n",
    "    x1 = GOlist[:x]\n",
    "    x2 = GOlist[x:x*2]\n",
    "    x3 = GOlist[x*2:x*3]\n",
    "    x4 = GOlist[x*3:x*4]\n",
    "    x5 = GOlist[x*4:]\n",
    "    \n",
    "    pool = Pool(5)\n",
    "    result = pool.map(SMLcounting, [[x1, mappedList, SMLcutoff, entrezDomains], [x2, mappedList, SMLcutoff, entrezDomains], [x3, mappedList, SMLcutoff, entrezDomains], [x4, mappedList, SMLcutoff, entrezDomains], [x5, mappedList, SMLcutoff, entrezDomains]])\n",
    "    pool.close() \n",
    "    \n",
    "    counters = {}\n",
    "    for res in result:\n",
    "        counters.update(res)\n",
    "    return counters \n",
    "    "
   ]
  },
  {
   "cell_type": "code",
   "execution_count": 11,
   "metadata": {
    "ExecuteTime": {
     "end_time": "2019-08-09T18:13:56.118487Z",
     "start_time": "2019-08-09T18:13:56.111952Z"
    },
    "scrolled": true
   },
   "outputs": [],
   "source": [
    "# Conducts GO analysis to find odds ratio and p-value for each go term. \n",
    "def conductAnalysisFIRST(mappedGeneL, SMLclassification, entrezDomains):\n",
    "    geneNum = 21294 # Num of genes intotal in DF - the duplicates\n",
    "    mappedGeneNum = len(mappedGeneL)\n",
    "    OntologyL = getOntologyID(mappedGeneL)\n",
    "    goTermAnalysis = {}\n",
    "    \n",
    "    for go in OntologyL:\n",
    "        genesAssocGO = go2gene[go] \n",
    "        A = common_member(genesAssocGO, mappedGeneL) # Num of common members between two lists  \n",
    "        B = mappedGeneNum - A  # Num of genes in mapped list but not in go gene list \n",
    "        C = len(genesAssocGO) - A # Num genes in go gene list but not in mapped list \n",
    "        D = geneNum - (A+B+C) # Num total genes in genome - (A+B+C) = D \n",
    "        oddsratio, pvalue = stats.fisher_exact([[A, B], [C, D]])\n",
    "        out = [oddsratio, pvalue] # 0 represents small, medium and large\n",
    "        goTermAnalysis.update({go:out})\n",
    "   \n",
    "    counters = SMLcounters(OntologyL, mappedGeneL, SMLclassification, entrezDomains)\n",
    "#     return counters\n",
    "    for go in goTermAnalysis.keys():\n",
    "        goTermAnalysis[go] += counters[go]\n",
    "        goTermAnalysis[go] += [0, 0, 0]\n",
    "        \n",
    "    return goTermAnalysis"
   ]
  },
  {
   "cell_type": "code",
   "execution_count": 12,
   "metadata": {
    "ExecuteTime": {
     "end_time": "2019-08-09T18:00:10.928819Z",
     "start_time": "2019-08-09T18:00:10.923972Z"
    }
   },
   "outputs": [],
   "source": [
    "# This and the one below isn't being used at the moment \n",
    "def analysis(inputs):\n",
    "    goTerms = inputs[0]\n",
    "    mappedGeneNum = inputs[1]\n",
    "    mappedGeneL = inputs[2]\n",
    "    SML = inputs[3]\n",
    "    entrezDomains = inputs[4]\n",
    "    geneNum = 21294 \n",
    "    \n",
    "    goTermAnalysis = {}\n",
    "    for go in goTerms:\n",
    "        \n",
    "        out = [0, 0, 0] # 0 represents small, medium and large\n",
    "        goTermAnalysis.update({go:out})\n",
    "        \n",
    "    return goTermAnalysis"
   ]
  },
  {
   "cell_type": "code",
   "execution_count": 13,
   "metadata": {
    "ExecuteTime": {
     "end_time": "2019-08-09T18:00:10.937713Z",
     "start_time": "2019-08-09T18:00:10.931846Z"
    }
   },
   "outputs": [],
   "source": [
    "# Conducts GO analysis to find odds ratio and p-value for each go term. \n",
    "def simConductAnalysisFast(geneL, OntologyL, SML, entrezDomains):\n",
    "    mappedGeneNum = len(geneL)\n",
    "\n",
    "    goTermAnalysis = {}\n",
    "    \n",
    "    x = int(len(OntologyL) / 5)\n",
    "    x1 = OntologyL[:x]\n",
    "    x2 = OntologyL[x:x*2]\n",
    "    x3 = OntologyL[x*2:x*3]\n",
    "    x4 = OntologyL[x*3:x*4]\n",
    "    x5 = OntologyL[x*4:]\n",
    "    pool = Pool(5)\n",
    "    result = pool.map(analysis, [[x1, mappedGeneNum, geneL, SML, entrezDomains], [x2, mappedGeneNum, geneL, SML, entrezDomains], [x3, mappedGeneNum, geneL, SML, entrezDomains], [x4, mappedGeneNum, geneL, SML, entrezDomains], [x5, mappedGeneNum, geneL, SML, entrezDomains]])\n",
    "    pool.close() \n",
    "    \n",
    "    for res in result:\n",
    "        goTermAnalysis.update(res)\n",
    "    \n",
    "    return goTermAnalysis\n"
   ]
  },
  {
   "cell_type": "code",
   "execution_count": null,
   "metadata": {},
   "outputs": [],
   "source": []
  }
 ],
 "metadata": {
  "kernelspec": {
   "display_name": "Python 3",
   "language": "python",
   "name": "python3"
  },
  "language_info": {
   "codemirror_mode": {
    "name": "ipython",
    "version": 3
   },
   "file_extension": ".py",
   "mimetype": "text/x-python",
   "name": "python",
   "nbconvert_exporter": "python",
   "pygments_lexer": "ipython3",
   "version": "3.7.3"
  },
  "varInspector": {
   "cols": {
    "lenName": 16,
    "lenType": 16,
    "lenVar": 40
   },
   "kernels_config": {
    "python": {
     "delete_cmd_postfix": "",
     "delete_cmd_prefix": "del ",
     "library": "var_list.py",
     "varRefreshCmd": "print(var_dic_list())"
    },
    "r": {
     "delete_cmd_postfix": ") ",
     "delete_cmd_prefix": "rm(",
     "library": "var_list.r",
     "varRefreshCmd": "cat(var_dic_list()) "
    }
   },
   "position": {
    "height": "435.398px",
    "left": "875.903px",
    "right": "20px",
    "top": "41.9972px",
    "width": "450.71px"
   },
   "types_to_exclude": [
    "module",
    "function",
    "builtin_function_or_method",
    "instance",
    "_Feature"
   ],
   "window_display": false
  }
 },
 "nbformat": 4,
 "nbformat_minor": 2
}
